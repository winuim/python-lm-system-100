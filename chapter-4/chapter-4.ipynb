{
 "cells": [
  {
   "cell_type": "code",
   "execution_count": 27,
   "metadata": {},
   "outputs": [],
   "source": [
    "# Google Colaboratoryを使用する場合は、下記のコメントアウトを外し、実行してください"
   ]
  },
  {
   "cell_type": "code",
   "execution_count": 28,
   "metadata": {},
   "outputs": [],
   "source": [
    "# # 下記セルを実行すると、authorization codeの入力を求められます。\n",
    "# # 出力されたリンク先をクリックし、Googleアカウントにログインし、\n",
    "# # authorization codeをコピーし、貼り付けをおこなってください。\n",
    "# import os\n",
    "# from google.colab import drive\n",
    "# drive.mount('/content/drive')"
   ]
  },
  {
   "cell_type": "code",
   "execution_count": 29,
   "metadata": {},
   "outputs": [],
   "source": [
    "# working_dir = 'MLSys_100Knocks' #　※※自分で作成したフォルダパスが異なる場合こちらを変更してください。※※\n",
    "# path = f'/content/drive/MyDrive/{working_dir}/本章/4章'\n",
    "# os.chdir(path)\n",
    "# ! pip install japanize-matplotlib"
   ]
  },
  {
   "cell_type": "markdown",
   "metadata": {},
   "source": [
    "# ４章　レポーティングする仕組みを構築する10本ノック"
   ]
  },
  {
   "cell_type": "markdown",
   "metadata": {},
   "source": [
    "### ノック３１：特定店舗の売上をExcelにして出力してみよう"
   ]
  },
  {
   "cell_type": "code",
   "execution_count": 30,
   "metadata": {},
   "outputs": [
    {
     "name": "stdout",
     "output_type": "stream",
     "text": [
      "/workspaces/python-lm-system-100/chapter-4/tbl_order_202004.csv:233260\n",
      "/workspaces/python-lm-system-100/chapter-4/tbl_order_202005.csv:241139\n",
      "/workspaces/python-lm-system-100/chapter-4/tbl_order_202006.csv:233301\n"
     ]
    },
    {
     "data": {
      "text/html": [
       "<div>\n",
       "<style scoped>\n",
       "    .dataframe tbody tr th:only-of-type {\n",
       "        vertical-align: middle;\n",
       "    }\n",
       "\n",
       "    .dataframe tbody tr th {\n",
       "        vertical-align: top;\n",
       "    }\n",
       "\n",
       "    .dataframe thead th {\n",
       "        text-align: right;\n",
       "    }\n",
       "</style>\n",
       "<table border=\"1\" class=\"dataframe\">\n",
       "  <thead>\n",
       "    <tr style=\"text-align: right;\">\n",
       "      <th></th>\n",
       "      <th>order_id</th>\n",
       "      <th>store_id</th>\n",
       "      <th>customer_id</th>\n",
       "      <th>coupon_cd</th>\n",
       "      <th>sales_detail_id</th>\n",
       "      <th>order_accept_date</th>\n",
       "      <th>delivered_date</th>\n",
       "      <th>takeout_flag</th>\n",
       "      <th>total_amount</th>\n",
       "      <th>status</th>\n",
       "      <th>store_name</th>\n",
       "      <th>area_cd</th>\n",
       "      <th>wide_area</th>\n",
       "      <th>narrow_area</th>\n",
       "      <th>takeout_name</th>\n",
       "      <th>status_name</th>\n",
       "      <th>order_date</th>\n",
       "    </tr>\n",
       "  </thead>\n",
       "  <tbody>\n",
       "    <tr>\n",
       "      <th>0</th>\n",
       "      <td>79339111</td>\n",
       "      <td>49</td>\n",
       "      <td>C26387220</td>\n",
       "      <td>50</td>\n",
       "      <td>67393872</td>\n",
       "      <td>2020-04-01 11:00:00</td>\n",
       "      <td>2020-04-01 11:18:00</td>\n",
       "      <td>1</td>\n",
       "      <td>4144</td>\n",
       "      <td>1</td>\n",
       "      <td>浅草店</td>\n",
       "      <td>TK</td>\n",
       "      <td>東京</td>\n",
       "      <td>東京</td>\n",
       "      <td>お持ち帰り</td>\n",
       "      <td>お支払済</td>\n",
       "      <td>2020-04-01</td>\n",
       "    </tr>\n",
       "    <tr>\n",
       "      <th>1</th>\n",
       "      <td>18941733</td>\n",
       "      <td>85</td>\n",
       "      <td>C48773811</td>\n",
       "      <td>26</td>\n",
       "      <td>91834983</td>\n",
       "      <td>2020-04-01 11:00:00</td>\n",
       "      <td>2020-04-01 11:22:00</td>\n",
       "      <td>0</td>\n",
       "      <td>2877</td>\n",
       "      <td>2</td>\n",
       "      <td>目黒店</td>\n",
       "      <td>TK</td>\n",
       "      <td>東京</td>\n",
       "      <td>東京</td>\n",
       "      <td>デリバリー</td>\n",
       "      <td>お渡し済</td>\n",
       "      <td>2020-04-01</td>\n",
       "    </tr>\n",
       "    <tr>\n",
       "      <th>2</th>\n",
       "      <td>56217880</td>\n",
       "      <td>76</td>\n",
       "      <td>C66287421</td>\n",
       "      <td>36</td>\n",
       "      <td>64409634</td>\n",
       "      <td>2020-04-01 11:00:00</td>\n",
       "      <td>2020-04-01 11:15:00</td>\n",
       "      <td>0</td>\n",
       "      <td>2603</td>\n",
       "      <td>2</td>\n",
       "      <td>本郷店</td>\n",
       "      <td>TK</td>\n",
       "      <td>東京</td>\n",
       "      <td>東京</td>\n",
       "      <td>デリバリー</td>\n",
       "      <td>お渡し済</td>\n",
       "      <td>2020-04-01</td>\n",
       "    </tr>\n",
       "    <tr>\n",
       "      <th>3</th>\n",
       "      <td>28447783</td>\n",
       "      <td>190</td>\n",
       "      <td>C41156423</td>\n",
       "      <td>19</td>\n",
       "      <td>73032165</td>\n",
       "      <td>2020-04-01 11:00:00</td>\n",
       "      <td>2020-04-01 11:16:00</td>\n",
       "      <td>0</td>\n",
       "      <td>2732</td>\n",
       "      <td>2</td>\n",
       "      <td>栃木店</td>\n",
       "      <td>TO</td>\n",
       "      <td>北関東</td>\n",
       "      <td>栃木</td>\n",
       "      <td>デリバリー</td>\n",
       "      <td>お渡し済</td>\n",
       "      <td>2020-04-01</td>\n",
       "    </tr>\n",
       "    <tr>\n",
       "      <th>4</th>\n",
       "      <td>32576156</td>\n",
       "      <td>191</td>\n",
       "      <td>C54568117</td>\n",
       "      <td>71</td>\n",
       "      <td>23281182</td>\n",
       "      <td>2020-04-01 11:00:00</td>\n",
       "      <td>2020-04-01 11:53:00</td>\n",
       "      <td>0</td>\n",
       "      <td>2987</td>\n",
       "      <td>2</td>\n",
       "      <td>伊勢崎店</td>\n",
       "      <td>GU</td>\n",
       "      <td>北関東</td>\n",
       "      <td>群馬</td>\n",
       "      <td>デリバリー</td>\n",
       "      <td>お渡し済</td>\n",
       "      <td>2020-04-01</td>\n",
       "    </tr>\n",
       "  </tbody>\n",
       "</table>\n",
       "</div>"
      ],
      "text/plain": [
       "   order_id  store_id customer_id  coupon_cd  sales_detail_id  \\\n",
       "0  79339111        49   C26387220         50         67393872   \n",
       "1  18941733        85   C48773811         26         91834983   \n",
       "2  56217880        76   C66287421         36         64409634   \n",
       "3  28447783       190   C41156423         19         73032165   \n",
       "4  32576156       191   C54568117         71         23281182   \n",
       "\n",
       "     order_accept_date       delivered_date  takeout_flag  total_amount  \\\n",
       "0  2020-04-01 11:00:00  2020-04-01 11:18:00             1          4144   \n",
       "1  2020-04-01 11:00:00  2020-04-01 11:22:00             0          2877   \n",
       "2  2020-04-01 11:00:00  2020-04-01 11:15:00             0          2603   \n",
       "3  2020-04-01 11:00:00  2020-04-01 11:16:00             0          2732   \n",
       "4  2020-04-01 11:00:00  2020-04-01 11:53:00             0          2987   \n",
       "\n",
       "   status store_name area_cd wide_area narrow_area takeout_name status_name  \\\n",
       "0       1        浅草店      TK        東京          東京        お持ち帰り        お支払済   \n",
       "1       2        目黒店      TK        東京          東京        デリバリー        お渡し済   \n",
       "2       2        本郷店      TK        東京          東京        デリバリー        お渡し済   \n",
       "3       2        栃木店      TO       北関東          栃木        デリバリー        お渡し済   \n",
       "4       2       伊勢崎店      GU       北関東          群馬        デリバリー        お渡し済   \n",
       "\n",
       "   order_date  \n",
       "0  2020-04-01  \n",
       "1  2020-04-01  \n",
       "2  2020-04-01  \n",
       "3  2020-04-01  \n",
       "4  2020-04-01  "
      ]
     },
     "execution_count": 30,
     "metadata": {},
     "output_type": "execute_result"
    }
   ],
   "source": [
    "import pandas as pd\n",
    "import glob\n",
    "import os\n",
    "\n",
    "m_store = pd.read_csv(\"m_store.csv\")\n",
    "m_area = pd.read_csv(\"m_area.csv\")\n",
    "\n",
    "current_dir = os.getcwd()\n",
    "tbl_order_file = os.path.join(current_dir, \"tbl_order_*.csv\")\n",
    "tbl_order_files = glob.glob(tbl_order_file)\n",
    "\n",
    "order_all = pd.DataFrame()\n",
    "for file in tbl_order_files:\n",
    "    order_temp = pd.read_csv(file)\n",
    "    print(f'{file}:{len(order_temp)}')\n",
    "    order_all = pd.concat([order_all, order_temp], ignore_index=True)\n",
    "\n",
    "order_all = order_all.loc[order_all[\"store_id\"]!=999]\n",
    "\n",
    "order_all = pd.merge(order_all, m_store, on=\"store_id\", how=\"left\")\n",
    "order_all = pd.merge(order_all, m_area, on=\"area_cd\", how=\"left\")\n",
    "\n",
    "order_all.loc[order_all[\"takeout_flag\"]==0, \"takeout_name\"] = \"デリバリー\"\n",
    "order_all.loc[order_all[\"takeout_flag\"]==1, \"takeout_name\"] = \"お持ち帰り\"\n",
    "\n",
    "order_all.loc[order_all[\"status\"]==0, \"status_name\"] = \"受付\"\n",
    "order_all.loc[order_all[\"status\"]==1, \"status_name\"] = \"お支払済\"\n",
    "order_all.loc[order_all[\"status\"]==2, \"status_name\"] = \"お渡し済\"\n",
    "order_all.loc[order_all[\"status\"]==9, \"status_name\"] = \"キャンセル\"\n",
    "\n",
    "order_all.loc[:, \"order_date\"] = pd.to_datetime(order_all[\"order_accept_date\"]).dt.date\n",
    "\n",
    "order_all.head()"
   ]
  },
  {
   "cell_type": "code",
   "execution_count": 31,
   "metadata": {},
   "outputs": [],
   "source": [
    "import openpyxl\n",
    "\n",
    "wb = openpyxl.Workbook()\n",
    "ws = wb[\"Sheet\"]\n",
    "ws.cell(1,1).value = \"書き込みテストです。\"\n",
    "wb.save(\"test.xlsx\")\n",
    "wb.close()"
   ]
  },
  {
   "cell_type": "code",
   "execution_count": 32,
   "metadata": {},
   "outputs": [
    {
     "name": "stdout",
     "output_type": "stream",
     "text": [
      "書き込みテストです。\n"
     ]
    }
   ],
   "source": [
    "wb = openpyxl.load_workbook(\"test.xlsx\", read_only=True)\n",
    "ws = wb[\"Sheet\"]\n",
    "print(ws.cell(1,1).value)\n",
    "wb.close()"
   ]
  },
  {
   "cell_type": "code",
   "execution_count": 33,
   "metadata": {},
   "outputs": [
    {
     "name": "stdout",
     "output_type": "stream",
     "text": [
      "売上額確認 9004535 = 9004535\n"
     ]
    },
    {
     "data": {
      "text/html": [
       "<div>\n",
       "<style scoped>\n",
       "    .dataframe tbody tr th:only-of-type {\n",
       "        vertical-align: middle;\n",
       "    }\n",
       "\n",
       "    .dataframe tbody tr th {\n",
       "        vertical-align: top;\n",
       "    }\n",
       "\n",
       "    .dataframe thead th {\n",
       "        text-align: right;\n",
       "    }\n",
       "</style>\n",
       "<table border=\"1\" class=\"dataframe\">\n",
       "  <thead>\n",
       "    <tr style=\"text-align: right;\">\n",
       "      <th></th>\n",
       "      <th>order_accept_date</th>\n",
       "      <th>customer_id</th>\n",
       "      <th>total_amount</th>\n",
       "      <th>takeout_name</th>\n",
       "      <th>status_name</th>\n",
       "    </tr>\n",
       "  </thead>\n",
       "  <tbody>\n",
       "    <tr>\n",
       "      <th>115</th>\n",
       "      <td>2020-04-01 11:09:09</td>\n",
       "      <td>C25851661</td>\n",
       "      <td>2471</td>\n",
       "      <td>デリバリー</td>\n",
       "      <td>お渡し済</td>\n",
       "    </tr>\n",
       "    <tr>\n",
       "      <th>138</th>\n",
       "      <td>2020-04-01 11:11:11</td>\n",
       "      <td>C78632079</td>\n",
       "      <td>2112</td>\n",
       "      <td>デリバリー</td>\n",
       "      <td>キャンセル</td>\n",
       "    </tr>\n",
       "    <tr>\n",
       "      <th>332</th>\n",
       "      <td>2020-04-01 11:28:28</td>\n",
       "      <td>C44700154</td>\n",
       "      <td>2122</td>\n",
       "      <td>デリバリー</td>\n",
       "      <td>キャンセル</td>\n",
       "    </tr>\n",
       "    <tr>\n",
       "      <th>591</th>\n",
       "      <td>2020-04-01 11:49:49</td>\n",
       "      <td>C80269937</td>\n",
       "      <td>2615</td>\n",
       "      <td>お持ち帰り</td>\n",
       "      <td>お支払済</td>\n",
       "    </tr>\n",
       "    <tr>\n",
       "      <th>773</th>\n",
       "      <td>2020-04-01 12:05:05</td>\n",
       "      <td>C70409495</td>\n",
       "      <td>4692</td>\n",
       "      <td>デリバリー</td>\n",
       "      <td>キャンセル</td>\n",
       "    </tr>\n",
       "  </tbody>\n",
       "</table>\n",
       "</div>"
      ],
      "text/plain": [
       "       order_accept_date customer_id  total_amount takeout_name status_name\n",
       "115  2020-04-01 11:09:09   C25851661          2471        デリバリー        お渡し済\n",
       "138  2020-04-01 11:11:11   C78632079          2112        デリバリー       キャンセル\n",
       "332  2020-04-01 11:28:28   C44700154          2122        デリバリー       キャンセル\n",
       "591  2020-04-01 11:49:49   C80269937          2615        お持ち帰り        お支払済\n",
       "773  2020-04-01 12:05:05   C70409495          4692        デリバリー       キャンセル"
      ]
     },
     "execution_count": 33,
     "metadata": {},
     "output_type": "execute_result"
    }
   ],
   "source": [
    "store_id = 1\n",
    "store_df = order_all.loc[order_all[\"store_id\"]==store_id].copy()\n",
    "store_name = store_df[\"store_name\"].unique()[0]\n",
    "store_sales_total = store_df.loc[store_df[\"status\"].isin([1,2])][\"total_amount\"].sum()\n",
    "store_sales_takeout = store_df.loc[store_df[\"status\"]==1][\"total_amount\"].sum()\n",
    "store_sales_delivery = store_df.loc[store_df[\"status\"]==2][\"total_amount\"].sum()\n",
    "print(f'売上額確認 {store_sales_total} = {store_sales_takeout + store_sales_delivery}')\n",
    "output_df = store_df[[\"order_accept_date\", \"customer_id\", \"total_amount\", \"takeout_name\", \"status_name\"]]\n",
    "output_df.head()"
   ]
  },
  {
   "cell_type": "code",
   "execution_count": 34,
   "metadata": {},
   "outputs": [],
   "source": [
    "from openpyxl.utils.dataframe import dataframe_to_rows\n",
    "\n",
    "store_title = f'{store_id}_{store_name}'\n",
    "\n",
    "wb = openpyxl.Workbook()\n",
    "ws = wb.active\n",
    "ws.title = store_title\n",
    "\n",
    "ws.cell(1,1).value = f'{store_title} 売上データ'\n",
    "\n",
    "rows = dataframe_to_rows(output_df, index=False, header=True)\n",
    "\n",
    "row_start = 3\n",
    "col_start = 2\n",
    "\n",
    "for row_no, row in enumerate(rows, row_start):\n",
    "    for col_no, value in enumerate(row, col_start):\n",
    "        ws.cell(row_no, col_no).value = value\n",
    "\n",
    "filename = f'{store_title}.xlsx'\n",
    "wb.save(filename)\n",
    "wb.close()"
   ]
  },
  {
   "cell_type": "markdown",
   "metadata": {},
   "source": [
    "### ノック３２：Excelの表を整えて出力してみよう"
   ]
  },
  {
   "cell_type": "code",
   "execution_count": 35,
   "metadata": {},
   "outputs": [],
   "source": [
    "from openpyxl.styles import PatternFill, Border, Side, Font\n",
    "\n",
    "openpyxl.load_workbook(filename)\n",
    "ws = wb[store_title]\n",
    "\n",
    "side = Side(style=\"thin\", color=\"008080\")\n",
    "border = Border(top=side, bottom=side, left=side, right=side)\n",
    "\n",
    "for row in ws:\n",
    "    for cell in row:\n",
    "        if ws[cell.coordinate].value:\n",
    "            ws[cell.coordinate].border = border "
   ]
  },
  {
   "cell_type": "code",
   "execution_count": 36,
   "metadata": {},
   "outputs": [],
   "source": [
    "ws.cell(1,1).font = Font(bold=True, color=\"008080\")\n",
    "\n",
    "cell = ws.cell(3, 2)\n",
    "cell.fill = PatternFill(patternType=\"solid\", fgColor=\"008080\")\n",
    "cell.value = \"注文受注日時\"\n",
    "cell.font = Font(bold=True, color=\"FFFFFF\")\n",
    "\n",
    "cell = ws.cell(3,3)\n",
    "cell.fill = PatternFill(patternType=\"solid\", fgColor=\"008080\")\n",
    "cell.value = \"顧客ID\"\n",
    "cell.font = Font(bold=True, color=\"FFFFFF\")\n",
    "\n",
    "cell = ws.cell(3,4)\n",
    "cell.fill = PatternFill(patternType=\"solid\", fgColor=\"008080\")\n",
    "cell.value = \"購入総額\"\n",
    "cell.font = Font(bold=True, color=\"FFFFFF\")\n",
    "\n",
    "cell = ws.cell(3,5)\n",
    "cell.fill = PatternFill(patternType=\"solid\", fgColor=\"008080\")\n",
    "cell.value = \"注文タイプ\"\n",
    "cell.font = Font(bold=True, color=\"FFFFFF\")\n",
    "\n",
    "cell = ws.cell(3,6)\n",
    "cell.fill = PatternFill(patternType=\"solid\", fgColor=\"008080\")\n",
    "cell.value = \"注文状態\"\n",
    "cell.font = Font(bold=True, color=\"FFFFFF\")\n",
    "\n",
    "ws.column_dimensions[\"A\"].width = 20\n",
    "ws.column_dimensions[\"B\"].width = 20\n",
    "ws.column_dimensions[\"C\"].width = 20\n",
    "ws.column_dimensions[\"D\"].width = 20\n",
    "ws.column_dimensions[\"E\"].width = 20\n",
    "ws.column_dimensions[\"F\"].width = 20\n",
    "\n",
    "wb.save(filename)\n",
    "wb.close()"
   ]
  },
  {
   "cell_type": "markdown",
   "metadata": {},
   "source": [
    "\n",
    "### ノック３３：売上以外のデータも出力してみよう"
   ]
  },
  {
   "cell_type": "code",
   "execution_count": 37,
   "metadata": {},
   "outputs": [
    {
     "data": {
      "text/html": [
       "<div>\n",
       "<style scoped>\n",
       "    .dataframe tbody tr th:only-of-type {\n",
       "        vertical-align: middle;\n",
       "    }\n",
       "\n",
       "    .dataframe tbody tr th {\n",
       "        vertical-align: top;\n",
       "    }\n",
       "\n",
       "    .dataframe thead th {\n",
       "        text-align: right;\n",
       "    }\n",
       "</style>\n",
       "<table border=\"1\" class=\"dataframe\">\n",
       "  <thead>\n",
       "    <tr style=\"text-align: right;\">\n",
       "      <th></th>\n",
       "      <th>count</th>\n",
       "      <th>mean</th>\n",
       "      <th>std</th>\n",
       "      <th>min</th>\n",
       "      <th>25%</th>\n",
       "      <th>50%</th>\n",
       "      <th>75%</th>\n",
       "      <th>max</th>\n",
       "    </tr>\n",
       "    <tr>\n",
       "      <th>store_id</th>\n",
       "      <th></th>\n",
       "      <th></th>\n",
       "      <th></th>\n",
       "      <th></th>\n",
       "      <th></th>\n",
       "      <th></th>\n",
       "      <th></th>\n",
       "      <th></th>\n",
       "    </tr>\n",
       "  </thead>\n",
       "  <tbody>\n",
       "    <tr>\n",
       "      <th>1</th>\n",
       "      <td>3553.0</td>\n",
       "      <td>34.477062</td>\n",
       "      <td>14.514403</td>\n",
       "      <td>10.0</td>\n",
       "      <td>22.0</td>\n",
       "      <td>34.0</td>\n",
       "      <td>47.0</td>\n",
       "      <td>59.0</td>\n",
       "    </tr>\n",
       "  </tbody>\n",
       "</table>\n",
       "</div>"
      ],
      "text/plain": [
       "           count       mean        std   min   25%   50%   75%   max\n",
       "store_id                                                            \n",
       "1         3553.0  34.477062  14.514403  10.0  22.0  34.0  47.0  59.0"
      ]
     },
     "execution_count": 37,
     "metadata": {},
     "output_type": "execute_result"
    }
   ],
   "source": [
    "def calc_delta(t):\n",
    "    t1, t2 = t \n",
    "    delta = t2 - t1\n",
    "    return delta.total_seconds()/60\n",
    "\n",
    "store_df.loc[:, \"order_accept_datetime\"] = pd.to_datetime(store_df[\"order_accept_date\"])\n",
    "store_df.loc[:, \"delivered_datetime\"] = pd.to_datetime(store_df[\"delivered_date\"])\n",
    "store_df.loc[:, \"delta\"] = store_df[[\"order_accept_datetime\", \"delivered_datetime\"]].apply(calc_delta, axis=1)\n",
    "\n",
    "delivery_time = store_df.groupby([\"store_id\"])[\"delta\"].describe()\n",
    "delivery_time"
   ]
  },
  {
   "cell_type": "code",
   "execution_count": 38,
   "metadata": {},
   "outputs": [],
   "source": [
    "openpyxl.load_workbook(filename)\n",
    "ws = wb[store_title]\n",
    "\n",
    "cell = ws.cell(1,7)\n",
    "cell.value = f'配達完了までの時間'\n",
    "cell.font = Font(bold=True, color=\"008080\")\n",
    "\n",
    "rows = dataframe_to_rows(delivery_time, index=False, header=True)\n",
    "\n",
    "row_start = 3\n",
    "col_start = 8\n",
    "\n",
    "for row_no, row in enumerate(rows, row_start):\n",
    "    for col_no, value in enumerate(row, col_start):\n",
    "        cell = ws.cell(row_no, col_no)\n",
    "        cell.value = value\n",
    "        cell.border = border\n",
    "        if row_no == row_start:\n",
    "            cell.fill = PatternFill(patternType=\"solid\", fgColor=\"008080\")\n",
    "            cell.font = Font(bold=True, color=\"FFFFFF\")\n",
    "\n",
    "filename = f'{store_title}.xlsx'\n",
    "wb.save(filename)\n",
    "wb.close()"
   ]
  },
  {
   "cell_type": "markdown",
   "metadata": {},
   "source": [
    "### ノック３４：問題のある箇所を赤字で出力してみよう"
   ]
  },
  {
   "cell_type": "code",
   "execution_count": 39,
   "metadata": {},
   "outputs": [],
   "source": [
    "openpyxl.load_workbook(filename)\n",
    "ws = wb[store_title]\n",
    "rows = dataframe_to_rows(output_df, index=False, header=True)\n",
    "\n",
    "row_start = 3\n",
    "col_start = 2\n",
    "\n",
    "for row_no, row in enumerate(rows, row_start):\n",
    "    if row_no == row_start:\n",
    "        continue\n",
    "    for col_no, value in enumerate(row, col_start):\n",
    "        ws.cell(row_no, col_no).value = value\n",
    "        if value == \"キャンセル\":\n",
    "            ws.cell(row_no, col_no).font = Font(bold=True, color=\"FF0000\")\n",
    "\n",
    "filename = f'{store_title}.xlsx'\n",
    "wb.save(filename)\n",
    "wb.close()"
   ]
  },
  {
   "cell_type": "code",
   "execution_count": null,
   "metadata": {},
   "outputs": [],
   "source": []
  },
  {
   "cell_type": "markdown",
   "metadata": {},
   "source": [
    "### ノック３５：エクセルのセル関数で日毎の集計をしてみよう"
   ]
  },
  {
   "cell_type": "code",
   "execution_count": null,
   "metadata": {},
   "outputs": [],
   "source": [
    "openpyxl.load_workbook(filename)\n",
    "ws = wb[store_title]\n",
    "\n",
    "cell = ws.cell(7,7)\n",
    "cell.value = \"集計\"\n",
    "cell.font = Font(bold=True, color=\"008080\")\n",
    "\n",
    "cell = ws.cell(8,8)\n",
    "cell.value = \"データ総額\"\n",
    "cell.font = Font(bold=True, color=\"008080\")\n",
    "\n",
    "cell = ws.cell(9,8)\n",
    "cell.value = \" 内 決済完了額\"\n",
    "cell.font = Font(bold=True)\n",
    "\n",
    "cell = ws.cell(9,10)\n",
    "cell.value = f'=SUMIF(F4:F{ws.max_row},\"<>キャンセル\",D4:D{ws.max_row})'\n",
    "\n",
    "cell = ws.cell(10,8)\n",
    "cell.value = \" 内 キャンセル額\"\n",
    "cell.font = Font(bold=True)\n",
    "\n",
    "cell = ws.cell(10,10)\n",
    "cell.value = f'=SUMIF(F4:F{ws.max_row},\"<>キャンセル\",D4:D{ws.max_row})'\n",
    "\n",
    "filename = f'{store_title}.xlsx'\n",
    "wb.save(filename)\n",
    "wb.close()"
   ]
  },
  {
   "cell_type": "code",
   "execution_count": null,
   "metadata": {},
   "outputs": [],
   "source": []
  },
  {
   "cell_type": "markdown",
   "metadata": {},
   "source": [
    "### ノック３６：折れ線グラフにして出力してみよう"
   ]
  },
  {
   "cell_type": "code",
   "execution_count": null,
   "metadata": {},
   "outputs": [],
   "source": [
    "from openpyxl.chart import Reference, BarChart, PieChart, LineChart, ScatterChart, Series\n",
    "\n",
    "openpyxl.load_workbook(filename)\n",
    "ws = wb[store_title]\n",
    "\n",
    "cell = ws.cell(7,7)\n",
    "cell.value = f'売上グラフ'\n",
    "cell.font = Font(bold=True, color=\"008080\")\n",
    "\n",
    "refy = Reference(ws, min_col=4, min_row=4, max_col=4, max_row=23)\n",
    "\n",
    "series = Series(refy, title=\"売上額\")\n",
    "\n",
    "chart = LineChart()\n",
    "chart.title = \"折れ線グラフ\"\n",
    "chart.x_axis.title = \"件数\"\n",
    "chart.y_axis.title = \"売上額\"\n",
    "chart.height = 10\n",
    "chart.width = 20\n",
    "chart.series.append(series)\n",
    "\n",
    "ws.add_chart(chart, \"H12\")\n",
    "\n",
    "filename = f'{store_title}.xlsx'\n",
    "wb.save(filename)\n",
    "wb.close()"
   ]
  },
  {
   "cell_type": "code",
   "execution_count": null,
   "metadata": {},
   "outputs": [],
   "source": []
  },
  {
   "cell_type": "markdown",
   "metadata": {},
   "source": [
    "### ノック３７：レポートに向けてデータを準備しよう"
   ]
  },
  {
   "cell_type": "code",
   "execution_count": null,
   "metadata": {},
   "outputs": [],
   "source": [
    "cancel_df = pd.DataFrame()\n",
    "cancel_cnt = order_all.loc[order_all[\"status\"]==9].groupby([\"store_id\"])[\"store_id\"].count()\n",
    "order_cnt = order_all.loc[order_all[\"status\"].isin([1,2,9])].groupby([\"store_id\"])[\"store_id\"].count()\n",
    "cancel_rate = (cancel_cnt/order_cnt)*100\n",
    "cancel_df[\"cancel_rate\"] = cancel_rate\n",
    "cancel_df = pd.merge(cancel_df, m_store, on=\"store_id\", how=\"left\")\n",
    "cancel_rank = cancel_df.sort_values(\"cancel_rate\", ascending=True).reset_index()\n",
    "\n",
    "def check_store_cancel_rank(trg_id):\n",
    "    tmp = cancel_rank.loc[cancel_rank[\"store_id\"]==trg_id].index + 1\n",
    "    return tmp[0]\n"
   ]
  },
  {
   "cell_type": "code",
   "execution_count": null,
   "metadata": {},
   "outputs": [],
   "source": [
    "def get_area_df(trg_id):\n",
    "    area_df = pd.DataFrame()\n",
    "    area_df = order_all.loc[order_all[\"area_cd\"]==store_df[\"area_cd\"].unique()[0]]\n",
    "    area_df = area_df.loc[area_df[\"status\"].isin([1,2])]\n",
    "    return area_df\n",
    "\n",
    "def get_area_rank_df(trg_id):\n",
    "    area_df = get_area_df(trg_id)\n",
    "    area_rank = area_df.groupby([\"store_id\"])[\"total_amount\"].sum().sort_values(ascending=False)\n",
    "    area_rank = pd.merge(area_rank, m_store, on=\"store_id\", how=\"left\")\n",
    "    return area_rank\n",
    "\n",
    "def check_store_sales_rank(trg_id):\n",
    "    area_rank = get_area_rank_df(trg_id)\n",
    "    tmp = area_rank.loc[area_rank[\"store_id\"]==trg_id].index + 1\n",
    "    return tmp[0]"
   ]
  },
  {
   "cell_type": "code",
   "execution_count": null,
   "metadata": {},
   "outputs": [],
   "source": [
    "def make_store_daily(trg_id):\n",
    "    tmp_store_df = order_all.loc[(order_all[\"store_id\"]==trg_id)&(order_all[\"status\"].isin([1,2]))]\n",
    "    tmp = tmp_store_df[[\"order_accept_date\", \"total_amount\"]].copy()\n",
    "    tmp.loc[:,\"order_accept_date\"] = pd.to_datetime(tmp[\"order_accept_date\"])\n",
    "    tmp.set_index(\"order_accept_date\", inplace=True)\n",
    "    tmp = tmp.resample(\"D\").sum().reset_index()\n",
    "    return tmp"
   ]
  },
  {
   "cell_type": "code",
   "execution_count": null,
   "metadata": {},
   "outputs": [],
   "source": [
    "def get_area_delivery(trg_id):\n",
    "    area_delivery = pd.DataFrame()\n",
    "    area_df = get_area_df(trg_id)\n",
    "    area_delivery = area_df.loc[area_df[\"status\"]==2].copy()\n",
    "    area_delivery.loc[:,\"order_accept_datetime\"] = pd.to_datetime(area_delivery[\"order_accept_date\"])\n",
    "    area_delivery.loc[:,\"delivered_datetime\"] = pd.to_datetime(area_delivery[\"delivered_date\"])\n",
    "    area_delivery.loc[:,\"delta\"] = area_delivery[[\"order_accept_datetime\", \"delivered_datetime\"]].apply(calc_delta, axis=1)\n",
    "    return area_delivery\n",
    "\n",
    "def get_area_delivery_rank_df(trg_id):\n",
    "    area_delivery = get_area_delivery(trg_id)\n",
    "    area_delivery_rank = area_delivery.groupby([\"store_id\"])[\"delta\"].mean().sort_values()\n",
    "    area_delivery_rank = pd.merge(area_delivery_rank, m_store, on=\"store_id\", how=\"left\")\n",
    "    return area_delivery_rank\n",
    "\n",
    "def check_store_delivery_rank(trg_id):\n",
    "    area_delivery_rank = get_area_delivery_rank_df(trg_id)\n",
    "    tmp = area_delivery_rank.loc[area_delivery_rank[\"store_id\"]==trg_id].index + 1\n",
    "    return tmp[0]"
   ]
  },
  {
   "cell_type": "markdown",
   "metadata": {},
   "source": [
    "### ノック３８：データシートに必要なデータを出力しよう"
   ]
  },
  {
   "cell_type": "code",
   "execution_count": null,
   "metadata": {},
   "outputs": [],
   "source": [
    "if os.path.exists(\"test.xlsx\"):\n",
    "    os.remove(\"test.xlsx\")\n",
    "if os.path.exists(filename):\n",
    "    os.remove(filename)\n"
   ]
  },
  {
   "cell_type": "code",
   "execution_count": null,
   "metadata": {},
   "outputs": [],
   "source": [
    "def data_sheet_output(trg_wb, sheetname, target_df, indexFlg):\n",
    "    ws = trg_wb.create_sheet(title=sheetname)\n",
    "    rows = dataframe_to_rows(target_df, index=indexFlg, header=True)\n",
    "    row_start = 1\n",
    "    col_start = 1\n",
    "    for row_no, row in enumerate(rows, row_start):\n",
    "        for col_no, value in enumerate(row, col_start):\n",
    "            ws.cell(row_no, col_no).value = value\n",
    "    ws.sheet_state = \"hidden\""
   ]
  },
  {
   "cell_type": "code",
   "execution_count": null,
   "metadata": {},
   "outputs": [],
   "source": [
    "def make_data_sheet(trg_id, trg_st_df, targetfolder):\n",
    "    target_daily = make_store_daily(trg_id)\n",
    "    store_name = trg_st_df[\"store_name\"].unique()[0]\n",
    "    store_title = f'{trg_id}_{store_name}'\n",
    "    wb = openpyxl.Workbook()\n",
    "    data_sheet_output(wb, \"Data_CancelRank\", cancel_rank, False)\n",
    "    data_sheet_output(wb, \"Data_AreaBank\", get_area_rank_df(trg_id), False)\n",
    "    data_sheet_output(wb, \"Data_DeliveryRank\", get_area_delivery_rank_df(trg_id), False)\n",
    "    data_sheet_output(wb, \"Data_Target_Daily\", target_daily, False)\n",
    "    filename = os.path.join(targetfolder, f'{store_title}.xlsx')\n",
    "    wb.save(filename)\n",
    "    wb.close()\n",
    "    return filename"
   ]
  },
  {
   "cell_type": "code",
   "execution_count": null,
   "metadata": {},
   "outputs": [],
   "source": [
    "filaname_store = make_data_sheet(store_id, store_df, \"\")"
   ]
  },
  {
   "cell_type": "markdown",
   "metadata": {},
   "source": [
    "### ノック３９：サマリーシートを作成しよう"
   ]
  },
  {
   "cell_type": "code",
   "execution_count": null,
   "metadata": {},
   "outputs": [],
   "source": []
  },
  {
   "cell_type": "code",
   "execution_count": null,
   "metadata": {},
   "outputs": [],
   "source": []
  },
  {
   "cell_type": "markdown",
   "metadata": {},
   "source": [
    "### ノック４０：店舗別にレポートをExcel出力してみよう"
   ]
  },
  {
   "cell_type": "code",
   "execution_count": null,
   "metadata": {},
   "outputs": [],
   "source": []
  },
  {
   "cell_type": "code",
   "execution_count": null,
   "metadata": {},
   "outputs": [],
   "source": []
  }
 ],
 "metadata": {
  "kernelspec": {
   "display_name": "Python 3.10.4 ('base')",
   "language": "python",
   "name": "python3"
  },
  "language_info": {
   "codemirror_mode": {
    "name": "ipython",
    "version": 3
   },
   "file_extension": ".py",
   "mimetype": "text/x-python",
   "name": "python",
   "nbconvert_exporter": "python",
   "pygments_lexer": "ipython3",
   "version": "3.10.4"
  },
  "vscode": {
   "interpreter": {
    "hash": "d4d1e4263499bec80672ea0156c357c1ee493ec2b1c70f0acce89fc37c4a6abe"
   }
  }
 },
 "nbformat": 4,
 "nbformat_minor": 2
}
