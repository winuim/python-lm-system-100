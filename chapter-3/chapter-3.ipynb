{
 "cells": [
  {
   "cell_type": "code",
   "execution_count": 1,
   "metadata": {},
   "outputs": [],
   "source": [
    "# Google Colaboratoryを使用する場合は、下記のコメントアウトを外し、実行してください"
   ]
  },
  {
   "cell_type": "code",
   "execution_count": 2,
   "metadata": {},
   "outputs": [],
   "source": [
    "# # 下記セルを実行すると、authorization codeの入力を求められます。\n",
    "# # 出力されたリンク先をクリックし、Googleアカウントにログインし、\n",
    "# # authorization codeをコピーし、貼り付けをおこなってください。\n",
    "# import os\n",
    "# from google.colab import drive\n",
    "# drive.mount('/content/drive')"
   ]
  },
  {
   "cell_type": "code",
   "execution_count": 3,
   "metadata": {},
   "outputs": [],
   "source": [
    "# working_dir = 'MLSys_100Knocks' #　※※自分で作成したフォルダパスが異なる場合こちらを変更してください。※※\n",
    "# path = f'/content/drive/MyDrive/{working_dir}/本章/3章'\n",
    "# os.chdir(path)\n",
    "# ! pip install japanize-matplotlib"
   ]
  },
  {
   "cell_type": "markdown",
   "metadata": {},
   "source": [
    "# ３章　可視化の仕組みを構築する１０本ノック"
   ]
  },
  {
   "cell_type": "markdown",
   "metadata": {},
   "source": [
    "### ノック２１：店舗を絞り込んで可視化できるようにしてみよう"
   ]
  },
  {
   "cell_type": "code",
   "execution_count": 4,
   "metadata": {},
   "outputs": [
    {
     "data": {
      "text/html": [
       "<div>\n",
       "<style scoped>\n",
       "    .dataframe tbody tr th:only-of-type {\n",
       "        vertical-align: middle;\n",
       "    }\n",
       "\n",
       "    .dataframe tbody tr th {\n",
       "        vertical-align: top;\n",
       "    }\n",
       "\n",
       "    .dataframe thead th {\n",
       "        text-align: right;\n",
       "    }\n",
       "</style>\n",
       "<table border=\"1\" class=\"dataframe\">\n",
       "  <thead>\n",
       "    <tr style=\"text-align: right;\">\n",
       "      <th></th>\n",
       "      <th>order_id</th>\n",
       "      <th>store_id</th>\n",
       "      <th>customer_id</th>\n",
       "      <th>coupon_cd</th>\n",
       "      <th>sales_detail_id</th>\n",
       "      <th>order_accept_date</th>\n",
       "      <th>delivered_date</th>\n",
       "      <th>takeout_flag</th>\n",
       "      <th>total_amount</th>\n",
       "      <th>status</th>\n",
       "      <th>store_name</th>\n",
       "      <th>area_cd</th>\n",
       "      <th>wide_area</th>\n",
       "      <th>narrow_area</th>\n",
       "      <th>takeout_name</th>\n",
       "      <th>status_name</th>\n",
       "    </tr>\n",
       "  </thead>\n",
       "  <tbody>\n",
       "    <tr>\n",
       "      <th>0</th>\n",
       "      <td>79339111</td>\n",
       "      <td>49</td>\n",
       "      <td>C26387220</td>\n",
       "      <td>50</td>\n",
       "      <td>67393872</td>\n",
       "      <td>2020-04-01 11:00:00</td>\n",
       "      <td>2020-04-01 11:18:00</td>\n",
       "      <td>1</td>\n",
       "      <td>4144</td>\n",
       "      <td>1</td>\n",
       "      <td>浅草店</td>\n",
       "      <td>TK</td>\n",
       "      <td>東京</td>\n",
       "      <td>東京</td>\n",
       "      <td>お持ち帰り</td>\n",
       "      <td>お支払済</td>\n",
       "    </tr>\n",
       "    <tr>\n",
       "      <th>1</th>\n",
       "      <td>18941733</td>\n",
       "      <td>85</td>\n",
       "      <td>C48773811</td>\n",
       "      <td>26</td>\n",
       "      <td>91834983</td>\n",
       "      <td>2020-04-01 11:00:00</td>\n",
       "      <td>2020-04-01 11:22:00</td>\n",
       "      <td>0</td>\n",
       "      <td>2877</td>\n",
       "      <td>2</td>\n",
       "      <td>目黒店</td>\n",
       "      <td>TK</td>\n",
       "      <td>東京</td>\n",
       "      <td>東京</td>\n",
       "      <td>デリバリー</td>\n",
       "      <td>お渡し済</td>\n",
       "    </tr>\n",
       "    <tr>\n",
       "      <th>2</th>\n",
       "      <td>56217880</td>\n",
       "      <td>76</td>\n",
       "      <td>C66287421</td>\n",
       "      <td>36</td>\n",
       "      <td>64409634</td>\n",
       "      <td>2020-04-01 11:00:00</td>\n",
       "      <td>2020-04-01 11:15:00</td>\n",
       "      <td>0</td>\n",
       "      <td>2603</td>\n",
       "      <td>2</td>\n",
       "      <td>本郷店</td>\n",
       "      <td>TK</td>\n",
       "      <td>東京</td>\n",
       "      <td>東京</td>\n",
       "      <td>デリバリー</td>\n",
       "      <td>お渡し済</td>\n",
       "    </tr>\n",
       "    <tr>\n",
       "      <th>3</th>\n",
       "      <td>28447783</td>\n",
       "      <td>190</td>\n",
       "      <td>C41156423</td>\n",
       "      <td>19</td>\n",
       "      <td>73032165</td>\n",
       "      <td>2020-04-01 11:00:00</td>\n",
       "      <td>2020-04-01 11:16:00</td>\n",
       "      <td>0</td>\n",
       "      <td>2732</td>\n",
       "      <td>2</td>\n",
       "      <td>栃木店</td>\n",
       "      <td>TO</td>\n",
       "      <td>北関東</td>\n",
       "      <td>栃木</td>\n",
       "      <td>デリバリー</td>\n",
       "      <td>お渡し済</td>\n",
       "    </tr>\n",
       "    <tr>\n",
       "      <th>4</th>\n",
       "      <td>32576156</td>\n",
       "      <td>191</td>\n",
       "      <td>C54568117</td>\n",
       "      <td>71</td>\n",
       "      <td>23281182</td>\n",
       "      <td>2020-04-01 11:00:00</td>\n",
       "      <td>2020-04-01 11:53:00</td>\n",
       "      <td>0</td>\n",
       "      <td>2987</td>\n",
       "      <td>2</td>\n",
       "      <td>伊勢崎店</td>\n",
       "      <td>GU</td>\n",
       "      <td>北関東</td>\n",
       "      <td>群馬</td>\n",
       "      <td>デリバリー</td>\n",
       "      <td>お渡し済</td>\n",
       "    </tr>\n",
       "  </tbody>\n",
       "</table>\n",
       "</div>"
      ],
      "text/plain": [
       "   order_id  store_id customer_id  coupon_cd  sales_detail_id  \\\n",
       "0  79339111        49   C26387220         50         67393872   \n",
       "1  18941733        85   C48773811         26         91834983   \n",
       "2  56217880        76   C66287421         36         64409634   \n",
       "3  28447783       190   C41156423         19         73032165   \n",
       "4  32576156       191   C54568117         71         23281182   \n",
       "\n",
       "     order_accept_date       delivered_date  takeout_flag  total_amount  \\\n",
       "0  2020-04-01 11:00:00  2020-04-01 11:18:00             1          4144   \n",
       "1  2020-04-01 11:00:00  2020-04-01 11:22:00             0          2877   \n",
       "2  2020-04-01 11:00:00  2020-04-01 11:15:00             0          2603   \n",
       "3  2020-04-01 11:00:00  2020-04-01 11:16:00             0          2732   \n",
       "4  2020-04-01 11:00:00  2020-04-01 11:53:00             0          2987   \n",
       "\n",
       "   status store_name area_cd wide_area narrow_area takeout_name status_name  \n",
       "0       1        浅草店      TK        東京          東京        お持ち帰り        お支払済  \n",
       "1       2        目黒店      TK        東京          東京        デリバリー        お渡し済  \n",
       "2       2        本郷店      TK        東京          東京        デリバリー        お渡し済  \n",
       "3       2        栃木店      TO       北関東          栃木        デリバリー        お渡し済  \n",
       "4       2       伊勢崎店      GU       北関東          群馬        デリバリー        お渡し済  "
      ]
     },
     "execution_count": 4,
     "metadata": {},
     "output_type": "execute_result"
    }
   ],
   "source": [
    "import pandas as pd\n",
    "from IPython.display import display, clear_output\n",
    "\n",
    "m_store = pd.read_csv('m_store.csv')\n",
    "m_area = pd.read_csv('m_area.csv')\n",
    "order_data = pd.read_csv('tbl_order_202004.csv')\n",
    "order_data = pd.merge(order_data, m_store, on='store_id', how='left')\n",
    "order_data = pd.merge(order_data, m_area, on='area_cd', how='left')\n",
    "\n",
    "# マスターにないコードに対応した文字列を設定\n",
    "order_data.loc[order_data['takeout_flag'] == 0, 'takeout_name'] = 'デリバリー'\n",
    "order_data.loc[order_data['takeout_flag'] == 1, 'takeout_name'] = 'お持ち帰り'\n",
    "\n",
    "order_data.loc[order_data['status'] == 0, 'status_name'] = '受付'\n",
    "order_data.loc[order_data['status'] == 1, 'status_name'] = 'お支払済'\n",
    "order_data.loc[order_data['status'] == 2, 'status_name'] = 'お渡し済'\n",
    "order_data.loc[order_data['status'] == 9, 'status_name'] = 'キャンセル'\n",
    "\n",
    "order_data.head()"
   ]
  },
  {
   "cell_type": "code",
   "execution_count": 5,
   "metadata": {},
   "outputs": [
    {
     "data": {
      "application/vnd.jupyter.widget-view+json": {
       "model_id": "966f59b50d354ec883630ed7e1e274e4",
       "version_major": 2,
       "version_minor": 0
      },
      "text/plain": [
       "Dropdown(options=('昭島店', 'あきる野店', '足立店', '北千住店', '綾瀬店', '荒川店', '東尾久店', '板橋店', '高島平店', '稲城店', '江戸川店', '西葛西店', '…"
      ]
     },
     "metadata": {},
     "output_type": "display_data"
    }
   ],
   "source": [
    "from ipywidgets import Dropdown\n",
    "\n",
    "def order_by_store(val):\n",
    "    clear_output()\n",
    "    display(dropdown)    \n",
    "    pick_data = order_data.loc[(order_data['store_name']==val['new']) & (order_data['status'].isin([1, 2]))]\n",
    "    display(pick_data.head())\n",
    "\n",
    "store_list = m_store['store_name'].tolist()\n",
    "\n",
    "dropdown = Dropdown(options=store_list)\n",
    "dropdown.observe(order_by_store, names='value')\n",
    "display(dropdown)"
   ]
  },
  {
   "cell_type": "code",
   "execution_count": 6,
   "metadata": {},
   "outputs": [
    {
     "data": {
      "application/vnd.jupyter.widget-view+json": {
       "model_id": "9e2b2c281596414291b70b1520518a8d",
       "version_major": 2,
       "version_minor": 0
      },
      "text/plain": [
       "Dropdown(options=('昭島店', 'あきる野店', '足立店', '北千住店', '綾瀬店', '荒川店', '東尾久店', '板橋店', '高島平店', '稲城店', '江戸川店', '西葛西店', '…"
      ]
     },
     "metadata": {},
     "output_type": "display_data"
    }
   ],
   "source": [
    "%matplotlib inline\n",
    "import matplotlib.pyplot as plt\n",
    "import japanize_matplotlib\n",
    "\n",
    "def graph_by_store(val):\n",
    "    clear_output()\n",
    "    display(dropdown2)\n",
    "    pick_data = order_data.loc[(order_data['store_name']==val['new']) & (order_data['status'].isin([1, 2]))]\n",
    "    temp = pick_data[['order_accept_date', 'total_amount']].copy()  \n",
    "    temp.loc[:,'order_accept_date'] = pd.to_datetime(temp['order_accept_date'])\n",
    "    temp.set_index('order_accept_date', inplace=True)\n",
    "    temp.resample('D').sum().plot()\n",
    "    \n",
    "dropdown2 = Dropdown(options=store_list)\n",
    "dropdown2.observe(graph_by_store, names='value')\n",
    "display(dropdown2)"
   ]
  },
  {
   "cell_type": "markdown",
   "metadata": {},
   "source": [
    "### ノック２２：複数店舗の詳細を可視化できるようにしてみよう"
   ]
  },
  {
   "cell_type": "code",
   "execution_count": 7,
   "metadata": {},
   "outputs": [
    {
     "data": {
      "application/vnd.jupyter.widget-view+json": {
       "model_id": "6e329b2fc5e04d038541102d343733ee",
       "version_major": 2,
       "version_minor": 0
      },
      "text/plain": [
       "SelectMultiple(options=('昭島店', 'あきる野店', '足立店', '北千住店', '綾瀬店', '荒川店', '東尾久店', '板橋店', '高島平店', '稲城店', '江戸川店', '西葛…"
      ]
     },
     "metadata": {},
     "output_type": "display_data"
    }
   ],
   "source": [
    "from ipywidgets import SelectMultiple\n",
    "\n",
    "def order_by_multi(val):\n",
    "    clear_output()\n",
    "    display(select)\n",
    "    pick_data = order_data.loc[(order_data[\"store_name\"].isin(val[\"new\"])) & (order_data[\"status\"].isin([1, 2]))]\n",
    "    display(pick_data.head())\n",
    "\n",
    "select = SelectMultiple(options=store_list)\n",
    "select.observe(order_by_multi, names=\"value\")\n",
    "display(select)"
   ]
  },
  {
   "cell_type": "code",
   "execution_count": 8,
   "metadata": {},
   "outputs": [
    {
     "data": {
      "application/vnd.jupyter.widget-view+json": {
       "model_id": "1d616988cfb84507ae3646f330bbb37f",
       "version_major": 2,
       "version_minor": 0
      },
      "text/plain": [
       "SelectMultiple(options=('昭島店', 'あきる野店', '足立店', '北千住店', '綾瀬店', '荒川店', '東尾久店', '板橋店', '高島平店', '稲城店', '江戸川店', '西葛…"
      ]
     },
     "metadata": {},
     "output_type": "display_data"
    }
   ],
   "source": [
    "def graph_by_multi(val):\n",
    "    clear_output()\n",
    "    display(select2)\n",
    "\n",
    "    fig = plt.figure(figsize=(17,4))\n",
    "    plt.subplots_adjust(wspace=0.25, hspace=0.6)\n",
    "\n",
    "    i=0\n",
    "\n",
    "    for trg in val[\"new\"]:\n",
    "        pick_data = order_data[(order_data[\"store_name\"]==trg) & (order_data[\"status\"].isin([1,2]))]\n",
    "        temp = pick_data[[\"order_accept_date\", \"total_amount\", \"store_name\"]].copy()\n",
    "        temp.loc[:, \"order_accept_date\"] = pd.to_datetime(temp[\"order_accept_date\"])\n",
    "        temp.set_index(\"order_accept_date\", inplace=True)\n",
    "        i += 1\n",
    "        ax = fig.add_subplot(1, len(val[\"new\"]), i)\n",
    "        ax.plot(temp.resample(\"D\").sum())\n",
    "        ax.set_title(trg)\n",
    "\n",
    "select2 = SelectMultiple(options=store_list)\n",
    "select2.observe(graph_by_multi, names=\"value\")\n",
    "display(select2) "
   ]
  },
  {
   "cell_type": "markdown",
   "metadata": {},
   "source": [
    "### ノック２３：スライドバーを用いてオーダー件数を調べてみよう"
   ]
  },
  {
   "cell_type": "code",
   "execution_count": 9,
   "metadata": {},
   "outputs": [
    {
     "data": {
      "application/vnd.jupyter.widget-view+json": {
       "model_id": "36909210fc8d471988219353bda77d2c",
       "version_major": 2,
       "version_minor": 0
      },
      "text/plain": [
       "IntSlider(value=1100, description='件数:', max=2000, min=1000, step=100)"
      ]
     },
     "metadata": {},
     "output_type": "display_data"
    }
   ],
   "source": [
    "from ipywidgets import IntSlider\n",
    "\n",
    "def store_lower(val):\n",
    "    clear_output()\n",
    "    display(slider)\n",
    "    temp = order_data.groupby(\"store_name\")\n",
    "    print(temp.size()[temp.size() < val[\"new\"]])\n",
    "\n",
    "slider = IntSlider(value=1100, min=1000, max=2000, step=100, description=\"件数:\",)\n",
    "slider.observe(store_lower, names=\"value\")\n",
    "display(slider)"
   ]
  },
  {
   "cell_type": "code",
   "execution_count": 10,
   "metadata": {},
   "outputs": [
    {
     "data": {
      "application/vnd.jupyter.widget-view+json": {
       "model_id": "ed98c5ed49b74f7287bced46ae70a864",
       "version_major": 2,
       "version_minor": 0
      },
      "text/plain": [
       "IntSlider(value=1600, description='件数:', max=2000, min=1000, step=100)"
      ]
     },
     "metadata": {},
     "output_type": "display_data"
    }
   ],
   "source": [
    "def store_upper(val):\n",
    "    clear_output()\n",
    "    display(slider2)\n",
    "    temp = order_data.groupby(\"store_name\")\n",
    "    print(temp.size()[temp.size() > val[\"new\"]])\n",
    "\n",
    "slider2 = IntSlider(value=1600, min=1000, max=2000, step=100, description=\"件数:\",)\n",
    "slider2.observe(store_upper, names=\"value\")\n",
    "display(slider2)"
   ]
  },
  {
   "cell_type": "markdown",
   "metadata": {},
   "source": [
    "### ノック２４：トグルボタンで地域データを抽出しよう"
   ]
  },
  {
   "cell_type": "code",
   "execution_count": 11,
   "metadata": {},
   "outputs": [
    {
     "data": {
      "application/vnd.jupyter.widget-view+json": {
       "model_id": "4bbbd46203014fdeacd9af9d64204005",
       "version_major": 2,
       "version_minor": 0
      },
      "text/plain": [
       "ToggleButtons(options=('東京', '神奈川', '千葉', '埼玉', '北関東'), value='東京')"
      ]
     },
     "metadata": {},
     "output_type": "display_data"
    }
   ],
   "source": [
    "from ipywidgets import ToggleButtons\n",
    "\n",
    "area_list = m_area[\"wide_area\"].unique()\n",
    "\n",
    "def order_by_area(val):\n",
    "    clear_output()\n",
    "    display(toggle)\n",
    "    pick_data = order_data.loc[(order_data[\"wide_area\"]==val[\"new\"]) & (order_data[\"status\"].isin([1,2]))]\n",
    "    display(pick_data.head())\n",
    "\n",
    "toggle = ToggleButtons(options=area_list)\n",
    "toggle.observe(order_by_area, names=\"value\")\n",
    "display(toggle)"
   ]
  },
  {
   "cell_type": "code",
   "execution_count": 12,
   "metadata": {},
   "outputs": [
    {
     "data": {
      "application/vnd.jupyter.widget-view+json": {
       "model_id": "fb32b7431b2e4d77abc39655d3f2d172",
       "version_major": 2,
       "version_minor": 0
      },
      "text/plain": [
       "ToggleButtons(options=('東京', '神奈川', '千葉', '埼玉', '北関東'), value='東京')"
      ]
     },
     "metadata": {},
     "output_type": "display_data"
    }
   ],
   "source": [
    "def graph_by_area(val):\n",
    "    clear_output()\n",
    "    display(toggle2)\n",
    "    pick_data = order_data.loc[(order_data[\"wide_area\"]==val[\"new\"]) & (order_data[\"status\"].isin([1,2]))]\n",
    "    temp = pick_data[[\"order_accept_data\", \"total_amount\"]].copy()\n",
    "    temp.loc[:, \"order_accept_date\"] = pd.to_datetime(temp[\"order_accept_date\"])\n",
    "    temp.set_index(\"order_accept_date\", inplace=True)\n",
    "    temp.resample(\"D\").sum().plot()\n",
    "\n",
    "toggle2 = ToggleButtons(options=area_list)\n",
    "toggle2.observe(graph_by_area, names=\"value\")\n",
    "display(toggle2)"
   ]
  },
  {
   "cell_type": "markdown",
   "metadata": {},
   "source": [
    "### ノック２５：日付を指定してデータを抽出してみよう"
   ]
  },
  {
   "cell_type": "code",
   "execution_count": 13,
   "metadata": {},
   "outputs": [
    {
     "data": {
      "application/vnd.jupyter.widget-view+json": {
       "model_id": "1cde614ce3d546f98fae968402fa5840",
       "version_major": 2,
       "version_minor": 0
      },
      "text/plain": [
       "DatePicker(value=datetime.datetime(2020, 4, 1, 0, 0))"
      ]
     },
     "metadata": {},
     "output_type": "display_data"
    }
   ],
   "source": [
    "from ipywidgets import DatePicker\n",
    "import datetime\n",
    "\n",
    "order_data.loc[:, \"order_date\"] = pd.to_datetime(order_data[\"order_accept_date\"]).dt.date \n",
    "\n",
    "def order_by_date(val):\n",
    "    clear_output()\n",
    "    display(date_picker)\n",
    "    pick_data = order_data.loc[(order_data[\"order_date\"]==val[\"new\"]) & (order_data[\"status\"].isin([1,2]))]\n",
    "    print(len(pick_data))\n",
    "    display(pick_data.head())\n",
    "\n",
    "date_picker = DatePicker(value=datetime.datetime(2020,4,1))\n",
    "date_picker.observe(order_by_date, names=\"value\")\n",
    "display(date_picker)\n"
   ]
  },
  {
   "cell_type": "code",
   "execution_count": 14,
   "metadata": {},
   "outputs": [
    {
     "name": "stdout",
     "output_type": "stream",
     "text": [
      "最小日付\n"
     ]
    },
    {
     "data": {
      "application/vnd.jupyter.widget-view+json": {
       "model_id": "a947c5100edd4dbfa6dfac495aa48feb",
       "version_major": 2,
       "version_minor": 0
      },
      "text/plain": [
       "DatePicker(value=datetime.date(2020, 4, 1))"
      ]
     },
     "metadata": {},
     "output_type": "display_data"
    },
    {
     "name": "stdout",
     "output_type": "stream",
     "text": [
      "最大日付\n"
     ]
    },
    {
     "data": {
      "application/vnd.jupyter.widget-view+json": {
       "model_id": "758f09f990b74e2782a2111bb1f29212",
       "version_major": 2,
       "version_minor": 0
      },
      "text/plain": [
       "DatePicker(value=datetime.date(2020, 4, 30))"
      ]
     },
     "metadata": {},
     "output_type": "display_data"
    }
   ],
   "source": [
    "min_date = datetime.date(2020, 4, 1)\n",
    "max_date = datetime.date(2020, 4, 30)\n",
    "\n",
    "def order_between_date():\n",
    "    clear_output()\n",
    "    display(date_picker_min)\n",
    "    display(date_picker_max)\n",
    "    pick_data = order_data.loc[(order_data[\"order_date\"]>=min_date) & (order_data[\"order_date\"] <= max_date) & (order_data[\"status\"].isin([1,2]))]\n",
    "    print(len(pick_data))\n",
    "    display(pick_data.head())\n",
    "\n",
    "def set_min_date(val):\n",
    "    global min_date\n",
    "    min_date = val[\"new\"]\n",
    "    order_between_date()\n",
    "\n",
    "def set_max_date(val):\n",
    "    global max_date\n",
    "    max_date = val[\"new\"]\n",
    "    order_between_date()\n",
    "\n",
    "date_picker_min = DatePicker(value=min_date)\n",
    "date_picker_min.observe(set_min_date, names=\"value\")\n",
    "print(\"最小日付\")\n",
    "display(date_picker_min)\n",
    "date_picker_max = DatePicker(value=max_date)\n",
    "date_picker_max.observe(set_max_date, names=\"value\")\n",
    "print(\"最大日付\")\n",
    "display(date_picker_max)\n"
   ]
  },
  {
   "cell_type": "markdown",
   "metadata": {},
   "source": [
    "### ノック２６：ストーリーを考えてデータを構築しよう"
   ]
  },
  {
   "cell_type": "code",
   "execution_count": 16,
   "metadata": {},
   "outputs": [
    {
     "name": "stdout",
     "output_type": "stream",
     "text": [
      "/workspaces/python-lm-system-100/chapter-3/tbl_order_202004.csv:233260\n",
      "/workspaces/python-lm-system-100/chapter-3/tbl_order_202005.csv:241139\n",
      "/workspaces/python-lm-system-100/chapter-3/tbl_order_202006.csv:233301\n"
     ]
    },
    {
     "data": {
      "text/html": [
       "<div>\n",
       "<style scoped>\n",
       "    .dataframe tbody tr th:only-of-type {\n",
       "        vertical-align: middle;\n",
       "    }\n",
       "\n",
       "    .dataframe tbody tr th {\n",
       "        vertical-align: top;\n",
       "    }\n",
       "\n",
       "    .dataframe thead th {\n",
       "        text-align: right;\n",
       "    }\n",
       "</style>\n",
       "<table border=\"1\" class=\"dataframe\">\n",
       "  <thead>\n",
       "    <tr style=\"text-align: right;\">\n",
       "      <th></th>\n",
       "      <th></th>\n",
       "      <th>count</th>\n",
       "      <th>mean</th>\n",
       "      <th>std</th>\n",
       "      <th>min</th>\n",
       "      <th>25%</th>\n",
       "      <th>50%</th>\n",
       "      <th>75%</th>\n",
       "      <th>max</th>\n",
       "    </tr>\n",
       "    <tr>\n",
       "      <th>store_id</th>\n",
       "      <th>customer_id</th>\n",
       "      <th></th>\n",
       "      <th></th>\n",
       "      <th></th>\n",
       "      <th></th>\n",
       "      <th></th>\n",
       "      <th></th>\n",
       "      <th></th>\n",
       "      <th></th>\n",
       "    </tr>\n",
       "  </thead>\n",
       "  <tbody>\n",
       "    <tr>\n",
       "      <th rowspan=\"5\" valign=\"top\">1</th>\n",
       "      <th>C00244531</th>\n",
       "      <td>14.0</td>\n",
       "      <td>3319.571429</td>\n",
       "      <td>860.262546</td>\n",
       "      <td>1882.0</td>\n",
       "      <td>2515.75</td>\n",
       "      <td>3679.5</td>\n",
       "      <td>3901.00</td>\n",
       "      <td>4462.0</td>\n",
       "    </tr>\n",
       "    <tr>\n",
       "      <th>C00493736</th>\n",
       "      <td>7.0</td>\n",
       "      <td>3318.142857</td>\n",
       "      <td>922.546915</td>\n",
       "      <td>2471.0</td>\n",
       "      <td>2719.00</td>\n",
       "      <td>2987.0</td>\n",
       "      <td>3615.50</td>\n",
       "      <td>5100.0</td>\n",
       "    </tr>\n",
       "    <tr>\n",
       "      <th>C01249550</th>\n",
       "      <td>8.0</td>\n",
       "      <td>2664.375000</td>\n",
       "      <td>848.339881</td>\n",
       "      <td>1857.0</td>\n",
       "      <td>2029.75</td>\n",
       "      <td>2379.5</td>\n",
       "      <td>3132.75</td>\n",
       "      <td>3931.0</td>\n",
       "    </tr>\n",
       "    <tr>\n",
       "      <th>C02241044</th>\n",
       "      <td>6.0</td>\n",
       "      <td>3653.833333</td>\n",
       "      <td>1184.407770</td>\n",
       "      <td>2252.0</td>\n",
       "      <td>2571.00</td>\n",
       "      <td>3979.5</td>\n",
       "      <td>4683.75</td>\n",
       "      <td>4692.0</td>\n",
       "    </tr>\n",
       "    <tr>\n",
       "      <th>C02859946</th>\n",
       "      <td>9.0</td>\n",
       "      <td>3216.555556</td>\n",
       "      <td>858.216044</td>\n",
       "      <td>1857.0</td>\n",
       "      <td>2647.00</td>\n",
       "      <td>3586.0</td>\n",
       "      <td>3900.00</td>\n",
       "      <td>3931.0</td>\n",
       "    </tr>\n",
       "    <tr>\n",
       "      <th>...</th>\n",
       "      <th>...</th>\n",
       "      <td>...</td>\n",
       "      <td>...</td>\n",
       "      <td>...</td>\n",
       "      <td>...</td>\n",
       "      <td>...</td>\n",
       "      <td>...</td>\n",
       "      <td>...</td>\n",
       "      <td>...</td>\n",
       "    </tr>\n",
       "    <tr>\n",
       "      <th rowspan=\"5\" valign=\"top\">999</th>\n",
       "      <th>C98965135</th>\n",
       "      <td>12.0</td>\n",
       "      <td>2867.750000</td>\n",
       "      <td>718.500854</td>\n",
       "      <td>1900.0</td>\n",
       "      <td>2305.50</td>\n",
       "      <td>2750.0</td>\n",
       "      <td>3590.75</td>\n",
       "      <td>3901.0</td>\n",
       "    </tr>\n",
       "    <tr>\n",
       "      <th>C99065779</th>\n",
       "      <td>19.0</td>\n",
       "      <td>3090.631579</td>\n",
       "      <td>1045.455521</td>\n",
       "      <td>939.0</td>\n",
       "      <td>2310.00</td>\n",
       "      <td>3050.0</td>\n",
       "      <td>3723.50</td>\n",
       "      <td>4744.0</td>\n",
       "    </tr>\n",
       "    <tr>\n",
       "      <th>C99196263</th>\n",
       "      <td>16.0</td>\n",
       "      <td>3079.250000</td>\n",
       "      <td>964.855119</td>\n",
       "      <td>1900.0</td>\n",
       "      <td>2435.25</td>\n",
       "      <td>2770.0</td>\n",
       "      <td>3244.25</td>\n",
       "      <td>5100.0</td>\n",
       "    </tr>\n",
       "    <tr>\n",
       "      <th>C99428523</th>\n",
       "      <td>12.0</td>\n",
       "      <td>3350.666667</td>\n",
       "      <td>1373.157432</td>\n",
       "      <td>939.0</td>\n",
       "      <td>2381.25</td>\n",
       "      <td>3275.0</td>\n",
       "      <td>4632.75</td>\n",
       "      <td>5100.0</td>\n",
       "    </tr>\n",
       "    <tr>\n",
       "      <th>C99813215</th>\n",
       "      <td>9.0</td>\n",
       "      <td>3335.222222</td>\n",
       "      <td>1210.832439</td>\n",
       "      <td>939.0</td>\n",
       "      <td>2732.00</td>\n",
       "      <td>3582.0</td>\n",
       "      <td>4144.00</td>\n",
       "      <td>4659.0</td>\n",
       "    </tr>\n",
       "  </tbody>\n",
       "</table>\n",
       "<p>41415 rows × 8 columns</p>\n",
       "</div>"
      ],
      "text/plain": [
       "                      count         mean          std     min      25%  \\\n",
       "store_id customer_id                                                     \n",
       "1        C00244531     14.0  3319.571429   860.262546  1882.0  2515.75   \n",
       "         C00493736      7.0  3318.142857   922.546915  2471.0  2719.00   \n",
       "         C01249550      8.0  2664.375000   848.339881  1857.0  2029.75   \n",
       "         C02241044      6.0  3653.833333  1184.407770  2252.0  2571.00   \n",
       "         C02859946      9.0  3216.555556   858.216044  1857.0  2647.00   \n",
       "...                     ...          ...          ...     ...      ...   \n",
       "999      C98965135     12.0  2867.750000   718.500854  1900.0  2305.50   \n",
       "         C99065779     19.0  3090.631579  1045.455521   939.0  2310.00   \n",
       "         C99196263     16.0  3079.250000   964.855119  1900.0  2435.25   \n",
       "         C99428523     12.0  3350.666667  1373.157432   939.0  2381.25   \n",
       "         C99813215      9.0  3335.222222  1210.832439   939.0  2732.00   \n",
       "\n",
       "                         50%      75%     max  \n",
       "store_id customer_id                           \n",
       "1        C00244531    3679.5  3901.00  4462.0  \n",
       "         C00493736    2987.0  3615.50  5100.0  \n",
       "         C01249550    2379.5  3132.75  3931.0  \n",
       "         C02241044    3979.5  4683.75  4692.0  \n",
       "         C02859946    3586.0  3900.00  3931.0  \n",
       "...                      ...      ...     ...  \n",
       "999      C98965135    2750.0  3590.75  3901.0  \n",
       "         C99065779    3050.0  3723.50  4744.0  \n",
       "         C99196263    2770.0  3244.25  5100.0  \n",
       "         C99428523    3275.0  4632.75  5100.0  \n",
       "         C99813215    3582.0  4144.00  4659.0  \n",
       "\n",
       "[41415 rows x 8 columns]"
      ]
     },
     "execution_count": 16,
     "metadata": {},
     "output_type": "execute_result"
    }
   ],
   "source": [
    "import glob\n",
    "import os\n",
    "current_dir = os.getcwd()\n",
    "tbl_order_file = os.path.join(current_dir, \"tbl_order_*.csv\")\n",
    "tbl_order_files = glob.glob(tbl_order_file)\n",
    "\n",
    "order_all = pd.DataFrame()\n",
    "for file in tbl_order_files:\n",
    "    order_temp = pd.read_csv(file)\n",
    "    print(f'{file}:{len(order_temp)}')\n",
    "    order_all = pd.concat([order_all, order_temp], ignore_index=True)\n",
    "\n",
    "order_all = order_all.loc[order_all[\"store_id\"]!=99]\n",
    "\n",
    "order_all = pd.merge(order_all, m_store, on=\"store_id\", how=\"left\")\n",
    "order_all = pd.merge(order_all, m_area, on=\"area_cd\", how=\"left\")\n",
    "\n",
    "order_all.loc[order_all[\"takeout_flag\"]==0, \"takeout_name\"] = \"デリバリー\"\n",
    "order_all.loc[order_all[\"takeout_flag\"]==1, \"takeout_name\"] = \"お持ち帰り\"\n",
    "\n",
    "order_all.loc[order_all[\"status\"]==0, \"status_name\"] = \"受付\"\n",
    "order_all.loc[order_all[\"status\"]==1, \"status_name\"] = \"お支払済\"\n",
    "order_all.loc[order_all[\"status\"]==2, \"status_name\"] = \"お渡し済\"\n",
    "order_all.loc[order_all[\"status\"]==9, \"status_name\"] = \"キャンセル\"\n",
    "\n",
    "order_all.loc[:, \"order_date\"] = pd.to_datetime(order_all[\"order_accept_date\"]).dt.date \n",
    "\n",
    "order_all.groupby([\"store_id\", \"customer_id\"])[\"total_amount\"].describe()\n"
   ]
  },
  {
   "cell_type": "code",
   "execution_count": 17,
   "metadata": {},
   "outputs": [
    {
     "name": "stdout",
     "output_type": "stream",
     "text": [
      "売上上位\n"
     ]
    },
    {
     "data": {
      "text/html": [
       "<div>\n",
       "<style scoped>\n",
       "    .dataframe tbody tr th:only-of-type {\n",
       "        vertical-align: middle;\n",
       "    }\n",
       "\n",
       "    .dataframe tbody tr th {\n",
       "        vertical-align: top;\n",
       "    }\n",
       "\n",
       "    .dataframe thead th {\n",
       "        text-align: right;\n",
       "    }\n",
       "</style>\n",
       "<table border=\"1\" class=\"dataframe\">\n",
       "  <thead>\n",
       "    <tr style=\"text-align: right;\">\n",
       "      <th></th>\n",
       "      <th>store_id</th>\n",
       "      <th>total_amount</th>\n",
       "      <th>store_name</th>\n",
       "      <th>area_cd</th>\n",
       "    </tr>\n",
       "  </thead>\n",
       "  <tbody>\n",
       "    <tr>\n",
       "      <th>47</th>\n",
       "      <td>48</td>\n",
       "      <td>11992501</td>\n",
       "      <td>上野店</td>\n",
       "      <td>TK</td>\n",
       "    </tr>\n",
       "    <tr>\n",
       "      <th>189</th>\n",
       "      <td>191</td>\n",
       "      <td>11821224</td>\n",
       "      <td>伊勢崎店</td>\n",
       "      <td>GU</td>\n",
       "    </tr>\n",
       "    <tr>\n",
       "      <th>121</th>\n",
       "      <td>123</td>\n",
       "      <td>11320012</td>\n",
       "      <td>栄店</td>\n",
       "      <td>KN</td>\n",
       "    </tr>\n",
       "    <tr>\n",
       "      <th>67</th>\n",
       "      <td>68</td>\n",
       "      <td>11272728</td>\n",
       "      <td>八王子店</td>\n",
       "      <td>TK</td>\n",
       "    </tr>\n",
       "    <tr>\n",
       "      <th>62</th>\n",
       "      <td>63</td>\n",
       "      <td>11201742</td>\n",
       "      <td>西多摩店</td>\n",
       "      <td>TK</td>\n",
       "    </tr>\n",
       "    <tr>\n",
       "      <th>125</th>\n",
       "      <td>127</td>\n",
       "      <td>11179377</td>\n",
       "      <td>戸塚店</td>\n",
       "      <td>KN</td>\n",
       "    </tr>\n",
       "    <tr>\n",
       "      <th>98</th>\n",
       "      <td>100</td>\n",
       "      <td>11128515</td>\n",
       "      <td>中原店</td>\n",
       "      <td>KN</td>\n",
       "    </tr>\n",
       "    <tr>\n",
       "      <th>43</th>\n",
       "      <td>44</td>\n",
       "      <td>11079128</td>\n",
       "      <td>世田谷店</td>\n",
       "      <td>TK</td>\n",
       "    </tr>\n",
       "    <tr>\n",
       "      <th>171</th>\n",
       "      <td>173</td>\n",
       "      <td>11001277</td>\n",
       "      <td>戸田店</td>\n",
       "      <td>SA</td>\n",
       "    </tr>\n",
       "    <tr>\n",
       "      <th>78</th>\n",
       "      <td>79</td>\n",
       "      <td>10989669</td>\n",
       "      <td>三鷹店</td>\n",
       "      <td>TK</td>\n",
       "    </tr>\n",
       "  </tbody>\n",
       "</table>\n",
       "</div>"
      ],
      "text/plain": [
       "     store_id  total_amount store_name area_cd\n",
       "47         48      11992501        上野店      TK\n",
       "189       191      11821224       伊勢崎店      GU\n",
       "121       123      11320012         栄店      KN\n",
       "67         68      11272728       八王子店      TK\n",
       "62         63      11201742       西多摩店      TK\n",
       "125       127      11179377        戸塚店      KN\n",
       "98        100      11128515        中原店      KN\n",
       "43         44      11079128       世田谷店      TK\n",
       "171       173      11001277        戸田店      SA\n",
       "78         79      10989669        三鷹店      TK"
      ]
     },
     "metadata": {},
     "output_type": "display_data"
    },
    {
     "name": "stdout",
     "output_type": "stream",
     "text": [
      "売上下位\n"
     ]
    },
    {
     "data": {
      "text/html": [
       "<div>\n",
       "<style scoped>\n",
       "    .dataframe tbody tr th:only-of-type {\n",
       "        vertical-align: middle;\n",
       "    }\n",
       "\n",
       "    .dataframe tbody tr th {\n",
       "        vertical-align: top;\n",
       "    }\n",
       "\n",
       "    .dataframe thead th {\n",
       "        text-align: right;\n",
       "    }\n",
       "</style>\n",
       "<table border=\"1\" class=\"dataframe\">\n",
       "  <thead>\n",
       "    <tr style=\"text-align: right;\">\n",
       "      <th></th>\n",
       "      <th>store_id</th>\n",
       "      <th>total_amount</th>\n",
       "      <th>store_name</th>\n",
       "      <th>area_cd</th>\n",
       "    </tr>\n",
       "  </thead>\n",
       "  <tbody>\n",
       "    <tr>\n",
       "      <th>99</th>\n",
       "      <td>101</td>\n",
       "      <td>5350100</td>\n",
       "      <td>宮前店</td>\n",
       "      <td>KN</td>\n",
       "    </tr>\n",
       "    <tr>\n",
       "      <th>75</th>\n",
       "      <td>76</td>\n",
       "      <td>5701753</td>\n",
       "      <td>本郷店</td>\n",
       "      <td>TK</td>\n",
       "    </tr>\n",
       "    <tr>\n",
       "      <th>2</th>\n",
       "      <td>3</td>\n",
       "      <td>5712210</td>\n",
       "      <td>足立店</td>\n",
       "      <td>TK</td>\n",
       "    </tr>\n",
       "    <tr>\n",
       "      <th>150</th>\n",
       "      <td>152</td>\n",
       "      <td>5723229</td>\n",
       "      <td>四街道店</td>\n",
       "      <td>CH</td>\n",
       "    </tr>\n",
       "    <tr>\n",
       "      <th>11</th>\n",
       "      <td>12</td>\n",
       "      <td>5808496</td>\n",
       "      <td>西葛西店</td>\n",
       "      <td>TK</td>\n",
       "    </tr>\n",
       "    <tr>\n",
       "      <th>194</th>\n",
       "      <td>196</td>\n",
       "      <td>5901819</td>\n",
       "      <td>前橋店</td>\n",
       "      <td>GU</td>\n",
       "    </tr>\n",
       "    <tr>\n",
       "      <th>184</th>\n",
       "      <td>186</td>\n",
       "      <td>6087730</td>\n",
       "      <td>足利店</td>\n",
       "      <td>TO</td>\n",
       "    </tr>\n",
       "    <tr>\n",
       "      <th>160</th>\n",
       "      <td>162</td>\n",
       "      <td>6158812</td>\n",
       "      <td>越谷店</td>\n",
       "      <td>SA</td>\n",
       "    </tr>\n",
       "    <tr>\n",
       "      <th>69</th>\n",
       "      <td>70</td>\n",
       "      <td>6242227</td>\n",
       "      <td>東久留米店</td>\n",
       "      <td>TK</td>\n",
       "    </tr>\n",
       "    <tr>\n",
       "      <th>144</th>\n",
       "      <td>146</td>\n",
       "      <td>6307301</td>\n",
       "      <td>成田店</td>\n",
       "      <td>CH</td>\n",
       "    </tr>\n",
       "  </tbody>\n",
       "</table>\n",
       "</div>"
      ],
      "text/plain": [
       "     store_id  total_amount store_name area_cd\n",
       "99        101       5350100        宮前店      KN\n",
       "75         76       5701753        本郷店      TK\n",
       "2           3       5712210        足立店      TK\n",
       "150       152       5723229       四街道店      CH\n",
       "11         12       5808496       西葛西店      TK\n",
       "194       196       5901819        前橋店      GU\n",
       "184       186       6087730        足利店      TO\n",
       "160       162       6158812        越谷店      SA\n",
       "69         70       6242227      東久留米店      TK\n",
       "144       146       6307301        成田店      CH"
      ]
     },
     "metadata": {},
     "output_type": "display_data"
    }
   ],
   "source": [
    "summary_df = order_all.loc[order_all[\"status\"].isin([1,2])]\n",
    "store_summary_df = summary_df.groupby([\"store_id\"])[\"total_amount\"].sum()\n",
    "store_summary_df = pd.merge(store_summary_df, m_store, on=\"store_id\", how=\"left\")\n",
    "print(\"売上上位\")\n",
    "display(store_summary_df.sort_values(\"total_amount\", ascending=False).head(10))\n",
    "print(\"売上下位\")\n",
    "display(store_summary_df.sort_values(\"total_amount\", ascending=True).head(10))\n"
   ]
  },
  {
   "cell_type": "code",
   "execution_count": 18,
   "metadata": {},
   "outputs": [
    {
     "name": "stdout",
     "output_type": "stream",
     "text": [
      "キャンセル率が低い\n"
     ]
    },
    {
     "data": {
      "text/html": [
       "<div>\n",
       "<style scoped>\n",
       "    .dataframe tbody tr th:only-of-type {\n",
       "        vertical-align: middle;\n",
       "    }\n",
       "\n",
       "    .dataframe tbody tr th {\n",
       "        vertical-align: top;\n",
       "    }\n",
       "\n",
       "    .dataframe thead th {\n",
       "        text-align: right;\n",
       "    }\n",
       "</style>\n",
       "<table border=\"1\" class=\"dataframe\">\n",
       "  <thead>\n",
       "    <tr style=\"text-align: right;\">\n",
       "      <th></th>\n",
       "      <th>store_id</th>\n",
       "      <th>cancel_rate</th>\n",
       "      <th>store_name</th>\n",
       "      <th>area_cd</th>\n",
       "    </tr>\n",
       "  </thead>\n",
       "  <tbody>\n",
       "    <tr>\n",
       "      <th>120</th>\n",
       "      <td>122</td>\n",
       "      <td>16.464415</td>\n",
       "      <td>港北店</td>\n",
       "      <td>KN</td>\n",
       "    </tr>\n",
       "    <tr>\n",
       "      <th>129</th>\n",
       "      <td>131</td>\n",
       "      <td>16.641406</td>\n",
       "      <td>我孫子店</td>\n",
       "      <td>CH</td>\n",
       "    </tr>\n",
       "    <tr>\n",
       "      <th>118</th>\n",
       "      <td>120</td>\n",
       "      <td>16.702298</td>\n",
       "      <td>金沢店</td>\n",
       "      <td>KN</td>\n",
       "    </tr>\n",
       "    <tr>\n",
       "      <th>151</th>\n",
       "      <td>153</td>\n",
       "      <td>17.036115</td>\n",
       "      <td>上尾店</td>\n",
       "      <td>SA</td>\n",
       "    </tr>\n",
       "    <tr>\n",
       "      <th>19</th>\n",
       "      <td>20</td>\n",
       "      <td>17.127722</td>\n",
       "      <td>王子店</td>\n",
       "      <td>TK</td>\n",
       "    </tr>\n",
       "    <tr>\n",
       "      <th>40</th>\n",
       "      <td>41</td>\n",
       "      <td>17.206367</td>\n",
       "      <td>荻窪店</td>\n",
       "      <td>TK</td>\n",
       "    </tr>\n",
       "    <tr>\n",
       "      <th>68</th>\n",
       "      <td>69</td>\n",
       "      <td>17.295981</td>\n",
       "      <td>羽村店</td>\n",
       "      <td>TK</td>\n",
       "    </tr>\n",
       "    <tr>\n",
       "      <th>121</th>\n",
       "      <td>123</td>\n",
       "      <td>17.314335</td>\n",
       "      <td>栄店</td>\n",
       "      <td>KN</td>\n",
       "    </tr>\n",
       "    <tr>\n",
       "      <th>33</th>\n",
       "      <td>34</td>\n",
       "      <td>17.321016</td>\n",
       "      <td>恵比寿店</td>\n",
       "      <td>TK</td>\n",
       "    </tr>\n",
       "    <tr>\n",
       "      <th>180</th>\n",
       "      <td>182</td>\n",
       "      <td>17.322176</td>\n",
       "      <td>那珂店</td>\n",
       "      <td>IB</td>\n",
       "    </tr>\n",
       "  </tbody>\n",
       "</table>\n",
       "</div>"
      ],
      "text/plain": [
       "     store_id  cancel_rate store_name area_cd\n",
       "120       122    16.464415        港北店      KN\n",
       "129       131    16.641406       我孫子店      CH\n",
       "118       120    16.702298        金沢店      KN\n",
       "151       153    17.036115        上尾店      SA\n",
       "19         20    17.127722        王子店      TK\n",
       "40         41    17.206367        荻窪店      TK\n",
       "68         69    17.295981        羽村店      TK\n",
       "121       123    17.314335         栄店      KN\n",
       "33         34    17.321016       恵比寿店      TK\n",
       "180       182    17.322176        那珂店      IB"
      ]
     },
     "metadata": {},
     "output_type": "display_data"
    },
    {
     "name": "stdout",
     "output_type": "stream",
     "text": [
      "キャンセル率が高い\n"
     ]
    },
    {
     "data": {
      "text/html": [
       "<div>\n",
       "<style scoped>\n",
       "    .dataframe tbody tr th:only-of-type {\n",
       "        vertical-align: middle;\n",
       "    }\n",
       "\n",
       "    .dataframe tbody tr th {\n",
       "        vertical-align: top;\n",
       "    }\n",
       "\n",
       "    .dataframe thead th {\n",
       "        text-align: right;\n",
       "    }\n",
       "</style>\n",
       "<table border=\"1\" class=\"dataframe\">\n",
       "  <thead>\n",
       "    <tr style=\"text-align: right;\">\n",
       "      <th></th>\n",
       "      <th>store_id</th>\n",
       "      <th>cancel_rate</th>\n",
       "      <th>store_name</th>\n",
       "      <th>area_cd</th>\n",
       "    </tr>\n",
       "  </thead>\n",
       "  <tbody>\n",
       "    <tr>\n",
       "      <th>7</th>\n",
       "      <td>8</td>\n",
       "      <td>20.305677</td>\n",
       "      <td>板橋店</td>\n",
       "      <td>TK</td>\n",
       "    </tr>\n",
       "    <tr>\n",
       "      <th>137</th>\n",
       "      <td>139</td>\n",
       "      <td>20.148791</td>\n",
       "      <td>白井店</td>\n",
       "      <td>CH</td>\n",
       "    </tr>\n",
       "    <tr>\n",
       "      <th>130</th>\n",
       "      <td>132</td>\n",
       "      <td>19.948335</td>\n",
       "      <td>市川店</td>\n",
       "      <td>CH</td>\n",
       "    </tr>\n",
       "    <tr>\n",
       "      <th>155</th>\n",
       "      <td>157</td>\n",
       "      <td>19.929245</td>\n",
       "      <td>川越店</td>\n",
       "      <td>SA</td>\n",
       "    </tr>\n",
       "    <tr>\n",
       "      <th>95</th>\n",
       "      <td>96</td>\n",
       "      <td>19.657880</td>\n",
       "      <td>川崎店</td>\n",
       "      <td>KN</td>\n",
       "    </tr>\n",
       "    <tr>\n",
       "      <th>65</th>\n",
       "      <td>66</td>\n",
       "      <td>19.627809</td>\n",
       "      <td>石神井店</td>\n",
       "      <td>TK</td>\n",
       "    </tr>\n",
       "    <tr>\n",
       "      <th>75</th>\n",
       "      <td>76</td>\n",
       "      <td>19.534050</td>\n",
       "      <td>本郷店</td>\n",
       "      <td>TK</td>\n",
       "    </tr>\n",
       "    <tr>\n",
       "      <th>9</th>\n",
       "      <td>10</td>\n",
       "      <td>19.480519</td>\n",
       "      <td>稲城店</td>\n",
       "      <td>TK</td>\n",
       "    </tr>\n",
       "    <tr>\n",
       "      <th>18</th>\n",
       "      <td>19</td>\n",
       "      <td>19.470046</td>\n",
       "      <td>赤羽店</td>\n",
       "      <td>TK</td>\n",
       "    </tr>\n",
       "    <tr>\n",
       "      <th>160</th>\n",
       "      <td>162</td>\n",
       "      <td>19.469357</td>\n",
       "      <td>越谷店</td>\n",
       "      <td>SA</td>\n",
       "    </tr>\n",
       "  </tbody>\n",
       "</table>\n",
       "</div>"
      ],
      "text/plain": [
       "     store_id  cancel_rate store_name area_cd\n",
       "7           8    20.305677        板橋店      TK\n",
       "137       139    20.148791        白井店      CH\n",
       "130       132    19.948335        市川店      CH\n",
       "155       157    19.929245        川越店      SA\n",
       "95         96    19.657880        川崎店      KN\n",
       "65         66    19.627809       石神井店      TK\n",
       "75         76    19.534050        本郷店      TK\n",
       "9          10    19.480519        稲城店      TK\n",
       "18         19    19.470046        赤羽店      TK\n",
       "160       162    19.469357        越谷店      SA"
      ]
     },
     "metadata": {},
     "output_type": "display_data"
    }
   ],
   "source": [
    "cancel_df = pd.DataFrame()\n",
    "cancel_cnt = order_all.loc[order_all[\"status\"]==9].groupby([\"store_id\"])[\"store_id\"].count()\n",
    "order_cnt = order_all.loc[order_all[\"status\"].isin([1,2,9])].groupby([\"store_id\"])[\"store_id\"].count()\n",
    "cancel_rate = (cancel_cnt / order_cnt) * 100\n",
    "cancel_df[\"cancel_rate\"] = cancel_rate\n",
    "cancel_df = pd.merge(cancel_df, m_store, on=\"store_id\", how=\"left\")\n",
    "print(\"キャンセル率が低い\")\n",
    "display(cancel_df.sort_values(\"cancel_rate\", ascending=True).head(10))\n",
    "print(\"キャンセル率が高い\")\n",
    "display(cancel_df.sort_values(\"cancel_rate\", ascending=False).head(10))\n"
   ]
  },
  {
   "cell_type": "markdown",
   "metadata": {},
   "source": [
    "### ノック２７：キャンセルの理由を分析してみよう"
   ]
  },
  {
   "cell_type": "code",
   "execution_count": null,
   "metadata": {},
   "outputs": [],
   "source": []
  },
  {
   "cell_type": "code",
   "execution_count": null,
   "metadata": {},
   "outputs": [],
   "source": []
  },
  {
   "cell_type": "markdown",
   "metadata": {},
   "source": [
    "### ノック２８：仮説を検証してみよう"
   ]
  },
  {
   "cell_type": "code",
   "execution_count": null,
   "metadata": {},
   "outputs": [],
   "source": []
  },
  {
   "cell_type": "code",
   "execution_count": null,
   "metadata": {},
   "outputs": [],
   "source": []
  },
  {
   "cell_type": "markdown",
   "metadata": {},
   "source": [
    "### ノック２９：ストーリーをもとにパーツやデータを組み合わせてダッシュボードを作ろう"
   ]
  },
  {
   "cell_type": "code",
   "execution_count": null,
   "metadata": {},
   "outputs": [],
   "source": []
  },
  {
   "cell_type": "code",
   "execution_count": null,
   "metadata": {},
   "outputs": [],
   "source": []
  },
  {
   "cell_type": "markdown",
   "metadata": {},
   "source": [
    "### ノック３０：ダッシュボードを改善しよう"
   ]
  },
  {
   "cell_type": "code",
   "execution_count": null,
   "metadata": {},
   "outputs": [],
   "source": []
  },
  {
   "cell_type": "code",
   "execution_count": null,
   "metadata": {},
   "outputs": [],
   "source": []
  }
 ],
 "metadata": {
  "kernelspec": {
   "display_name": "Python 3.10.4 ('base')",
   "language": "python",
   "name": "python3"
  },
  "language_info": {
   "codemirror_mode": {
    "name": "ipython",
    "version": 3
   },
   "file_extension": ".py",
   "mimetype": "text/x-python",
   "name": "python",
   "nbconvert_exporter": "python",
   "pygments_lexer": "ipython3",
   "version": "3.10.4"
  },
  "vscode": {
   "interpreter": {
    "hash": "d4d1e4263499bec80672ea0156c357c1ee493ec2b1c70f0acce89fc37c4a6abe"
   }
  }
 },
 "nbformat": 4,
 "nbformat_minor": 2
}
