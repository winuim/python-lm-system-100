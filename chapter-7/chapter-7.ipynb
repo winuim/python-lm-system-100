{
 "cells": [
  {
   "cell_type": "code",
   "execution_count": 1,
   "metadata": {},
   "outputs": [],
   "source": [
    "# Google Colaboratoryを使用する場合は、下記のコメントアウトを外し、実行してください"
   ]
  },
  {
   "cell_type": "code",
   "execution_count": 2,
   "metadata": {},
   "outputs": [],
   "source": [
    "# # 下記セルを実行すると、authorization codeの入力を求められます。\n",
    "# # 出力されたリンク先をクリックし、Googleアカウントにログインし、\n",
    "# # authorization codeをコピーし、貼り付けをおこなってください。\n",
    "# import os\n",
    "# from google.colab import drive\n",
    "# drive.mount('/content/drive')"
   ]
  },
  {
   "cell_type": "code",
   "execution_count": 3,
   "metadata": {},
   "outputs": [],
   "source": [
    "# working_dir = 'MLSys_100Knocks' #　※※自分で作成したフォルダパスが異なる場合こちらを変更してください。※※\n",
    "# path = f'/content/drive/MyDrive/{working_dir}/本章/7章'\n",
    "# os.chdir(path)"
   ]
  },
  {
   "cell_type": "markdown",
   "metadata": {},
   "source": [
    "# ７章 機械学習モデルを構築する１０本ノック\n",
    "\n"
   ]
  },
  {
   "cell_type": "markdown",
   "metadata": {},
   "source": [
    "### ノック６１：フォルダ生成をして機械学習用データを読み込もう"
   ]
  },
  {
   "cell_type": "code",
   "execution_count": 4,
   "metadata": {},
   "outputs": [],
   "source": [
    "import os\n",
    "data_dir = \"data\"\n",
    "input_dir = os.path.join(data_dir, \"0_input\")\n",
    "output_dir = os.path.join(data_dir, \"1_output\")\n",
    "os.makedirs(input_dir, exist_ok=True)\n",
    "os.makedirs(output_dir, exist_ok=True)\n"
   ]
  },
  {
   "cell_type": "markdown",
   "metadata": {},
   "source": [
    "##### ＊＊必ずデータの配置をおこなってください。＊＊"
   ]
  },
  {
   "cell_type": "code",
   "execution_count": 5,
   "metadata": {},
   "outputs": [
    {
     "data": {
      "text/html": [
       "<div>\n",
       "<style scoped>\n",
       "    .dataframe tbody tr th:only-of-type {\n",
       "        vertical-align: middle;\n",
       "    }\n",
       "\n",
       "    .dataframe tbody tr th {\n",
       "        vertical-align: top;\n",
       "    }\n",
       "\n",
       "    .dataframe thead th {\n",
       "        text-align: right;\n",
       "    }\n",
       "</style>\n",
       "<table border=\"1\" class=\"dataframe\">\n",
       "  <thead>\n",
       "    <tr style=\"text-align: right;\">\n",
       "      <th></th>\n",
       "      <th>store_name</th>\n",
       "      <th>y_weekday</th>\n",
       "      <th>y_weekend</th>\n",
       "      <th>order</th>\n",
       "      <th>order_fin</th>\n",
       "      <th>order_cancel</th>\n",
       "      <th>order_delivery</th>\n",
       "      <th>order_takeout</th>\n",
       "      <th>order_weekday</th>\n",
       "      <th>order_weekend</th>\n",
       "      <th>...</th>\n",
       "      <th>order_time_14</th>\n",
       "      <th>order_time_15</th>\n",
       "      <th>order_time_16</th>\n",
       "      <th>order_time_17</th>\n",
       "      <th>order_time_18</th>\n",
       "      <th>order_time_19</th>\n",
       "      <th>order_time_20</th>\n",
       "      <th>order_time_21</th>\n",
       "      <th>delta_avg</th>\n",
       "      <th>year_month</th>\n",
       "    </tr>\n",
       "  </thead>\n",
       "  <tbody>\n",
       "    <tr>\n",
       "      <th>0</th>\n",
       "      <td>あきる野店</td>\n",
       "      <td>1.0</td>\n",
       "      <td>0.0</td>\n",
       "      <td>1147</td>\n",
       "      <td>945</td>\n",
       "      <td>202</td>\n",
       "      <td>841</td>\n",
       "      <td>306</td>\n",
       "      <td>844</td>\n",
       "      <td>303</td>\n",
       "      <td>...</td>\n",
       "      <td>101</td>\n",
       "      <td>95</td>\n",
       "      <td>107</td>\n",
       "      <td>106</td>\n",
       "      <td>100</td>\n",
       "      <td>108</td>\n",
       "      <td>109</td>\n",
       "      <td>96</td>\n",
       "      <td>34.110053</td>\n",
       "      <td>201904</td>\n",
       "    </tr>\n",
       "    <tr>\n",
       "      <th>1</th>\n",
       "      <td>さいたま南店</td>\n",
       "      <td>1.0</td>\n",
       "      <td>1.0</td>\n",
       "      <td>1504</td>\n",
       "      <td>1217</td>\n",
       "      <td>287</td>\n",
       "      <td>1105</td>\n",
       "      <td>399</td>\n",
       "      <td>1104</td>\n",
       "      <td>400</td>\n",
       "      <td>...</td>\n",
       "      <td>143</td>\n",
       "      <td>142</td>\n",
       "      <td>137</td>\n",
       "      <td>130</td>\n",
       "      <td>113</td>\n",
       "      <td>140</td>\n",
       "      <td>132</td>\n",
       "      <td>155</td>\n",
       "      <td>35.337716</td>\n",
       "      <td>201904</td>\n",
       "    </tr>\n",
       "    <tr>\n",
       "      <th>2</th>\n",
       "      <td>さいたま緑店</td>\n",
       "      <td>1.0</td>\n",
       "      <td>1.0</td>\n",
       "      <td>1028</td>\n",
       "      <td>847</td>\n",
       "      <td>181</td>\n",
       "      <td>756</td>\n",
       "      <td>272</td>\n",
       "      <td>756</td>\n",
       "      <td>272</td>\n",
       "      <td>...</td>\n",
       "      <td>95</td>\n",
       "      <td>102</td>\n",
       "      <td>82</td>\n",
       "      <td>90</td>\n",
       "      <td>93</td>\n",
       "      <td>95</td>\n",
       "      <td>95</td>\n",
       "      <td>84</td>\n",
       "      <td>34.291617</td>\n",
       "      <td>201904</td>\n",
       "    </tr>\n",
       "  </tbody>\n",
       "</table>\n",
       "<p>3 rows × 23 columns</p>\n",
       "</div>"
      ],
      "text/plain": [
       "  store_name  y_weekday  y_weekend  order  order_fin  order_cancel  \\\n",
       "0      あきる野店        1.0        0.0   1147        945           202   \n",
       "1     さいたま南店        1.0        1.0   1504       1217           287   \n",
       "2     さいたま緑店        1.0        1.0   1028        847           181   \n",
       "\n",
       "   order_delivery  order_takeout  order_weekday  order_weekend  ...  \\\n",
       "0             841            306            844            303  ...   \n",
       "1            1105            399           1104            400  ...   \n",
       "2             756            272            756            272  ...   \n",
       "\n",
       "   order_time_14  order_time_15  order_time_16  order_time_17  order_time_18  \\\n",
       "0            101             95            107            106            100   \n",
       "1            143            142            137            130            113   \n",
       "2             95            102             82             90             93   \n",
       "\n",
       "   order_time_19  order_time_20  order_time_21  delta_avg  year_month  \n",
       "0            108            109             96  34.110053      201904  \n",
       "1            140            132            155  35.337716      201904  \n",
       "2             95             95             84  34.291617      201904  \n",
       "\n",
       "[3 rows x 23 columns]"
      ]
     },
     "execution_count": 5,
     "metadata": {},
     "output_type": "execute_result"
    }
   ],
   "source": [
    "import pandas as pd\n",
    "ml_data_file = \"ml_base_data.csv\"\n",
    "ml_data = pd.read_csv(os.path.join(input_dir, ml_data_file))\n",
    "ml_data.head(3)"
   ]
  },
  {
   "cell_type": "markdown",
   "metadata": {},
   "source": [
    "### ノック６２：カテゴリカル変数の対応をしよう"
   ]
  },
  {
   "cell_type": "code",
   "execution_count": 6,
   "metadata": {},
   "outputs": [
    {
     "data": {
      "text/html": [
       "<div>\n",
       "<style scoped>\n",
       "    .dataframe tbody tr th:only-of-type {\n",
       "        vertical-align: middle;\n",
       "    }\n",
       "\n",
       "    .dataframe tbody tr th {\n",
       "        vertical-align: top;\n",
       "    }\n",
       "\n",
       "    .dataframe thead th {\n",
       "        text-align: right;\n",
       "    }\n",
       "</style>\n",
       "<table border=\"1\" class=\"dataframe\">\n",
       "  <thead>\n",
       "    <tr style=\"text-align: right;\">\n",
       "      <th></th>\n",
       "      <th>store_あきる野店</th>\n",
       "      <th>store_さいたま南店</th>\n",
       "      <th>store_さいたま緑店</th>\n",
       "      <th>store_さいたま西店</th>\n",
       "      <th>store_つくば店</th>\n",
       "      <th>store_三浦店</th>\n",
       "      <th>store_三鷹店</th>\n",
       "      <th>store_上尾店</th>\n",
       "      <th>store_上野店</th>\n",
       "      <th>store_世田谷店</th>\n",
       "      <th>...</th>\n",
       "      <th>store_駒込店</th>\n",
       "      <th>store_高円寺店</th>\n",
       "      <th>store_高島平店</th>\n",
       "      <th>store_高崎店</th>\n",
       "      <th>store_高座店</th>\n",
       "      <th>store_高津店</th>\n",
       "      <th>store_高田馬場店</th>\n",
       "      <th>store_鴻巣店</th>\n",
       "      <th>store_鶴見店</th>\n",
       "      <th>store_麻生店</th>\n",
       "    </tr>\n",
       "  </thead>\n",
       "  <tbody>\n",
       "    <tr>\n",
       "      <th>0</th>\n",
       "      <td>1</td>\n",
       "      <td>0</td>\n",
       "      <td>0</td>\n",
       "      <td>0</td>\n",
       "      <td>0</td>\n",
       "      <td>0</td>\n",
       "      <td>0</td>\n",
       "      <td>0</td>\n",
       "      <td>0</td>\n",
       "      <td>0</td>\n",
       "      <td>...</td>\n",
       "      <td>0</td>\n",
       "      <td>0</td>\n",
       "      <td>0</td>\n",
       "      <td>0</td>\n",
       "      <td>0</td>\n",
       "      <td>0</td>\n",
       "      <td>0</td>\n",
       "      <td>0</td>\n",
       "      <td>0</td>\n",
       "      <td>0</td>\n",
       "    </tr>\n",
       "    <tr>\n",
       "      <th>1</th>\n",
       "      <td>0</td>\n",
       "      <td>1</td>\n",
       "      <td>0</td>\n",
       "      <td>0</td>\n",
       "      <td>0</td>\n",
       "      <td>0</td>\n",
       "      <td>0</td>\n",
       "      <td>0</td>\n",
       "      <td>0</td>\n",
       "      <td>0</td>\n",
       "      <td>...</td>\n",
       "      <td>0</td>\n",
       "      <td>0</td>\n",
       "      <td>0</td>\n",
       "      <td>0</td>\n",
       "      <td>0</td>\n",
       "      <td>0</td>\n",
       "      <td>0</td>\n",
       "      <td>0</td>\n",
       "      <td>0</td>\n",
       "      <td>0</td>\n",
       "    </tr>\n",
       "    <tr>\n",
       "      <th>2</th>\n",
       "      <td>0</td>\n",
       "      <td>0</td>\n",
       "      <td>1</td>\n",
       "      <td>0</td>\n",
       "      <td>0</td>\n",
       "      <td>0</td>\n",
       "      <td>0</td>\n",
       "      <td>0</td>\n",
       "      <td>0</td>\n",
       "      <td>0</td>\n",
       "      <td>...</td>\n",
       "      <td>0</td>\n",
       "      <td>0</td>\n",
       "      <td>0</td>\n",
       "      <td>0</td>\n",
       "      <td>0</td>\n",
       "      <td>0</td>\n",
       "      <td>0</td>\n",
       "      <td>0</td>\n",
       "      <td>0</td>\n",
       "      <td>0</td>\n",
       "    </tr>\n",
       "  </tbody>\n",
       "</table>\n",
       "<p>3 rows × 195 columns</p>\n",
       "</div>"
      ],
      "text/plain": [
       "   store_あきる野店  store_さいたま南店  store_さいたま緑店  store_さいたま西店  store_つくば店  \\\n",
       "0            1             0             0             0           0   \n",
       "1            0             1             0             0           0   \n",
       "2            0             0             1             0           0   \n",
       "\n",
       "   store_三浦店  store_三鷹店  store_上尾店  store_上野店  store_世田谷店  ...  store_駒込店  \\\n",
       "0          0          0          0          0           0  ...          0   \n",
       "1          0          0          0          0           0  ...          0   \n",
       "2          0          0          0          0           0  ...          0   \n",
       "\n",
       "   store_高円寺店  store_高島平店  store_高崎店  store_高座店  store_高津店  store_高田馬場店  \\\n",
       "0           0           0          0          0          0            0   \n",
       "1           0           0          0          0          0            0   \n",
       "2           0           0          0          0          0            0   \n",
       "\n",
       "   store_鴻巣店  store_鶴見店  store_麻生店  \n",
       "0          0          0          0  \n",
       "1          0          0          0  \n",
       "2          0          0          0  \n",
       "\n",
       "[3 rows x 195 columns]"
      ]
     },
     "metadata": {},
     "output_type": "display_data"
    }
   ],
   "source": [
    "category_data = pd.get_dummies(ml_data[\"store_name\"], prefix=\"store\", prefix_sep=\"_\")\n",
    "display(category_data.head(3))"
   ]
  },
  {
   "cell_type": "code",
   "execution_count": 7,
   "metadata": {},
   "outputs": [
    {
     "data": {
      "text/plain": [
       "Index(['y_weekday', 'y_weekend', 'order', 'order_fin', 'order_cancel',\n",
       "       'order_delivery', 'order_takeout', 'order_weekday', 'order_weekend',\n",
       "       'order_time_11',\n",
       "       ...\n",
       "       'store_駒沢店', 'store_駒込店', 'store_高円寺店', 'store_高島平店', 'store_高崎店',\n",
       "       'store_高座店', 'store_高津店', 'store_高田馬場店', 'store_鴻巣店', 'store_鶴見店'],\n",
       "      dtype='object', length=215)"
      ]
     },
     "execution_count": 7,
     "metadata": {},
     "output_type": "execute_result"
    }
   ],
   "source": [
    "del category_data[\"store_麻生店\"]\n",
    "del ml_data[\"year_month\"]\n",
    "del ml_data[\"store_name\"]\n",
    "ml_data = pd.concat([ml_data, category_data], axis=1)\n",
    "ml_data.columns"
   ]
  },
  {
   "cell_type": "markdown",
   "metadata": {},
   "source": [
    "### ノック６３：学習データとテストデータを分割しよう"
   ]
  },
  {
   "cell_type": "code",
   "execution_count": 8,
   "metadata": {},
   "outputs": [
    {
     "name": "stdout",
     "output_type": "stream",
     "text": [
      "Train:1501件/ Test:644\n",
      "Weekday Train0:685\n",
      "Weekday Train1:816\n",
      "Weekday Test0:290件\n",
      "Weekday Test1:354件\n",
      "Weekend Train0:708\n",
      "Weekend Train1:793\n",
      "Weekend Test0:295件\n",
      "Weekend Test1:349件\n"
     ]
    }
   ],
   "source": [
    "from sklearn.model_selection import train_test_split\n",
    "train_data, test_data = train_test_split(ml_data, test_size=0.3, random_state=0)\n",
    "print(f'Train:{len(train_data)}件/ Test:{len(test_data)}')\n",
    "print(f'Weekday Train0:{len(train_data.loc[train_data[\"y_weekday\"]==0])}')\n",
    "print(f'Weekday Train1:{len(train_data.loc[train_data[\"y_weekday\"]==1])}')\n",
    "print(f'Weekday Test0:{len(test_data.loc[test_data[\"y_weekday\"]==0])}件')\n",
    "print(f'Weekday Test1:{len(test_data.loc[test_data[\"y_weekday\"]==1])}件')\n",
    "print(f'Weekend Train0:{len(train_data.loc[train_data[\"y_weekend\"]==0])}')\n",
    "print(f'Weekend Train1:{len(train_data.loc[train_data[\"y_weekend\"]==1])}')\n",
    "print(f'Weekend Test0:{len(test_data.loc[test_data[\"y_weekend\"]==0])}件')\n",
    "print(f'Weekend Test1:{len(test_data.loc[test_data[\"y_weekend\"]==1])}件')\n"
   ]
  },
  {
   "cell_type": "code",
   "execution_count": null,
   "metadata": {},
   "outputs": [],
   "source": []
  },
  {
   "cell_type": "markdown",
   "metadata": {},
   "source": [
    "### ノック６４：１つのモデルを構築しよう"
   ]
  },
  {
   "cell_type": "code",
   "execution_count": null,
   "metadata": {},
   "outputs": [],
   "source": []
  },
  {
   "cell_type": "code",
   "execution_count": null,
   "metadata": {},
   "outputs": [],
   "source": []
  },
  {
   "cell_type": "markdown",
   "metadata": {},
   "source": [
    "### ノック６５：評価を実施してみよう"
   ]
  },
  {
   "cell_type": "code",
   "execution_count": null,
   "metadata": {},
   "outputs": [],
   "source": []
  },
  {
   "cell_type": "code",
   "execution_count": null,
   "metadata": {},
   "outputs": [],
   "source": []
  },
  {
   "cell_type": "markdown",
   "metadata": {},
   "source": [
    "### ノック６６：モデルの重要度を確認してみよう"
   ]
  },
  {
   "cell_type": "code",
   "execution_count": null,
   "metadata": {},
   "outputs": [],
   "source": []
  },
  {
   "cell_type": "code",
   "execution_count": null,
   "metadata": {},
   "outputs": [],
   "source": []
  },
  {
   "cell_type": "markdown",
   "metadata": {},
   "source": [
    "### ノック６７：モデル構築から評価までを関数化しよう"
   ]
  },
  {
   "cell_type": "code",
   "execution_count": null,
   "metadata": {},
   "outputs": [],
   "source": []
  },
  {
   "cell_type": "code",
   "execution_count": null,
   "metadata": {},
   "outputs": [],
   "source": []
  },
  {
   "cell_type": "markdown",
   "metadata": {},
   "source": [
    "### ノック６８：モデルファイルや評価結果を出力しよう"
   ]
  },
  {
   "cell_type": "code",
   "execution_count": null,
   "metadata": {},
   "outputs": [],
   "source": []
  },
  {
   "cell_type": "code",
   "execution_count": null,
   "metadata": {},
   "outputs": [],
   "source": []
  },
  {
   "cell_type": "markdown",
   "metadata": {},
   "source": [
    "### ノック６９：アルゴリズムを拡張して多角的な評価を実施しよう"
   ]
  },
  {
   "cell_type": "code",
   "execution_count": null,
   "metadata": {},
   "outputs": [],
   "source": []
  },
  {
   "cell_type": "code",
   "execution_count": null,
   "metadata": {},
   "outputs": [],
   "source": []
  },
  {
   "cell_type": "markdown",
   "metadata": {},
   "source": [
    "### ノック７０：平日/休日モデルを一度で回せるようにしよう"
   ]
  },
  {
   "cell_type": "code",
   "execution_count": null,
   "metadata": {},
   "outputs": [],
   "source": []
  },
  {
   "cell_type": "code",
   "execution_count": null,
   "metadata": {},
   "outputs": [],
   "source": []
  }
 ],
 "metadata": {
  "kernelspec": {
   "display_name": "Python 3.10.6 ('base')",
   "language": "python",
   "name": "python3"
  },
  "language_info": {
   "codemirror_mode": {
    "name": "ipython",
    "version": 3
   },
   "file_extension": ".py",
   "mimetype": "text/x-python",
   "name": "python",
   "nbconvert_exporter": "python",
   "pygments_lexer": "ipython3",
   "version": "3.10.6"
  },
  "vscode": {
   "interpreter": {
    "hash": "d4d1e4263499bec80672ea0156c357c1ee493ec2b1c70f0acce89fc37c4a6abe"
   }
  }
 },
 "nbformat": 4,
 "nbformat_minor": 4
}
