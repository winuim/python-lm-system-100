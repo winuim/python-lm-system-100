{
 "cells": [
  {
   "cell_type": "code",
   "execution_count": 1,
   "metadata": {},
   "outputs": [],
   "source": [
    "# Google Colaboratoryを使用する場合は、下記のコメントアウトを外し、実行してください"
   ]
  },
  {
   "cell_type": "code",
   "execution_count": 2,
   "metadata": {},
   "outputs": [],
   "source": [
    "# # 下記セルを実行すると、authorization codeの入力を求められます。\n",
    "# # 出力されたリンク先をクリックし、Googleアカウントにログインし、\n",
    "# # authorization codeをコピーし、貼り付けをおこなってください。\n",
    "# import os\n",
    "# from google.colab import drive\n",
    "# drive.mount('/content/drive')"
   ]
  },
  {
   "cell_type": "code",
   "execution_count": 3,
   "metadata": {},
   "outputs": [],
   "source": [
    "# working_dir = 'MLSys_100Knocks' #　※※自分で作成したフォルダパスが異なる場合こちらを変更してください。※※\n",
    "# path = f'/content/drive/MyDrive/{working_dir}/本章/5章'\n",
    "# os.chdir(path)\n",
    "# ! pip install japanize-matplotlib"
   ]
  },
  {
   "cell_type": "markdown",
   "metadata": {},
   "source": [
    "# ５章 分析システムを構築する１０本ノック\n",
    "\n"
   ]
  },
  {
   "cell_type": "markdown",
   "metadata": {},
   "source": [
    "### ノック４１：基本的なフォルダを生成しよう"
   ]
  },
  {
   "cell_type": "code",
   "execution_count": 4,
   "metadata": {},
   "outputs": [
    {
     "name": "stdout",
     "output_type": "stream",
     "text": [
      "data/0_input\n"
     ]
    }
   ],
   "source": [
    "import os \n",
    "data_dir = \"data\"\n",
    "input_dir = os.path.join(data_dir, \"0_input\")\n",
    "output_dir = os.path.join(data_dir, \"10_output\")\n",
    "master_dir = os.path.join(data_dir, \"99_master\")\n",
    "print(input_dir)"
   ]
  },
  {
   "cell_type": "code",
   "execution_count": 5,
   "metadata": {},
   "outputs": [],
   "source": [
    "os.makedirs(input_dir, exist_ok=True)\n",
    "os.makedirs(output_dir, exist_ok=True)\n",
    "os.makedirs(master_dir, exist_ok=True)"
   ]
  },
  {
   "cell_type": "markdown",
   "metadata": {},
   "source": [
    "##### ＊＊必ずデータの配置をおこなってください。＊＊"
   ]
  },
  {
   "cell_type": "markdown",
   "metadata": {},
   "source": [
    "### ノック４２：入力データのチェック機構を作ろう"
   ]
  },
  {
   "cell_type": "code",
   "execution_count": 6,
   "metadata": {},
   "outputs": [
    {
     "data": {
      "text/html": [
       "<div>\n",
       "<style scoped>\n",
       "    .dataframe tbody tr th:only-of-type {\n",
       "        vertical-align: middle;\n",
       "    }\n",
       "\n",
       "    .dataframe tbody tr th {\n",
       "        vertical-align: top;\n",
       "    }\n",
       "\n",
       "    .dataframe thead th {\n",
       "        text-align: right;\n",
       "    }\n",
       "</style>\n",
       "<table border=\"1\" class=\"dataframe\">\n",
       "  <thead>\n",
       "    <tr style=\"text-align: right;\">\n",
       "      <th></th>\n",
       "      <th>area_cd</th>\n",
       "      <th>wide_area</th>\n",
       "      <th>narrow_area</th>\n",
       "    </tr>\n",
       "  </thead>\n",
       "  <tbody>\n",
       "    <tr>\n",
       "      <th>0</th>\n",
       "      <td>TK</td>\n",
       "      <td>東京</td>\n",
       "      <td>東京</td>\n",
       "    </tr>\n",
       "    <tr>\n",
       "      <th>1</th>\n",
       "      <td>KN</td>\n",
       "      <td>神奈川</td>\n",
       "      <td>神奈川</td>\n",
       "    </tr>\n",
       "    <tr>\n",
       "      <th>2</th>\n",
       "      <td>CH</td>\n",
       "      <td>千葉</td>\n",
       "      <td>千葉</td>\n",
       "    </tr>\n",
       "  </tbody>\n",
       "</table>\n",
       "</div>"
      ],
      "text/plain": [
       "  area_cd wide_area narrow_area\n",
       "0      TK        東京          東京\n",
       "1      KN       神奈川         神奈川\n",
       "2      CH        千葉          千葉"
      ]
     },
     "execution_count": 6,
     "metadata": {},
     "output_type": "execute_result"
    }
   ],
   "source": [
    "import pandas as pd\n",
    "m_area_file = \"m_area.csv\"\n",
    "m_store_file = \"m_store.csv\"\n",
    "m_area = pd.read_csv(os.path.join(master_dir, m_area_file))\n",
    "m_store = pd.read_csv(os.path.join(master_dir, m_store_file))\n",
    "m_area.head(3)"
   ]
  },
  {
   "cell_type": "code",
   "execution_count": 7,
   "metadata": {},
   "outputs": [],
   "source": [
    "tg_ym = \"202007\"\n",
    "target_file = \"tbl_order_\" + tg_ym + \".csv\"\n",
    "target_data = pd.read_csv(os.path.join(input_dir, target_file))"
   ]
  },
  {
   "cell_type": "code",
   "execution_count": 8,
   "metadata": {},
   "outputs": [
    {
     "name": "stdout",
     "output_type": "stream",
     "text": [
      "日付が一致しました\n"
     ]
    }
   ],
   "source": [
    "import datetime\n",
    "max_date = pd.to_datetime(target_data[\"order_accept_date\"]).max()\n",
    "min_date = pd.to_datetime(target_data[\"order_accept_date\"]).min()\n",
    "max_str_date = max_date.strftime(\"%Y%m\")\n",
    "min_str_date = min_date.strftime(\"%Y%m\")\n",
    "if tg_ym == min_str_date and tg_ym == max_str_date:\n",
    "    print(\"日付が一致しました\")\n",
    "else:\n",
    "    raise Exception(\"日付が一致しません\")"
   ]
  },
  {
   "cell_type": "code",
   "execution_count": 9,
   "metadata": {},
   "outputs": [],
   "source": [
    "def calc_delta(t):\n",
    "    t1, t2 = t\n",
    "    delta = t2 - t1\n",
    "    return delta.total_seconds()/60\n",
    "\n",
    "def init_tran_df(trg_df):\n",
    "    trg_df = trg_df.loc[trg_df[\"store_id\"]!=999]\n",
    "    trg_df = pd.merge(trg_df, m_store, on=\"store_id\", how=\"left\")\n",
    "    trg_df = pd.merge(trg_df, m_area, on=\"area_cd\", how=\"left\")\n",
    "    trg_df.loc[trg_df[\"takeout_flag\"]==0, \"takeout_name\"] = \"デリバリー\"\n",
    "    trg_df.loc[trg_df[\"takeout_flag\"]==1, \"takeout_name\"] = \"お持ち帰り\"\n",
    "    trg_df.loc[trg_df[\"status\"]==0, \"status_name\"] = \"受付\"\n",
    "    trg_df.loc[trg_df[\"status\"]==1, \"status_name\"] = \"お支払済み\"\n",
    "    trg_df.loc[trg_df[\"status\"]==2, \"status_name\"] = \"お渡し済\"\n",
    "    trg_df.loc[trg_df[\"status\"]==9, \"status_name\"] = \"キャンセル\"\n",
    "    trg_df.loc[:,\"order_date\"] = pd.to_datetime(trg_df[\"order_accept_date\"]).dt.date\n",
    "    trg_df.loc[:,\"order_accept_datetime\"] = pd.to_datetime(trg_df[\"order_accept_date\"])\n",
    "    trg_df.loc[:,\"delivered_datetime\"] = pd.to_datetime(trg_df[\"delivered_date\"])\n",
    "    trg_df.loc[:,\"delta\"] = trg_df[[\"order_accept_datetime\",\"delivered_datetime\"]].apply(calc_delta, axis=1)\n",
    "    return trg_df\n",
    "\n",
    "target_data = init_tran_df(target_data)\n"
   ]
  },
  {
   "cell_type": "markdown",
   "metadata": {},
   "source": [
    "### ノック４３：レポーティング（本部向け）を関数化してみよう"
   ]
  },
  {
   "cell_type": "code",
   "execution_count": 10,
   "metadata": {},
   "outputs": [],
   "source": [
    "import openpyxl\n",
    "from openpyxl.utils.dataframe import dataframe_to_rows\n",
    "from openpyxl.styles import PatternFill, Border, Font\n",
    "\n",
    "def get_rank_df(target_data):\n",
    "    tmp = target_data.loc[target_data[\"status\"].isin([1,2])]\n",
    "    rank = tmp.groupby([\"store_id\"])[\"total_amount\"].sum().sort_value(ascending=False)\n",
    "    rank = pd.merge(rank, m_store, on=\"store_id\", how=\"left\")\n",
    "    return rank"
   ]
  },
  {
   "cell_type": "code",
   "execution_count": 11,
   "metadata": {},
   "outputs": [],
   "source": [
    "def get_cancel_rank_df(target_data):\n",
    "    cancel_df = pd.DataFrame()\n",
    "    cancel_cnt = target_data.loc[target_data[\"status\"]==9].groupby([\"store_id\"])[\"store_id\"].count()\n",
    "    order_cnt = target_data.loc[target_data[\"status\"].isin([1,2,9])].groupby([\"store_id\"])[\"store_id\"].count()\n",
    "    cancel_rate = (cancel_cnt/order_cnt)*100\n",
    "    cancel_df[\"cancel_rate\"] = cancel_rate\n",
    "    cance_df = pd.merge(cancel_df, m_store, on=\"store_id\", how=\"left\")\n",
    "    cance_df = cance_df.sort_values(\"cancel_rate\", ascending=True)\n",
    "    return cancel_df"
   ]
  },
  {
   "cell_type": "code",
   "execution_count": 12,
   "metadata": {},
   "outputs": [],
   "source": [
    "def data_export(df, ws, row_start, col_start):\n",
    "    side = Side(style=\"thin\", color=\"008080\")\n",
    "    border = Border(top=side, bottom=side, left=side, right=side)\n",
    "    rows = dataframe_to_rows(df, index=False, header=True)\n",
    "    for row_no, row in enumerate(rows, row_start):\n",
    "        for col_no, value in enumerate(row, col_start):\n",
    "            cell = ws.cell(row_no, col_no)\n",
    "            cell.value = value\n",
    "            cell.border = border\n",
    "            if row_no == row_start:\n",
    "                cell.fill = PatternFill(patternType=\"solid\", fgColor=\"008080\")\n",
    "                cell.font = Font(bold=True, color=\"FFFFFF\")"
   ]
  },
  {
   "cell_type": "code",
   "execution_count": 13,
   "metadata": {},
   "outputs": [],
   "source": [
    "def make_report_hq(target_data, output_folder):\n",
    "    rank = get_rank_df(target_data)\n",
    "    cancel_rank = get_cancel_rank_df(target_data)\n",
    "    wb = openpyxl.Workbook()\n",
    "    ws = wb.active\n",
    "    ws.title = \"サマリーレポート（本部向け）\"\n",
    "    cell = ws.cell(1,1)\n",
    "    cell.value = f'本部向け {max_str_date}月度　サマリーレポート'\n",
    "    cell.font = Font(bold=True, color=\"008080\", size=20)\n",
    "\n",
    "    cell = ws.cell(3,2)\n",
    "    cell.value = f'{max_str_date}月度　売上総額'\n",
    "    cell.font = Font(bold=True, color=\"008080\",size=20)\n",
    "\n",
    "    cell = ws.cell(3,6)\n",
    "    cell.value = f\"{'{;,}'.format(rank['total_amount'].sum())}\"\n",
    "    cell.font = Font(bold=True, color=\"008080\", size=20)\n",
    "\n",
    "    cell = ws.cell(5,2)\n",
    "    cell.value = f'売上ランキング'\n",
    "    cell.font = Font(bold=True, color=\"008080\", size=16)\n",
    "\n",
    "    data_export(rank, ws, 6, 2)\n",
    "\n",
    "    cell = ws.cell(5,8)\n",
    "    cell.value = f'キャンセル率ランキング'\n",
    "    cell.font = Font(bold=True, color=\"008080\", size=16)\n",
    "\n",
    "    data_export(cancel_rank, ws, 6, 8)\n",
    "\n",
    "    wb.save(os.path.join(output_folder, f'report_hq_{max_str_date}.xlsx'))\n",
    "    wb.close()"
   ]
  },
  {
   "cell_type": "markdown",
   "metadata": {},
   "source": [
    "### ノック４４：レポーティング（店舗向け）を関数化してみよう"
   ]
  },
  {
   "cell_type": "code",
   "execution_count": 17,
   "metadata": {},
   "outputs": [],
   "source": [
    "def get_store_rank(target_id, target_df):\n",
    "    rank = get_rank_df(target_df)\n",
    "    store_rank = rank.loc[rank[\"store_id\"]==target_id].index + 1\n",
    "    return store_rank[0]\n",
    "\n",
    "def get_store_sale(target_id, target_df):\n",
    "    rank = get_rank_df(target_df)\n",
    "    store_sale = rank.loc[rank[\"store_id\"]==target_id][\"total_amount\"]\n",
    "    return store_sale\n"
   ]
  },
  {
   "cell_type": "code",
   "execution_count": 18,
   "metadata": {},
   "outputs": [],
   "source": [
    "def get_store_cancel_rank(target_id, target_df):\n",
    "    cancel_df = get_cancel_rank_df(target_df)\n",
    "    cancel_df = cancel_df.reset_index()\n",
    "    store_cancel_rank = cancel_df.loc[cancel_df[\"store_id\"]==target_id].index + 1\n",
    "    return store_cancel_rank[0]\n",
    "\n",
    "def get_store_cancel_count(target_id, target_df):\n",
    "    store_cancel_count = target_df.loc[(target_df[\"status\"]==9)&(target_df[\"store_id\"]==target_id)].groupby([\"store_id\"])[\"store_id\"].count()\n",
    "    return store_cancel_count\n"
   ]
  },
  {
   "cell_type": "code",
   "execution_count": 19,
   "metadata": {},
   "outputs": [],
   "source": [
    "def get_delivery_rank_df(target_id, target_df):\n",
    "    delivery = target_df.loc[target_df[\"status\"]==2]\n",
    "    delivery_rank = delivery.groupby([\"store_id\"])[\"delta\"].mean().sort_values()\n",
    "    delivery_rank = pd.merge(delivery_rank, m_store, on=\"store_id\", how=\"left\")\n",
    "    return delivery_rank\n",
    "\n",
    "def get_delivery_rank_store(target_id, target_df):\n",
    "    delivery_rank = get_delivery_rank_df(target_id, target_df)\n",
    "    store_delivery_rank = delivery_rank.loc[delivery_rank[\"store_id\"]==target_id].index + 1\n",
    "    return store_delivery_rank[0]"
   ]
  },
  {
   "cell_type": "code",
   "execution_count": null,
   "metadata": {},
   "outputs": [],
   "source": [
    "def make_report_store(target_data, target_id, output_dir):\n",
    "    rank = get_store_rank(target_id, target_data)\n",
    "    sale = get_store_sale(target_id, target_data)\n",
    "    cancel_rank = get_store_cancel_rank(target_id, target_data)\n",
    "    cancel_count = get_store_cancel_count(target_id, target_data)\n",
    "    delivery_df = get_delivery_rank_df(target_id, target_data)\n",
    "    delivery_rank = get_delivery_rank_store(target_id, target_data)\n",
    "    store_name = m_store.loc[m_store[\"store_id\"]==target_id][\"store_name\"].values[0]\n",
    "    wb = openpyxl.Workbook()\n",
    "    ws = wb.active\n",
    "    ws.title = \"店舗向けレポーティング\"\n",
    "    \n",
    "    cell = ws.cell(1,1)\n",
    "    cell.value = f'{store_name} {max_str_date}月度 サマリーレポート'\n",
    "    cell.font = Font(bold=True, color=\"008080\", size=20)\n",
    "\n",
    "    cell = ws.cell(3,2)\n",
    "    cell.value = f'{max_str_date}月度　売上総額'\n",
    "    cell.font = Font(bold=True, color=\"008080\", size=20)\n",
    "\n",
    "    cell = ws.cell(3,6)\n",
    "    cell.value = f\"{'{:,}'.format(sale.values[0])}\"\n",
    "    cell.font = Font(bold=True, color=\"008080\", size=20)\n",
    "\n",
    "    cell = ws.cell(5,2)\n",
    "    cell.value = f'売上ランキング'\n",
    "    cell.font = Font(bold=True, color=\"008080\", size=16)\n",
    "\n",
    "    cell = ws.cell(5,5)\n",
    "    cell.value = f'{rank}位'\n",
    "    cell.font = Font(bold=True, color=\"008080\", size=16)\n",
    "\n",
    "    cell = ws.cell(6,2)\n",
    "    cell.value = f'売上データ'\n",
    "    cell.font = Font(bold=True, color=\"008080\", size=16)\n",
    "\n",
    "    tmp_df = target_data.loc[(target_data[\"store_id\"]==target_id)&(target_data[\"status\"].isin([1,2]))]\n",
    "    tmp_df = tmp_df[[\"order_accept_date\", \"customer_id\", \"total_amount\", \"takeout_name\", \"status_name\"]]\n",
    "    data_export(tmp_df, ws, 7, 2)\n",
    "\n",
    "    cell = ws.cell(5,8)\n",
    "    cell.value = f'{cancel_rank}位　{cancel_count.values[0]}回'\n",
    "    cell.font = Font(bold=True, color=\"008080\", size=16)\n",
    "\n",
    "    cell = ws.cell(6,8)\n",
    "    cell.value = f'キャンセルデータ'\n",
    "    cell.font = Font(bold=True, color=\"008080\", size=16)\n",
    "\n",
    "    tmp_df = target_data.loc[(target_data[\"status\"]==target_id)&(target_data[\"status\"]==9)]\n",
    "    tmp_df = tmp_df[[\"order_accept_date\", \"customer_id\", \"total_amount\", \"takeout_name\", \"status_name\"]]\n",
    "    data_export(tmp_df, ws, 7, 8)\n",
    "\n",
    "    ave_time = delivery_df.loc[delivery_df[\"store_id\"]==target_id][\"delta\"].values[0]\n",
    "    cell = ws.cell(5,14)\n",
    "    cell.value = f'配達完了までの時間ランキング'\n",
    "    cell.font = Font(bold=True, color=\"008080\", size=16)\n",
    "\n",
    "    cell = ws.cell(5,18)\n",
    "    cell.value = f'{delivery_rank}位　平均{ave_time}分'\n",
    "    cell.font = Font(bold=True, color=\"008080\", size=16)\n",
    "\n",
    "    cell = ws.cell(6,14)\n",
    "    cell.value = f'各店舗の配達時間ランク'\n",
    "    cell.font = Font(bold=True, color=\"008080\", size=16)\n",
    "\n",
    "    data_export(delivery_df, ws, 7, 14)\n",
    "\n",
    "    wb.save(os.path.join(output_folder, f'{target_id}_{store_name}_report_{max_str_date}.xlsx'))\n",
    "    wb.close()"
   ]
  },
  {
   "cell_type": "markdown",
   "metadata": {},
   "source": [
    "### ノック４５：関数を実行し動作を確認してみよう "
   ]
  },
  {
   "cell_type": "code",
   "execution_count": null,
   "metadata": {},
   "outputs": [],
   "source": []
  },
  {
   "cell_type": "code",
   "execution_count": null,
   "metadata": {},
   "outputs": [],
   "source": []
  },
  {
   "cell_type": "markdown",
   "metadata": {},
   "source": [
    "### ノック４６：更新に対応できる出力フォルダを作成しよう"
   ]
  },
  {
   "cell_type": "code",
   "execution_count": null,
   "metadata": {},
   "outputs": [],
   "source": []
  },
  {
   "cell_type": "code",
   "execution_count": null,
   "metadata": {},
   "outputs": [],
   "source": []
  },
  {
   "cell_type": "markdown",
   "metadata": {},
   "source": [
    "### ノック４７：都道府県別で出力できるように出力フォルダを拡張してデータを出力しよう"
   ]
  },
  {
   "cell_type": "code",
   "execution_count": null,
   "metadata": {},
   "outputs": [],
   "source": []
  },
  {
   "cell_type": "code",
   "execution_count": null,
   "metadata": {},
   "outputs": [],
   "source": []
  },
  {
   "cell_type": "markdown",
   "metadata": {},
   "source": [
    "### ノック４８：前月のデータを動的に読み込もう"
   ]
  },
  {
   "cell_type": "code",
   "execution_count": null,
   "metadata": {},
   "outputs": [],
   "source": []
  },
  {
   "cell_type": "code",
   "execution_count": null,
   "metadata": {},
   "outputs": [],
   "source": []
  },
  {
   "cell_type": "markdown",
   "metadata": {},
   "source": [
    "### ノック４９：実行して過去データとの比較をしてみよう"
   ]
  },
  {
   "cell_type": "code",
   "execution_count": null,
   "metadata": {},
   "outputs": [],
   "source": []
  },
  {
   "cell_type": "code",
   "execution_count": null,
   "metadata": {},
   "outputs": [],
   "source": []
  },
  {
   "cell_type": "markdown",
   "metadata": {},
   "source": [
    "### ノック５０：画面から実行できるようにしよう"
   ]
  },
  {
   "cell_type": "code",
   "execution_count": null,
   "metadata": {},
   "outputs": [],
   "source": []
  },
  {
   "cell_type": "code",
   "execution_count": null,
   "metadata": {},
   "outputs": [],
   "source": []
  }
 ],
 "metadata": {
  "kernelspec": {
   "display_name": "Python 3.10.4 ('base')",
   "language": "python",
   "name": "python3"
  },
  "language_info": {
   "codemirror_mode": {
    "name": "ipython",
    "version": 3
   },
   "file_extension": ".py",
   "mimetype": "text/x-python",
   "name": "python",
   "nbconvert_exporter": "python",
   "pygments_lexer": "ipython3",
   "version": "3.10.4"
  },
  "vscode": {
   "interpreter": {
    "hash": "d4d1e4263499bec80672ea0156c357c1ee493ec2b1c70f0acce89fc37c4a6abe"
   }
  }
 },
 "nbformat": 4,
 "nbformat_minor": 4
}
