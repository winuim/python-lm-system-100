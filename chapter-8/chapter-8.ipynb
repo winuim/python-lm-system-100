{
 "cells": [
  {
   "cell_type": "code",
   "execution_count": 1,
   "metadata": {},
   "outputs": [],
   "source": [
    "# Google Colaboratoryを使用する場合は、下記のコメントアウトを外し、実行してください"
   ]
  },
  {
   "cell_type": "code",
   "execution_count": 2,
   "metadata": {},
   "outputs": [],
   "source": [
    "# # 下記セルを実行すると、authorization codeの入力を求められます。\n",
    "# # 出力されたリンク先をクリックし、Googleアカウントにログインし、\n",
    "# # authorization codeをコピーし、貼り付けをおこなってください。\n",
    "# import os\n",
    "# from google.colab import drive\n",
    "# drive.mount('/content/drive')"
   ]
  },
  {
   "cell_type": "code",
   "execution_count": 3,
   "metadata": {},
   "outputs": [],
   "source": [
    "# working_dir = 'MLSys_100Knocks' #　※※自分で作成したフォルダパスが異なる場合こちらを変更してください。※※\n",
    "# path = f'/content/drive/MyDrive/{working_dir}/本章/8章'\n",
    "# os.chdir(path)\n",
    "# ! pip install japanize-matplotlib"
   ]
  },
  {
   "cell_type": "markdown",
   "metadata": {},
   "source": [
    "# ８章 構築した機械学習モデルで新規データを予測する１０本ノック\n",
    "\n"
   ]
  },
  {
   "cell_type": "markdown",
   "metadata": {},
   "source": [
    "### ノック７１：フォルダ生成をしてデータ読み込みの準備をしよう"
   ]
  },
  {
   "cell_type": "code",
   "execution_count": 4,
   "metadata": {},
   "outputs": [],
   "source": [
    "import os\n",
    "data_dir = \"data\"\n",
    "input_dir = os.path.join(data_dir, \"0_input\")\n",
    "output_dir = os.path.join(data_dir, \"1_output\")\n",
    "master_dir = os.path.join(data_dir, \"99_master\")\n",
    "model_dir = \"models\"\n",
    "os.makedirs(input_dir, exist_ok=True)\n",
    "os.makedirs(output_dir, exist_ok=True)\n",
    "os.makedirs(master_dir, exist_ok=True)\n",
    "os.makedirs(model_dir, exist_ok=True)"
   ]
  },
  {
   "cell_type": "markdown",
   "metadata": {},
   "source": [
    "##### ＊＊必ずデータやモデルの配置をおこなってください。＊＊"
   ]
  },
  {
   "cell_type": "markdown",
   "metadata": {},
   "source": [
    "### ノック７２：予測したい新規データを読み込もう"
   ]
  },
  {
   "cell_type": "code",
   "execution_count": 5,
   "metadata": {},
   "outputs": [],
   "source": [
    "import pandas as pd\n",
    "m_area_file = \"m_area.csv\"\n",
    "m_store_file = \"m_store.csv\"\n",
    "m_area = pd.read_csv(os.path.join(master_dir, m_area_file))\n",
    "m_store = pd.read_csv(os.path.join(master_dir, m_store_file))"
   ]
  },
  {
   "cell_type": "code",
   "execution_count": 6,
   "metadata": {},
   "outputs": [
    {
     "name": "stdout",
     "output_type": "stream",
     "text": [
      "日付が一致しました\n"
     ]
    }
   ],
   "source": [
    "tg_ym = \"202003\"\n",
    "target_file = \"tbl_order_\" + tg_ym + \".csv\"\n",
    "target_data = pd.read_csv(os.path.join(input_dir, target_file))\n",
    "\n",
    "import datetime\n",
    "max_date = pd.to_datetime(target_data[\"order_accept_date\"]).max()\n",
    "min_date = pd.to_datetime(target_data[\"order_accept_date\"]).min()\n",
    "max_str_date = max_date.strftime(\"%Y%m\")\n",
    "min_str_date = min_date.strftime(\"%Y%m\")\n",
    "if tg_ym == min_str_date and tg_ym == max_str_date:\n",
    "    print(\"日付が一致しました\")\n",
    "else:\n",
    "    raise Exception(\"日付が一致しません\")"
   ]
  },
  {
   "cell_type": "markdown",
   "metadata": {},
   "source": [
    "### ノック７３：新規データを店舗別で集計しよう"
   ]
  },
  {
   "cell_type": "code",
   "execution_count": 7,
   "metadata": {},
   "outputs": [],
   "source": [
    "def calc_delta(t):\n",
    "    t1, t2 = t\n",
    "    delta = t2 - t1\n",
    "    return delta.total_seconds()/60\n",
    "\n",
    "def data_processing(order_data):\n",
    "    order_data = order_data.loc[order_data[\"store_id\"]!=999]\n",
    "    order_data = pd.merge(order_data, m_store, on=\"store_id\", how=\"left\")\n",
    "    order_data = pd.merge(order_data, m_area, on=\"area_cd\", how=\"left\")\n",
    "    order_data.loc[order_data[\"takeout_flag\"]==0, \"takeout_name\"] = \"デリバリー\"\n",
    "    order_data.loc[order_data[\"takeout_flag\"]==1, \"takeout_name\"] = \"お持ち帰り\"\n",
    "    order_data.loc[order_data[\"status\"]==0, \"status_name\"] = \"受付\"\n",
    "    order_data.loc[order_data[\"status\"]==1, \"status_name\"] = \"お支払済み\"\n",
    "    order_data.loc[order_data[\"status\"]==2, \"status_name\"] = \"お渡し済み\"\n",
    "    order_data.loc[order_data[\"status\"]==9, \"status_name\"] = \"キャンセル\"\n",
    "\n",
    "    order_data.loc[:, \"order_accept_datetime\"] = pd.to_datetime(order_data[\"order_accept_date\"])\n",
    "    order_data.loc[:, \"delivered_datetime\"] = pd.to_datetime(order_data[\"delivered_date\"])\n",
    "    order_data.loc[:, \"delta\"] = order_data[[\"order_accept_datetime\", \"delivered_datetime\"]].apply(calc_delta, axis=1)\n",
    "    order_data.loc[:, \"order_accept_hour\"] = order_data[\"order_accept_datetime\"].dt.hour\n",
    "    order_data.loc[:, \"order_accept_weekday\"] = order_data[\"order_accept_datetime\"].dt.weekday\n",
    "    order_data.loc[order_data[\"order_accept_weekday\"]>=5, \"weekday_info\"] = \"休日\"\n",
    "    order_data.loc[order_data[\"order_accept_weekday\"]<5, \"weekday_info\"] = \"平日\"\n",
    "\n",
    "    store_data = order_data.groupby([\"store_name\"]).count()[[\"order_id\"]]\n",
    "    store_f = order_data.loc[(order_data[\"status_name\"]==\"お渡し済み\")|(order_data[\"status_name\"]==\"お支払済み\")].groupby([\"store_name\"]).count()[[\"order_id\"]]\n",
    "    store_c = order_data.loc[order_data[\"status_name\"]==\"キャンセル\"].groupby([\"store_name\"]).count()[[\"order_id\"]]\n",
    "    store_d = order_data.loc[order_data[\"status_name\"]==\"デリバリー\"].groupby([\"store_name\"]).count()[[\"order_id\"]]\n",
    "    store_t = order_data.loc[order_data[\"status_name\"]==\"お持ち帰り\"].groupby([\"store_name\"]).count()[[\"order_id\"]]\n",
    "    store_weekday = order_data.loc[order_data[\"weekday_info\"]==\"平日\"].groupby([\"store_name\"]).count()[[\"order_id\"]]\n",
    "    store_weekend = order_data.loc[order_data[\"weekday_info\"]==\"休日\"].groupby([\"store_name\"]).count()[[\"order_id\"]]\n",
    "    times = order_data[\"order_accept_hour\"].unique()\n",
    "    store_time = []\n",
    "    for time in times:\n",
    "        time_tmp = order_data.loc[order_data[\"order_accept_hour\"]==time].groupby([\"store_name\"]).count()[[\"order_id\"]]\n",
    "        time_tmp.columns = [f'order_time_{time}']\n",
    "        store_time.append(time_tmp)\n",
    "    store_time = pd.concat(store_time, axis=1)\n",
    "    store_delta = order_data[order_data[\"status_name\"]!=\"キャンセル\"].groupby([\"store_name\"]).mean()[[\"delta\"]]\n",
    "    store_delta.columns = [\"order\"]\n",
    "    store_f.columns = [\"order_fin\"]\n",
    "    store_c.columns = [\"order_cancel\"]\n",
    "    store_d.columns = [\"order_delivery\"]\n",
    "    store_t.columns = [\"order_takeout\"]\n",
    "    store_delta.columns = [\"delta_avg\"]\n",
    "    store_weekday.columns = [\"order_weekday\"]\n",
    "    store_weekend.columns = [\"order_weekend\"]\n",
    "    store_data = pd.concat([store_data, store_f, store_c, store_d, store_t, store_weekday, store_weekend, store_time, store_delta], axis=1)\n",
    "    return store_data\n",
    "\n"
   ]
  },
  {
   "cell_type": "code",
   "execution_count": 8,
   "metadata": {},
   "outputs": [],
   "source": [
    "store_data = data_processing(target_data)\n",
    "store_data.reset_index(drop=False, inplace=True)\n",
    "actual_data = store_data.copy()"
   ]
  },
  {
   "cell_type": "markdown",
   "metadata": {},
   "source": [
    "### ノック７４：新規データのカテゴリカル変数対応をしよう"
   ]
  },
  {
   "cell_type": "code",
   "execution_count": 9,
   "metadata": {},
   "outputs": [
    {
     "data": {
      "text/html": [
       "<div>\n",
       "<style scoped>\n",
       "    .dataframe tbody tr th:only-of-type {\n",
       "        vertical-align: middle;\n",
       "    }\n",
       "\n",
       "    .dataframe tbody tr th {\n",
       "        vertical-align: top;\n",
       "    }\n",
       "\n",
       "    .dataframe thead th {\n",
       "        text-align: right;\n",
       "    }\n",
       "</style>\n",
       "<table border=\"1\" class=\"dataframe\">\n",
       "  <thead>\n",
       "    <tr style=\"text-align: right;\">\n",
       "      <th></th>\n",
       "      <th>store_name</th>\n",
       "      <th>order_id</th>\n",
       "      <th>order_fin</th>\n",
       "      <th>order_cancel</th>\n",
       "      <th>order_delivery</th>\n",
       "      <th>order_takeout</th>\n",
       "      <th>order_weekday</th>\n",
       "      <th>order_weekend</th>\n",
       "      <th>order_time_11</th>\n",
       "      <th>order_time_12</th>\n",
       "      <th>...</th>\n",
       "      <th>store_駒沢店</th>\n",
       "      <th>store_駒込店</th>\n",
       "      <th>store_高円寺店</th>\n",
       "      <th>store_高島平店</th>\n",
       "      <th>store_高崎店</th>\n",
       "      <th>store_高座店</th>\n",
       "      <th>store_高津店</th>\n",
       "      <th>store_高田馬場店</th>\n",
       "      <th>store_鴻巣店</th>\n",
       "      <th>store_鶴見店</th>\n",
       "    </tr>\n",
       "  </thead>\n",
       "  <tbody>\n",
       "    <tr>\n",
       "      <th>0</th>\n",
       "      <td>あきる野店</td>\n",
       "      <td>1186</td>\n",
       "      <td>958</td>\n",
       "      <td>228</td>\n",
       "      <td>NaN</td>\n",
       "      <td>NaN</td>\n",
       "      <td>839</td>\n",
       "      <td>347</td>\n",
       "      <td>104</td>\n",
       "      <td>107</td>\n",
       "      <td>...</td>\n",
       "      <td>0</td>\n",
       "      <td>0</td>\n",
       "      <td>0</td>\n",
       "      <td>0</td>\n",
       "      <td>0</td>\n",
       "      <td>0</td>\n",
       "      <td>0</td>\n",
       "      <td>0</td>\n",
       "      <td>0</td>\n",
       "      <td>0</td>\n",
       "    </tr>\n",
       "    <tr>\n",
       "      <th>1</th>\n",
       "      <td>さいたま南店</td>\n",
       "      <td>1553</td>\n",
       "      <td>1266</td>\n",
       "      <td>287</td>\n",
       "      <td>NaN</td>\n",
       "      <td>NaN</td>\n",
       "      <td>1103</td>\n",
       "      <td>450</td>\n",
       "      <td>165</td>\n",
       "      <td>136</td>\n",
       "      <td>...</td>\n",
       "      <td>0</td>\n",
       "      <td>0</td>\n",
       "      <td>0</td>\n",
       "      <td>0</td>\n",
       "      <td>0</td>\n",
       "      <td>0</td>\n",
       "      <td>0</td>\n",
       "      <td>0</td>\n",
       "      <td>0</td>\n",
       "      <td>0</td>\n",
       "    </tr>\n",
       "    <tr>\n",
       "      <th>2</th>\n",
       "      <td>さいたま緑店</td>\n",
       "      <td>1063</td>\n",
       "      <td>875</td>\n",
       "      <td>188</td>\n",
       "      <td>NaN</td>\n",
       "      <td>NaN</td>\n",
       "      <td>754</td>\n",
       "      <td>309</td>\n",
       "      <td>113</td>\n",
       "      <td>82</td>\n",
       "      <td>...</td>\n",
       "      <td>0</td>\n",
       "      <td>0</td>\n",
       "      <td>0</td>\n",
       "      <td>0</td>\n",
       "      <td>0</td>\n",
       "      <td>0</td>\n",
       "      <td>0</td>\n",
       "      <td>0</td>\n",
       "      <td>0</td>\n",
       "      <td>0</td>\n",
       "    </tr>\n",
       "  </tbody>\n",
       "</table>\n",
       "<p>3 rows × 214 columns</p>\n",
       "</div>"
      ],
      "text/plain": [
       "  store_name  order_id  order_fin  order_cancel  order_delivery  \\\n",
       "0      あきる野店      1186        958           228             NaN   \n",
       "1     さいたま南店      1553       1266           287             NaN   \n",
       "2     さいたま緑店      1063        875           188             NaN   \n",
       "\n",
       "   order_takeout  order_weekday  order_weekend  order_time_11  order_time_12  \\\n",
       "0            NaN            839            347            104            107   \n",
       "1            NaN           1103            450            165            136   \n",
       "2            NaN            754            309            113             82   \n",
       "\n",
       "   ...  store_駒沢店  store_駒込店  store_高円寺店  store_高島平店  store_高崎店  store_高座店  \\\n",
       "0  ...          0          0           0           0          0          0   \n",
       "1  ...          0          0           0           0          0          0   \n",
       "2  ...          0          0           0           0          0          0   \n",
       "\n",
       "   store_高津店  store_高田馬場店  store_鴻巣店  store_鶴見店  \n",
       "0          0            0          0          0  \n",
       "1          0            0          0          0  \n",
       "2          0            0          0          0  \n",
       "\n",
       "[3 rows x 214 columns]"
      ]
     },
     "execution_count": 9,
     "metadata": {},
     "output_type": "execute_result"
    }
   ],
   "source": [
    "category_data = pd.get_dummies(store_data[\"store_name\"], prefix=\"store\", prefix_sep=\"_\")\n",
    "del category_data[\"store_麻生店\"]\n",
    "store_data = pd.concat([store_data, category_data], axis=1)\n",
    "store_data.head(3)"
   ]
  },
  {
   "cell_type": "code",
   "execution_count": null,
   "metadata": {},
   "outputs": [],
   "source": []
  },
  {
   "cell_type": "markdown",
   "metadata": {},
   "source": [
    "### ノック７５：モデルに投入する直前の形式に整えよう"
   ]
  },
  {
   "cell_type": "code",
   "execution_count": null,
   "metadata": {},
   "outputs": [],
   "source": []
  },
  {
   "cell_type": "code",
   "execution_count": null,
   "metadata": {},
   "outputs": [],
   "source": []
  },
  {
   "cell_type": "markdown",
   "metadata": {},
   "source": [
    "### ノック７６：モデルファイルを読み込んでみよう"
   ]
  },
  {
   "cell_type": "code",
   "execution_count": null,
   "metadata": {},
   "outputs": [],
   "source": []
  },
  {
   "cell_type": "code",
   "execution_count": null,
   "metadata": {},
   "outputs": [],
   "source": []
  },
  {
   "cell_type": "markdown",
   "metadata": {},
   "source": [
    "### ノック７７：新規データの予測をしてみよう"
   ]
  },
  {
   "cell_type": "code",
   "execution_count": null,
   "metadata": {},
   "outputs": [],
   "source": []
  },
  {
   "cell_type": "code",
   "execution_count": null,
   "metadata": {},
   "outputs": [],
   "source": []
  },
  {
   "cell_type": "markdown",
   "metadata": {},
   "source": [
    "### ノック７８：予測結果のヒートマップを作成してみよう"
   ]
  },
  {
   "cell_type": "code",
   "execution_count": null,
   "metadata": {},
   "outputs": [],
   "source": []
  },
  {
   "cell_type": "code",
   "execution_count": null,
   "metadata": {},
   "outputs": [],
   "source": []
  },
  {
   "cell_type": "markdown",
   "metadata": {},
   "source": [
    "### ノック７９：実績データを作成しよう"
   ]
  },
  {
   "cell_type": "code",
   "execution_count": null,
   "metadata": {},
   "outputs": [],
   "source": []
  },
  {
   "cell_type": "code",
   "execution_count": null,
   "metadata": {},
   "outputs": [],
   "source": []
  },
  {
   "cell_type": "markdown",
   "metadata": {},
   "source": [
    "### ノック８０：現場に向けたレポートを作成し出力しよう"
   ]
  },
  {
   "cell_type": "code",
   "execution_count": null,
   "metadata": {},
   "outputs": [],
   "source": []
  },
  {
   "cell_type": "code",
   "execution_count": null,
   "metadata": {},
   "outputs": [],
   "source": []
  }
 ],
 "metadata": {
  "kernelspec": {
   "display_name": "Python 3.10.6 64-bit",
   "language": "python",
   "name": "python3"
  },
  "language_info": {
   "codemirror_mode": {
    "name": "ipython",
    "version": 3
   },
   "file_extension": ".py",
   "mimetype": "text/x-python",
   "name": "python",
   "nbconvert_exporter": "python",
   "pygments_lexer": "ipython3",
   "version": "3.10.6"
  },
  "vscode": {
   "interpreter": {
    "hash": "b0fa6594d8f4cbf19f97940f81e996739fb7646882a419484c72d19e05852a7e"
   }
  }
 },
 "nbformat": 4,
 "nbformat_minor": 4
}
