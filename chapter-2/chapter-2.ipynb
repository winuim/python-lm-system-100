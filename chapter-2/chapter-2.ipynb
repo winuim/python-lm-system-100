{
 "cells": [
  {
   "cell_type": "code",
   "execution_count": 28,
   "metadata": {},
   "outputs": [],
   "source": [
    "# Google Colaboratoryを使用する場合は、下記のコメントアウトを外し、実行してください"
   ]
  },
  {
   "cell_type": "code",
   "execution_count": 29,
   "metadata": {},
   "outputs": [],
   "source": [
    "# # 下記セルを実行すると、authorization codeの入力を求められます。\n",
    "# # 出力されたリンク先をクリックし、Googleアカウントにログインし、\n",
    "# # authorization codeをコピーし、貼り付けをおこなってください。\n",
    "# import os\n",
    "# from google.colab import drive\n",
    "# drive.mount('/content/drive')"
   ]
  },
  {
   "cell_type": "code",
   "execution_count": 30,
   "metadata": {},
   "outputs": [],
   "source": [
    "# working_dir = 'MLSys_100Knocks' #　※※自分で作成したフォルダパスが異なる場合こちらを変更してください。※※\n",
    "# path = f'/content/drive/MyDrive/{working_dir}/本章/2章'\n",
    "# os.chdir(path)\n",
    "# ! pip install japanize-matplotlib"
   ]
  },
  {
   "cell_type": "markdown",
   "metadata": {},
   "source": [
    "# ２章 データを可視化し分析を行う１０本ノック\n",
    "\n"
   ]
  },
  {
   "cell_type": "markdown",
   "metadata": {},
   "source": [
    "### ノック１１：データを読み込んで不要なものを除外しよう"
   ]
  },
  {
   "cell_type": "code",
   "execution_count": 31,
   "metadata": {},
   "outputs": [
    {
     "name": "stdout",
     "output_type": "stream",
     "text": [
      "703880\n"
     ]
    },
    {
     "data": {
      "text/html": [
       "<div>\n",
       "<style scoped>\n",
       "    .dataframe tbody tr th:only-of-type {\n",
       "        vertical-align: middle;\n",
       "    }\n",
       "\n",
       "    .dataframe tbody tr th {\n",
       "        vertical-align: top;\n",
       "    }\n",
       "\n",
       "    .dataframe thead th {\n",
       "        text-align: right;\n",
       "    }\n",
       "</style>\n",
       "<table border=\"1\" class=\"dataframe\">\n",
       "  <thead>\n",
       "    <tr style=\"text-align: right;\">\n",
       "      <th></th>\n",
       "      <th>order_id</th>\n",
       "      <th>store_id</th>\n",
       "      <th>customer_id</th>\n",
       "      <th>coupon_cd</th>\n",
       "      <th>sales_detail_id</th>\n",
       "      <th>order_accept_date</th>\n",
       "      <th>delivered_date</th>\n",
       "      <th>takeout_flag</th>\n",
       "      <th>total_amount</th>\n",
       "      <th>status</th>\n",
       "      <th>store_name</th>\n",
       "      <th>area_cd</th>\n",
       "      <th>wide_area</th>\n",
       "      <th>narrow_area</th>\n",
       "      <th>takeout_name</th>\n",
       "      <th>status_name</th>\n",
       "    </tr>\n",
       "  </thead>\n",
       "  <tbody>\n",
       "    <tr>\n",
       "      <th>0</th>\n",
       "      <td>79339111</td>\n",
       "      <td>49</td>\n",
       "      <td>C26387220</td>\n",
       "      <td>50</td>\n",
       "      <td>67393872</td>\n",
       "      <td>2020-04-01 11:00:00</td>\n",
       "      <td>2020-04-01 11:18:00</td>\n",
       "      <td>1</td>\n",
       "      <td>4144</td>\n",
       "      <td>1</td>\n",
       "      <td>浅草店</td>\n",
       "      <td>TK</td>\n",
       "      <td>東京</td>\n",
       "      <td>東京</td>\n",
       "      <td>お持ち帰り</td>\n",
       "      <td>お支払済</td>\n",
       "    </tr>\n",
       "    <tr>\n",
       "      <th>1</th>\n",
       "      <td>18941733</td>\n",
       "      <td>85</td>\n",
       "      <td>C48773811</td>\n",
       "      <td>26</td>\n",
       "      <td>91834983</td>\n",
       "      <td>2020-04-01 11:00:00</td>\n",
       "      <td>2020-04-01 11:22:00</td>\n",
       "      <td>0</td>\n",
       "      <td>2877</td>\n",
       "      <td>2</td>\n",
       "      <td>目黒店</td>\n",
       "      <td>TK</td>\n",
       "      <td>東京</td>\n",
       "      <td>東京</td>\n",
       "      <td>デリバリー</td>\n",
       "      <td>お渡し済</td>\n",
       "    </tr>\n",
       "    <tr>\n",
       "      <th>2</th>\n",
       "      <td>56217880</td>\n",
       "      <td>76</td>\n",
       "      <td>C66287421</td>\n",
       "      <td>36</td>\n",
       "      <td>64409634</td>\n",
       "      <td>2020-04-01 11:00:00</td>\n",
       "      <td>2020-04-01 11:15:00</td>\n",
       "      <td>0</td>\n",
       "      <td>2603</td>\n",
       "      <td>2</td>\n",
       "      <td>本郷店</td>\n",
       "      <td>TK</td>\n",
       "      <td>東京</td>\n",
       "      <td>東京</td>\n",
       "      <td>デリバリー</td>\n",
       "      <td>お渡し済</td>\n",
       "    </tr>\n",
       "    <tr>\n",
       "      <th>3</th>\n",
       "      <td>28447783</td>\n",
       "      <td>190</td>\n",
       "      <td>C41156423</td>\n",
       "      <td>19</td>\n",
       "      <td>73032165</td>\n",
       "      <td>2020-04-01 11:00:00</td>\n",
       "      <td>2020-04-01 11:16:00</td>\n",
       "      <td>0</td>\n",
       "      <td>2732</td>\n",
       "      <td>2</td>\n",
       "      <td>栃木店</td>\n",
       "      <td>TO</td>\n",
       "      <td>北関東</td>\n",
       "      <td>栃木</td>\n",
       "      <td>デリバリー</td>\n",
       "      <td>お渡し済</td>\n",
       "    </tr>\n",
       "    <tr>\n",
       "      <th>4</th>\n",
       "      <td>32576156</td>\n",
       "      <td>191</td>\n",
       "      <td>C54568117</td>\n",
       "      <td>71</td>\n",
       "      <td>23281182</td>\n",
       "      <td>2020-04-01 11:00:00</td>\n",
       "      <td>2020-04-01 11:53:00</td>\n",
       "      <td>0</td>\n",
       "      <td>2987</td>\n",
       "      <td>2</td>\n",
       "      <td>伊勢崎店</td>\n",
       "      <td>GU</td>\n",
       "      <td>北関東</td>\n",
       "      <td>群馬</td>\n",
       "      <td>デリバリー</td>\n",
       "      <td>お渡し済</td>\n",
       "    </tr>\n",
       "  </tbody>\n",
       "</table>\n",
       "</div>"
      ],
      "text/plain": [
       "   order_id  store_id customer_id  coupon_cd  sales_detail_id  \\\n",
       "0  79339111        49   C26387220         50         67393872   \n",
       "1  18941733        85   C48773811         26         91834983   \n",
       "2  56217880        76   C66287421         36         64409634   \n",
       "3  28447783       190   C41156423         19         73032165   \n",
       "4  32576156       191   C54568117         71         23281182   \n",
       "\n",
       "     order_accept_date       delivered_date  takeout_flag  total_amount  \\\n",
       "0  2020-04-01 11:00:00  2020-04-01 11:18:00             1          4144   \n",
       "1  2020-04-01 11:00:00  2020-04-01 11:22:00             0          2877   \n",
       "2  2020-04-01 11:00:00  2020-04-01 11:15:00             0          2603   \n",
       "3  2020-04-01 11:00:00  2020-04-01 11:16:00             0          2732   \n",
       "4  2020-04-01 11:00:00  2020-04-01 11:53:00             0          2987   \n",
       "\n",
       "   status store_name area_cd wide_area narrow_area takeout_name status_name  \n",
       "0       1        浅草店      TK        東京          東京        お持ち帰り        お支払済  \n",
       "1       2        目黒店      TK        東京          東京        デリバリー        お渡し済  \n",
       "2       2        本郷店      TK        東京          東京        デリバリー        お渡し済  \n",
       "3       2        栃木店      TO       北関東          栃木        デリバリー        お渡し済  \n",
       "4       2       伊勢崎店      GU       北関東          群馬        デリバリー        お渡し済  "
      ]
     },
     "execution_count": 31,
     "metadata": {},
     "output_type": "execute_result"
    }
   ],
   "source": [
    "import pandas as pd\n",
    "order_data = pd.read_csv(\"order_data.csv\")\n",
    "print(len(order_data))\n",
    "order_data.head()"
   ]
  },
  {
   "cell_type": "code",
   "execution_count": 32,
   "metadata": {},
   "outputs": [
    {
     "name": "stdout",
     "output_type": "stream",
     "text": [
      "574436\n"
     ]
    },
    {
     "data": {
      "text/plain": [
       "Index(['order_id', 'store_id', 'customer_id', 'coupon_cd', 'sales_detail_id',\n",
       "       'order_accept_date', 'delivered_date', 'takeout_flag', 'total_amount',\n",
       "       'status', 'store_name', 'area_cd', 'wide_area', 'narrow_area',\n",
       "       'takeout_name', 'status_name'],\n",
       "      dtype='object')"
      ]
     },
     "execution_count": 32,
     "metadata": {},
     "output_type": "execute_result"
    }
   ],
   "source": [
    "order_data = order_data.loc[(order_data[\"status\"]==1)|(order_data[\"status\"]==2)]\n",
    "print(len(order_data))\n",
    "order_data.columns"
   ]
  },
  {
   "cell_type": "code",
   "execution_count": 33,
   "metadata": {},
   "outputs": [
    {
     "name": "stdout",
     "output_type": "stream",
     "text": [
      "(574436, 11)\n"
     ]
    },
    {
     "data": {
      "text/html": [
       "<div>\n",
       "<style scoped>\n",
       "    .dataframe tbody tr th:only-of-type {\n",
       "        vertical-align: middle;\n",
       "    }\n",
       "\n",
       "    .dataframe tbody tr th {\n",
       "        vertical-align: top;\n",
       "    }\n",
       "\n",
       "    .dataframe thead th {\n",
       "        text-align: right;\n",
       "    }\n",
       "</style>\n",
       "<table border=\"1\" class=\"dataframe\">\n",
       "  <thead>\n",
       "    <tr style=\"text-align: right;\">\n",
       "      <th></th>\n",
       "      <th>store_id</th>\n",
       "      <th>customer_id</th>\n",
       "      <th>coupon_cd</th>\n",
       "      <th>order_accept_date</th>\n",
       "      <th>delivered_date</th>\n",
       "      <th>total_amount</th>\n",
       "      <th>store_name</th>\n",
       "      <th>wide_area</th>\n",
       "      <th>narrow_area</th>\n",
       "      <th>takeout_name</th>\n",
       "      <th>status_name</th>\n",
       "    </tr>\n",
       "  </thead>\n",
       "  <tbody>\n",
       "    <tr>\n",
       "      <th>0</th>\n",
       "      <td>49</td>\n",
       "      <td>C26387220</td>\n",
       "      <td>50</td>\n",
       "      <td>2020-04-01 11:00:00</td>\n",
       "      <td>2020-04-01 11:18:00</td>\n",
       "      <td>4144</td>\n",
       "      <td>浅草店</td>\n",
       "      <td>東京</td>\n",
       "      <td>東京</td>\n",
       "      <td>お持ち帰り</td>\n",
       "      <td>お支払済</td>\n",
       "    </tr>\n",
       "    <tr>\n",
       "      <th>1</th>\n",
       "      <td>85</td>\n",
       "      <td>C48773811</td>\n",
       "      <td>26</td>\n",
       "      <td>2020-04-01 11:00:00</td>\n",
       "      <td>2020-04-01 11:22:00</td>\n",
       "      <td>2877</td>\n",
       "      <td>目黒店</td>\n",
       "      <td>東京</td>\n",
       "      <td>東京</td>\n",
       "      <td>デリバリー</td>\n",
       "      <td>お渡し済</td>\n",
       "    </tr>\n",
       "    <tr>\n",
       "      <th>2</th>\n",
       "      <td>76</td>\n",
       "      <td>C66287421</td>\n",
       "      <td>36</td>\n",
       "      <td>2020-04-01 11:00:00</td>\n",
       "      <td>2020-04-01 11:15:00</td>\n",
       "      <td>2603</td>\n",
       "      <td>本郷店</td>\n",
       "      <td>東京</td>\n",
       "      <td>東京</td>\n",
       "      <td>デリバリー</td>\n",
       "      <td>お渡し済</td>\n",
       "    </tr>\n",
       "    <tr>\n",
       "      <th>3</th>\n",
       "      <td>190</td>\n",
       "      <td>C41156423</td>\n",
       "      <td>19</td>\n",
       "      <td>2020-04-01 11:00:00</td>\n",
       "      <td>2020-04-01 11:16:00</td>\n",
       "      <td>2732</td>\n",
       "      <td>栃木店</td>\n",
       "      <td>北関東</td>\n",
       "      <td>栃木</td>\n",
       "      <td>デリバリー</td>\n",
       "      <td>お渡し済</td>\n",
       "    </tr>\n",
       "    <tr>\n",
       "      <th>4</th>\n",
       "      <td>191</td>\n",
       "      <td>C54568117</td>\n",
       "      <td>71</td>\n",
       "      <td>2020-04-01 11:00:00</td>\n",
       "      <td>2020-04-01 11:53:00</td>\n",
       "      <td>2987</td>\n",
       "      <td>伊勢崎店</td>\n",
       "      <td>北関東</td>\n",
       "      <td>群馬</td>\n",
       "      <td>デリバリー</td>\n",
       "      <td>お渡し済</td>\n",
       "    </tr>\n",
       "  </tbody>\n",
       "</table>\n",
       "</div>"
      ],
      "text/plain": [
       "   store_id customer_id  coupon_cd    order_accept_date       delivered_date  \\\n",
       "0        49   C26387220         50  2020-04-01 11:00:00  2020-04-01 11:18:00   \n",
       "1        85   C48773811         26  2020-04-01 11:00:00  2020-04-01 11:22:00   \n",
       "2        76   C66287421         36  2020-04-01 11:00:00  2020-04-01 11:15:00   \n",
       "3       190   C41156423         19  2020-04-01 11:00:00  2020-04-01 11:16:00   \n",
       "4       191   C54568117         71  2020-04-01 11:00:00  2020-04-01 11:53:00   \n",
       "\n",
       "   total_amount store_name wide_area narrow_area takeout_name status_name  \n",
       "0          4144        浅草店        東京          東京        お持ち帰り        お支払済  \n",
       "1          2877        目黒店        東京          東京        デリバリー        お渡し済  \n",
       "2          2603        本郷店        東京          東京        デリバリー        お渡し済  \n",
       "3          2732        栃木店       北関東          栃木        デリバリー        お渡し済  \n",
       "4          2987       伊勢崎店       北関東          群馬        デリバリー        お渡し済  "
      ]
     },
     "execution_count": 33,
     "metadata": {},
     "output_type": "execute_result"
    }
   ],
   "source": [
    "analyze_data = order_data[[\"store_id\", \"customer_id\", \"coupon_cd\", \"order_accept_date\", \"delivered_date\", \"total_amount\", \"store_name\", \"wide_area\", \"narrow_area\", \"takeout_name\", \"status_name\"]]\n",
    "print(analyze_data.shape)\n",
    "analyze_data.head()"
   ]
  },
  {
   "cell_type": "markdown",
   "metadata": {},
   "source": [
    "### ノック１２：データの全体像を把握しよう"
   ]
  },
  {
   "cell_type": "code",
   "execution_count": 34,
   "metadata": {},
   "outputs": [
    {
     "data": {
      "text/html": [
       "<div>\n",
       "<style scoped>\n",
       "    .dataframe tbody tr th:only-of-type {\n",
       "        vertical-align: middle;\n",
       "    }\n",
       "\n",
       "    .dataframe tbody tr th {\n",
       "        vertical-align: top;\n",
       "    }\n",
       "\n",
       "    .dataframe thead th {\n",
       "        text-align: right;\n",
       "    }\n",
       "</style>\n",
       "<table border=\"1\" class=\"dataframe\">\n",
       "  <thead>\n",
       "    <tr style=\"text-align: right;\">\n",
       "      <th></th>\n",
       "      <th>store_id</th>\n",
       "      <th>coupon_cd</th>\n",
       "      <th>total_amount</th>\n",
       "    </tr>\n",
       "  </thead>\n",
       "  <tbody>\n",
       "    <tr>\n",
       "      <th>count</th>\n",
       "      <td>574436.000000</td>\n",
       "      <td>574436.000000</td>\n",
       "      <td>574436.000000</td>\n",
       "    </tr>\n",
       "    <tr>\n",
       "      <th>mean</th>\n",
       "      <td>99.113844</td>\n",
       "      <td>49.478758</td>\n",
       "      <td>2960.087555</td>\n",
       "    </tr>\n",
       "    <tr>\n",
       "      <th>std</th>\n",
       "      <td>55.913615</td>\n",
       "      <td>28.888993</td>\n",
       "      <td>954.282731</td>\n",
       "    </tr>\n",
       "    <tr>\n",
       "      <th>min</th>\n",
       "      <td>1.000000</td>\n",
       "      <td>0.000000</td>\n",
       "      <td>698.000000</td>\n",
       "    </tr>\n",
       "    <tr>\n",
       "      <th>25%</th>\n",
       "      <td>51.000000</td>\n",
       "      <td>24.000000</td>\n",
       "      <td>2308.000000</td>\n",
       "    </tr>\n",
       "    <tr>\n",
       "      <th>50%</th>\n",
       "      <td>99.000000</td>\n",
       "      <td>49.000000</td>\n",
       "      <td>2808.000000</td>\n",
       "    </tr>\n",
       "    <tr>\n",
       "      <th>75%</th>\n",
       "      <td>147.000000</td>\n",
       "      <td>75.000000</td>\n",
       "      <td>3617.000000</td>\n",
       "    </tr>\n",
       "    <tr>\n",
       "      <th>max</th>\n",
       "      <td>196.000000</td>\n",
       "      <td>99.000000</td>\n",
       "      <td>5100.000000</td>\n",
       "    </tr>\n",
       "  </tbody>\n",
       "</table>\n",
       "</div>"
      ],
      "text/plain": [
       "            store_id      coupon_cd   total_amount\n",
       "count  574436.000000  574436.000000  574436.000000\n",
       "mean       99.113844      49.478758    2960.087555\n",
       "std        55.913615      28.888993     954.282731\n",
       "min         1.000000       0.000000     698.000000\n",
       "25%        51.000000      24.000000    2308.000000\n",
       "50%        99.000000      49.000000    2808.000000\n",
       "75%       147.000000      75.000000    3617.000000\n",
       "max       196.000000      99.000000    5100.000000"
      ]
     },
     "execution_count": 34,
     "metadata": {},
     "output_type": "execute_result"
    }
   ],
   "source": [
    "analyze_data.describe()"
   ]
  },
  {
   "cell_type": "code",
   "execution_count": 35,
   "metadata": {},
   "outputs": [
    {
     "data": {
      "text/plain": [
       "store_id              int64\n",
       "customer_id          object\n",
       "coupon_cd             int64\n",
       "order_accept_date    object\n",
       "delivered_date       object\n",
       "total_amount          int64\n",
       "store_name           object\n",
       "wide_area            object\n",
       "narrow_area          object\n",
       "takeout_name         object\n",
       "status_name          object\n",
       "dtype: object"
      ]
     },
     "execution_count": 35,
     "metadata": {},
     "output_type": "execute_result"
    }
   ],
   "source": [
    "analyze_data.dtypes"
   ]
  },
  {
   "cell_type": "code",
   "execution_count": 36,
   "metadata": {},
   "outputs": [
    {
     "data": {
      "text/plain": [
       "store_id             object\n",
       "customer_id          object\n",
       "coupon_cd            object\n",
       "order_accept_date    object\n",
       "delivered_date       object\n",
       "total_amount          int64\n",
       "store_name           object\n",
       "wide_area            object\n",
       "narrow_area          object\n",
       "takeout_name         object\n",
       "status_name          object\n",
       "dtype: object"
      ]
     },
     "execution_count": 36,
     "metadata": {},
     "output_type": "execute_result"
    }
   ],
   "source": [
    "analyze_data[[\"store_id\", \"coupon_cd\"]] = analyze_data[[\"store_id\", \"coupon_cd\"]].astype(str)\n",
    "analyze_data.dtypes"
   ]
  },
  {
   "cell_type": "code",
   "execution_count": 37,
   "metadata": {},
   "outputs": [],
   "source": [
    "import warnings\n",
    "warnings.filterwarnings(\"ignore\")"
   ]
  },
  {
   "cell_type": "code",
   "execution_count": 38,
   "metadata": {},
   "outputs": [
    {
     "data": {
      "text/html": [
       "<div>\n",
       "<style scoped>\n",
       "    .dataframe tbody tr th:only-of-type {\n",
       "        vertical-align: middle;\n",
       "    }\n",
       "\n",
       "    .dataframe tbody tr th {\n",
       "        vertical-align: top;\n",
       "    }\n",
       "\n",
       "    .dataframe thead th {\n",
       "        text-align: right;\n",
       "    }\n",
       "</style>\n",
       "<table border=\"1\" class=\"dataframe\">\n",
       "  <thead>\n",
       "    <tr style=\"text-align: right;\">\n",
       "      <th></th>\n",
       "      <th>total_amount</th>\n",
       "    </tr>\n",
       "  </thead>\n",
       "  <tbody>\n",
       "    <tr>\n",
       "      <th>count</th>\n",
       "      <td>574436.000000</td>\n",
       "    </tr>\n",
       "    <tr>\n",
       "      <th>mean</th>\n",
       "      <td>2960.087555</td>\n",
       "    </tr>\n",
       "    <tr>\n",
       "      <th>std</th>\n",
       "      <td>954.282731</td>\n",
       "    </tr>\n",
       "    <tr>\n",
       "      <th>min</th>\n",
       "      <td>698.000000</td>\n",
       "    </tr>\n",
       "    <tr>\n",
       "      <th>25%</th>\n",
       "      <td>2308.000000</td>\n",
       "    </tr>\n",
       "    <tr>\n",
       "      <th>50%</th>\n",
       "      <td>2808.000000</td>\n",
       "    </tr>\n",
       "    <tr>\n",
       "      <th>75%</th>\n",
       "      <td>3617.000000</td>\n",
       "    </tr>\n",
       "    <tr>\n",
       "      <th>max</th>\n",
       "      <td>5100.000000</td>\n",
       "    </tr>\n",
       "  </tbody>\n",
       "</table>\n",
       "</div>"
      ],
      "text/plain": [
       "        total_amount\n",
       "count  574436.000000\n",
       "mean     2960.087555\n",
       "std       954.282731\n",
       "min       698.000000\n",
       "25%      2308.000000\n",
       "50%      2808.000000\n",
       "75%      3617.000000\n",
       "max      5100.000000"
      ]
     },
     "execution_count": 38,
     "metadata": {},
     "output_type": "execute_result"
    }
   ],
   "source": [
    "analyze_data.describe()"
   ]
  },
  {
   "cell_type": "markdown",
   "metadata": {},
   "source": [
    "### ノック１３：月別の売上を集計してみよう"
   ]
  },
  {
   "cell_type": "code",
   "execution_count": 39,
   "metadata": {},
   "outputs": [
    {
     "data": {
      "text/html": [
       "<div>\n",
       "<style scoped>\n",
       "    .dataframe tbody tr th:only-of-type {\n",
       "        vertical-align: middle;\n",
       "    }\n",
       "\n",
       "    .dataframe tbody tr th {\n",
       "        vertical-align: top;\n",
       "    }\n",
       "\n",
       "    .dataframe thead th {\n",
       "        text-align: right;\n",
       "    }\n",
       "</style>\n",
       "<table border=\"1\" class=\"dataframe\">\n",
       "  <thead>\n",
       "    <tr style=\"text-align: right;\">\n",
       "      <th></th>\n",
       "      <th>order_accept_date</th>\n",
       "      <th>order_accept_month</th>\n",
       "    </tr>\n",
       "  </thead>\n",
       "  <tbody>\n",
       "    <tr>\n",
       "      <th>0</th>\n",
       "      <td>2020-04-01 11:00:00</td>\n",
       "      <td>202004</td>\n",
       "    </tr>\n",
       "    <tr>\n",
       "      <th>1</th>\n",
       "      <td>2020-04-01 11:00:00</td>\n",
       "      <td>202004</td>\n",
       "    </tr>\n",
       "    <tr>\n",
       "      <th>2</th>\n",
       "      <td>2020-04-01 11:00:00</td>\n",
       "      <td>202004</td>\n",
       "    </tr>\n",
       "    <tr>\n",
       "      <th>3</th>\n",
       "      <td>2020-04-01 11:00:00</td>\n",
       "      <td>202004</td>\n",
       "    </tr>\n",
       "    <tr>\n",
       "      <th>4</th>\n",
       "      <td>2020-04-01 11:00:00</td>\n",
       "      <td>202004</td>\n",
       "    </tr>\n",
       "  </tbody>\n",
       "</table>\n",
       "</div>"
      ],
      "text/plain": [
       "    order_accept_date order_accept_month\n",
       "0 2020-04-01 11:00:00             202004\n",
       "1 2020-04-01 11:00:00             202004\n",
       "2 2020-04-01 11:00:00             202004\n",
       "3 2020-04-01 11:00:00             202004\n",
       "4 2020-04-01 11:00:00             202004"
      ]
     },
     "execution_count": 39,
     "metadata": {},
     "output_type": "execute_result"
    }
   ],
   "source": [
    "analyze_data[\"order_accept_date\"] = pd.to_datetime(analyze_data[\"order_accept_date\"])\n",
    "analyze_data[\"order_accept_month\"] = analyze_data[\"order_accept_date\"].dt.strftime('%Y%m')\n",
    "analyze_data[[\"order_accept_date\", \"order_accept_month\"]].head()"
   ]
  },
  {
   "cell_type": "code",
   "execution_count": 40,
   "metadata": {},
   "outputs": [
    {
     "data": {
      "text/html": [
       "<div>\n",
       "<style scoped>\n",
       "    .dataframe tbody tr th:only-of-type {\n",
       "        vertical-align: middle;\n",
       "    }\n",
       "\n",
       "    .dataframe tbody tr th {\n",
       "        vertical-align: top;\n",
       "    }\n",
       "\n",
       "    .dataframe thead th {\n",
       "        text-align: right;\n",
       "    }\n",
       "</style>\n",
       "<table border=\"1\" class=\"dataframe\">\n",
       "  <thead>\n",
       "    <tr style=\"text-align: right;\">\n",
       "      <th></th>\n",
       "      <th>delivered_date</th>\n",
       "      <th>delivered_month</th>\n",
       "    </tr>\n",
       "  </thead>\n",
       "  <tbody>\n",
       "    <tr>\n",
       "      <th>0</th>\n",
       "      <td>2020-04-01 11:18:00</td>\n",
       "      <td>202004</td>\n",
       "    </tr>\n",
       "    <tr>\n",
       "      <th>1</th>\n",
       "      <td>2020-04-01 11:22:00</td>\n",
       "      <td>202004</td>\n",
       "    </tr>\n",
       "    <tr>\n",
       "      <th>2</th>\n",
       "      <td>2020-04-01 11:15:00</td>\n",
       "      <td>202004</td>\n",
       "    </tr>\n",
       "    <tr>\n",
       "      <th>3</th>\n",
       "      <td>2020-04-01 11:16:00</td>\n",
       "      <td>202004</td>\n",
       "    </tr>\n",
       "    <tr>\n",
       "      <th>4</th>\n",
       "      <td>2020-04-01 11:53:00</td>\n",
       "      <td>202004</td>\n",
       "    </tr>\n",
       "  </tbody>\n",
       "</table>\n",
       "</div>"
      ],
      "text/plain": [
       "       delivered_date delivered_month\n",
       "0 2020-04-01 11:18:00          202004\n",
       "1 2020-04-01 11:22:00          202004\n",
       "2 2020-04-01 11:15:00          202004\n",
       "3 2020-04-01 11:16:00          202004\n",
       "4 2020-04-01 11:53:00          202004"
      ]
     },
     "execution_count": 40,
     "metadata": {},
     "output_type": "execute_result"
    }
   ],
   "source": [
    "analyze_data[\"delivered_date\"] = pd.to_datetime(analyze_data[\"delivered_date\"])\n",
    "analyze_data[\"delivered_month\"] = analyze_data[\"delivered_date\"].dt.strftime('%Y%m')\n",
    "analyze_data[[\"delivered_date\", \"delivered_month\"]].head()"
   ]
  },
  {
   "cell_type": "code",
   "execution_count": 41,
   "metadata": {},
   "outputs": [
    {
     "data": {
      "text/plain": [
       "store_id                      object\n",
       "customer_id                   object\n",
       "coupon_cd                     object\n",
       "order_accept_date     datetime64[ns]\n",
       "delivered_date        datetime64[ns]\n",
       "total_amount                   int64\n",
       "store_name                    object\n",
       "wide_area                     object\n",
       "narrow_area                   object\n",
       "takeout_name                  object\n",
       "status_name                   object\n",
       "order_accept_month            object\n",
       "delivered_month               object\n",
       "dtype: object"
      ]
     },
     "execution_count": 41,
     "metadata": {},
     "output_type": "execute_result"
    }
   ],
   "source": [
    "analyze_data.dtypes"
   ]
  },
  {
   "cell_type": "code",
   "execution_count": 42,
   "metadata": {},
   "outputs": [
    {
     "data": {
      "text/html": [
       "<div>\n",
       "<style scoped>\n",
       "    .dataframe tbody tr th:only-of-type {\n",
       "        vertical-align: middle;\n",
       "    }\n",
       "\n",
       "    .dataframe tbody tr th {\n",
       "        vertical-align: top;\n",
       "    }\n",
       "\n",
       "    .dataframe thead tr th {\n",
       "        text-align: left;\n",
       "    }\n",
       "\n",
       "    .dataframe thead tr:last-of-type th {\n",
       "        text-align: right;\n",
       "    }\n",
       "</style>\n",
       "<table border=\"1\" class=\"dataframe\">\n",
       "  <thead>\n",
       "    <tr>\n",
       "      <th></th>\n",
       "      <th colspan=\"8\" halign=\"left\">total_amount</th>\n",
       "    </tr>\n",
       "    <tr>\n",
       "      <th></th>\n",
       "      <th>count</th>\n",
       "      <th>mean</th>\n",
       "      <th>std</th>\n",
       "      <th>min</th>\n",
       "      <th>25%</th>\n",
       "      <th>50%</th>\n",
       "      <th>75%</th>\n",
       "      <th>max</th>\n",
       "    </tr>\n",
       "    <tr>\n",
       "      <th>order_accept_month</th>\n",
       "      <th></th>\n",
       "      <th></th>\n",
       "      <th></th>\n",
       "      <th></th>\n",
       "      <th></th>\n",
       "      <th></th>\n",
       "      <th></th>\n",
       "      <th></th>\n",
       "    </tr>\n",
       "  </thead>\n",
       "  <tbody>\n",
       "    <tr>\n",
       "      <th>202004</th>\n",
       "      <td>189414.0</td>\n",
       "      <td>2959.440638</td>\n",
       "      <td>954.271169</td>\n",
       "      <td>698.0</td>\n",
       "      <td>2308.0</td>\n",
       "      <td>2808.0</td>\n",
       "      <td>3586.0</td>\n",
       "      <td>5100.0</td>\n",
       "    </tr>\n",
       "    <tr>\n",
       "      <th>202005</th>\n",
       "      <td>195684.0</td>\n",
       "      <td>2960.327799</td>\n",
       "      <td>954.823248</td>\n",
       "      <td>698.0</td>\n",
       "      <td>2308.0</td>\n",
       "      <td>2808.0</td>\n",
       "      <td>3586.0</td>\n",
       "      <td>5100.0</td>\n",
       "    </tr>\n",
       "    <tr>\n",
       "      <th>202006</th>\n",
       "      <td>189338.0</td>\n",
       "      <td>2960.486437</td>\n",
       "      <td>953.740057</td>\n",
       "      <td>698.0</td>\n",
       "      <td>2308.0</td>\n",
       "      <td>2808.0</td>\n",
       "      <td>3617.0</td>\n",
       "      <td>5100.0</td>\n",
       "    </tr>\n",
       "  </tbody>\n",
       "</table>\n",
       "</div>"
      ],
      "text/plain": [
       "                   total_amount                                          \\\n",
       "                          count         mean         std    min     25%   \n",
       "order_accept_month                                                        \n",
       "202004                 189414.0  2959.440638  954.271169  698.0  2308.0   \n",
       "202005                 195684.0  2960.327799  954.823248  698.0  2308.0   \n",
       "202006                 189338.0  2960.486437  953.740057  698.0  2308.0   \n",
       "\n",
       "                                            \n",
       "                       50%     75%     max  \n",
       "order_accept_month                          \n",
       "202004              2808.0  3586.0  5100.0  \n",
       "202005              2808.0  3586.0  5100.0  \n",
       "202006              2808.0  3617.0  5100.0  "
      ]
     },
     "execution_count": 42,
     "metadata": {},
     "output_type": "execute_result"
    }
   ],
   "source": [
    "month_data = analyze_data.groupby(\"order_accept_month\")\n",
    "month_data.describe()"
   ]
  },
  {
   "cell_type": "code",
   "execution_count": 43,
   "metadata": {},
   "outputs": [
    {
     "data": {
      "text/html": [
       "<div>\n",
       "<style scoped>\n",
       "    .dataframe tbody tr th:only-of-type {\n",
       "        vertical-align: middle;\n",
       "    }\n",
       "\n",
       "    .dataframe tbody tr th {\n",
       "        vertical-align: top;\n",
       "    }\n",
       "\n",
       "    .dataframe thead th {\n",
       "        text-align: right;\n",
       "    }\n",
       "</style>\n",
       "<table border=\"1\" class=\"dataframe\">\n",
       "  <thead>\n",
       "    <tr style=\"text-align: right;\">\n",
       "      <th></th>\n",
       "      <th>total_amount</th>\n",
       "    </tr>\n",
       "    <tr>\n",
       "      <th>order_accept_month</th>\n",
       "      <th></th>\n",
       "    </tr>\n",
       "  </thead>\n",
       "  <tbody>\n",
       "    <tr>\n",
       "      <th>202004</th>\n",
       "      <td>560559489</td>\n",
       "    </tr>\n",
       "    <tr>\n",
       "      <th>202005</th>\n",
       "      <td>579288785</td>\n",
       "    </tr>\n",
       "    <tr>\n",
       "      <th>202006</th>\n",
       "      <td>560532581</td>\n",
       "    </tr>\n",
       "  </tbody>\n",
       "</table>\n",
       "</div>"
      ],
      "text/plain": [
       "                    total_amount\n",
       "order_accept_month              \n",
       "202004                 560559489\n",
       "202005                 579288785\n",
       "202006                 560532581"
      ]
     },
     "execution_count": 43,
     "metadata": {},
     "output_type": "execute_result"
    }
   ],
   "source": [
    "month_data.sum()"
   ]
  },
  {
   "cell_type": "markdown",
   "metadata": {},
   "source": [
    "### ノック１４：月別の推移を可視化してみよう"
   ]
  },
  {
   "cell_type": "code",
   "execution_count": 44,
   "metadata": {},
   "outputs": [
    {
     "data": {
      "text/plain": [
       "<AxesSubplot:xlabel='order_accept_month'>"
      ]
     },
     "execution_count": 44,
     "metadata": {},
     "output_type": "execute_result"
    },
    {
     "data": {
      "image/png": "[encoded data removed]",
      "text/plain": [
       "<Figure size 432x288 with 1 Axes>"
      ]
     },
     "metadata": {
      "needs_background": "light"
     },
     "output_type": "display_data"
    }
   ],
   "source": [
    "import matplotlib.pyplot as plt\n",
    "%matplotlib inline\n",
    "month_data.sum().plot()"
   ]
  },
  {
   "cell_type": "code",
   "execution_count": 45,
   "metadata": {},
   "outputs": [
    {
     "data": {
      "text/plain": [
       "<AxesSubplot:xlabel='order_accept_month'>"
      ]
     },
     "execution_count": 45,
     "metadata": {},
     "output_type": "execute_result"
    },
    {
     "data": {
      "image/png": "[encoded data removed]",
      "text/plain": [
       "<Figure size 432x288 with 1 Axes>"
      ]
     },
     "metadata": {
      "needs_background": "light"
     },
     "output_type": "display_data"
    }
   ],
   "source": [
    "month_data.mean().plot()"
   ]
  },
  {
   "cell_type": "markdown",
   "metadata": {},
   "source": [
    "### ノック１５：売上からヒストグラムを作成してみよう"
   ]
  },
  {
   "cell_type": "code",
   "execution_count": 46,
   "metadata": {},
   "outputs": [
    {
     "data": {
      "text/plain": [
       "(array([ 21524.,      0.,  48969., 135664., 111217.,  77622.,  54146.,\n",
       "         59814.,  34394.,  31086.]),\n",
       " array([ 698. , 1138.2, 1578.4, 2018.6, 2458.8, 2899. , 3339.2, 3779.4,\n",
       "        4219.6, 4659.8, 5100. ]),\n",
       " <BarContainer object of 10 artists>)"
      ]
     },
     "execution_count": 46,
     "metadata": {},
     "output_type": "execute_result"
    },
    {
     "data": {
      "image/png": "[encoded data removed]",
      "text/plain": [
       "<Figure size 432x288 with 1 Axes>"
      ]
     },
     "metadata": {
      "needs_background": "light"
     },
     "output_type": "display_data"
    }
   ],
   "source": [
    "plt.hist(analyze_data[\"total_amount\"])"
   ]
  },
  {
   "cell_type": "code",
   "execution_count": 47,
   "metadata": {},
   "outputs": [
    {
     "data": {
      "text/plain": [
       "(array([10728., 10796.,     0.,     0.,     0., 48969., 45777., 78334.,\n",
       "        23175., 66451., 44368., 38745., 27653., 42503., 12508., 35285.,\n",
       "        23739., 11151., 23168., 22649.,  8437.]),\n",
       " array([ 698.        ,  907.61904762, 1117.23809524, 1326.85714286,\n",
       "        1536.47619048, 1746.0952381 , 1955.71428571, 2165.33333333,\n",
       "        2374.95238095, 2584.57142857, 2794.19047619, 3003.80952381,\n",
       "        3213.42857143, 3423.04761905, 3632.66666667, 3842.28571429,\n",
       "        4051.9047619 , 4261.52380952, 4471.14285714, 4680.76190476,\n",
       "        4890.38095238, 5100.        ]),\n",
       " <BarContainer object of 21 artists>)"
      ]
     },
     "execution_count": 47,
     "metadata": {},
     "output_type": "execute_result"
    },
    {
     "data": {
      "image/png": "[encoded data removed]",
      "text/plain": [
       "<Figure size 432x288 with 1 Axes>"
      ]
     },
     "metadata": {
      "needs_background": "light"
     },
     "output_type": "display_data"
    }
   ],
   "source": [
    "plt.hist(analyze_data[\"total_amount\"], bins=21)"
   ]
  },
  {
   "cell_type": "markdown",
   "metadata": {},
   "source": [
    "### ノック１６：都道府県別の売上を集計して可視化しよう"
   ]
  },
  {
   "cell_type": "code",
   "execution_count": 48,
   "metadata": {},
   "outputs": [
    {
     "data": {
      "text/html": [
       "<div>\n",
       "<style scoped>\n",
       "    .dataframe tbody tr th:only-of-type {\n",
       "        vertical-align: middle;\n",
       "    }\n",
       "\n",
       "    .dataframe tbody tr th {\n",
       "        vertical-align: top;\n",
       "    }\n",
       "\n",
       "    .dataframe thead th {\n",
       "        text-align: right;\n",
       "    }\n",
       "</style>\n",
       "<table border=\"1\" class=\"dataframe\">\n",
       "  <thead>\n",
       "    <tr style=\"text-align: right;\">\n",
       "      <th>narrow_area</th>\n",
       "      <th>千葉</th>\n",
       "      <th>埼玉</th>\n",
       "      <th>東京</th>\n",
       "      <th>栃木</th>\n",
       "      <th>神奈川</th>\n",
       "      <th>群馬</th>\n",
       "      <th>茨城</th>\n",
       "    </tr>\n",
       "    <tr>\n",
       "      <th>order_accept_month</th>\n",
       "      <th></th>\n",
       "      <th></th>\n",
       "      <th></th>\n",
       "      <th></th>\n",
       "      <th></th>\n",
       "      <th></th>\n",
       "      <th></th>\n",
       "    </tr>\n",
       "  </thead>\n",
       "  <tbody>\n",
       "    <tr>\n",
       "      <th>202004</th>\n",
       "      <td>2959.062000</td>\n",
       "      <td>2976.519634</td>\n",
       "      <td>2960.592173</td>\n",
       "      <td>2992.173548</td>\n",
       "      <td>2948.001171</td>\n",
       "      <td>2942.046543</td>\n",
       "      <td>2947.479814</td>\n",
       "    </tr>\n",
       "    <tr>\n",
       "      <th>202005</th>\n",
       "      <td>2953.545504</td>\n",
       "      <td>2977.290771</td>\n",
       "      <td>2962.603059</td>\n",
       "      <td>2998.165682</td>\n",
       "      <td>2949.597054</td>\n",
       "      <td>2948.269611</td>\n",
       "      <td>2941.796835</td>\n",
       "    </tr>\n",
       "    <tr>\n",
       "      <th>202006</th>\n",
       "      <td>2955.761885</td>\n",
       "      <td>2976.988380</td>\n",
       "      <td>2962.949987</td>\n",
       "      <td>2991.542844</td>\n",
       "      <td>2950.520464</td>\n",
       "      <td>2945.504744</td>\n",
       "      <td>2935.951783</td>\n",
       "    </tr>\n",
       "  </tbody>\n",
       "</table>\n",
       "</div>"
      ],
      "text/plain": [
       "narrow_area                  千葉           埼玉           東京           栃木  \\\n",
       "order_accept_month                                                       \n",
       "202004              2959.062000  2976.519634  2960.592173  2992.173548   \n",
       "202005              2953.545504  2977.290771  2962.603059  2998.165682   \n",
       "202006              2955.761885  2976.988380  2962.949987  2991.542844   \n",
       "\n",
       "narrow_area                 神奈川           群馬           茨城  \n",
       "order_accept_month                                         \n",
       "202004              2948.001171  2942.046543  2947.479814  \n",
       "202005              2949.597054  2948.269611  2941.796835  \n",
       "202006              2950.520464  2945.504744  2935.951783  "
      ]
     },
     "execution_count": 48,
     "metadata": {},
     "output_type": "execute_result"
    }
   ],
   "source": [
    "pre_data = pd.pivot_table(analyze_data, index=\"order_accept_month\", columns=\"narrow_area\", values=\"total_amount\", aggfunc=\"mean\")\n",
    "pre_data"
   ]
  },
  {
   "cell_type": "code",
   "execution_count": 49,
   "metadata": {},
   "outputs": [
    {
     "data": {
      "text/plain": [
       "<matplotlib.legend.Legend at 0x7f3b0e1acb20>"
      ]
     },
     "execution_count": 49,
     "metadata": {},
     "output_type": "execute_result"
    },
    {
     "data": {
      "image/png": "[encoded data removed]",
      "text/plain": [
       "<Figure size 432x288 with 1 Axes>"
      ]
     },
     "metadata": {
      "needs_background": "light"
     },
     "output_type": "display_data"
    }
   ],
   "source": [
    "import japanize_matplotlib\n",
    "plt.plot(list(pre_data.index), pre_data[\"東京\"], label=\"東京\")\n",
    "plt.plot(list(pre_data.index), pre_data[\"神奈川\"], label=\"神奈川\")\n",
    "plt.plot(list(pre_data.index), pre_data[\"埼玉\"], label=\"埼玉\")\n",
    "plt.plot(list(pre_data.index), pre_data[\"千葉\"], label=\"千葉\")\n",
    "plt.plot(list(pre_data.index), pre_data[\"茨城\"], label=\"茨城\")\n",
    "plt.plot(list(pre_data.index), pre_data[\"栃木\"], label=\"栃木\")\n",
    "plt.plot(list(pre_data.index), pre_data[\"群馬\"], label=\"群馬\")\n",
    "plt.legend()"
   ]
  },
  {
   "cell_type": "markdown",
   "metadata": {},
   "source": [
    "### ノック１７：クラスタリングに向けてデータを加工しよう"
   ]
  },
  {
   "cell_type": "code",
   "execution_count": 50,
   "metadata": {},
   "outputs": [
    {
     "name": "stdout",
     "output_type": "stream",
     "text": [
      "196\n"
     ]
    },
    {
     "data": {
      "text/html": [
       "<div>\n",
       "<style scoped>\n",
       "    .dataframe tbody tr th:only-of-type {\n",
       "        vertical-align: middle;\n",
       "    }\n",
       "\n",
       "    .dataframe tbody tr th {\n",
       "        vertical-align: top;\n",
       "    }\n",
       "\n",
       "    .dataframe thead th {\n",
       "        text-align: right;\n",
       "    }\n",
       "</style>\n",
       "<table border=\"1\" class=\"dataframe\">\n",
       "  <thead>\n",
       "    <tr style=\"text-align: right;\">\n",
       "      <th></th>\n",
       "      <th>size</th>\n",
       "      <th>mean</th>\n",
       "      <th>median</th>\n",
       "      <th>max</th>\n",
       "      <th>min</th>\n",
       "    </tr>\n",
       "  </thead>\n",
       "  <tbody>\n",
       "    <tr>\n",
       "      <th>0</th>\n",
       "      <td>2877</td>\n",
       "      <td>3129.834897</td>\n",
       "      <td>3050.0</td>\n",
       "      <td>5100</td>\n",
       "      <td>1857</td>\n",
       "    </tr>\n",
       "    <tr>\n",
       "      <th>1</th>\n",
       "      <td>2294</td>\n",
       "      <td>2989.003923</td>\n",
       "      <td>2677.0</td>\n",
       "      <td>5100</td>\n",
       "      <td>698</td>\n",
       "    </tr>\n",
       "    <tr>\n",
       "      <th>2</th>\n",
       "      <td>3776</td>\n",
       "      <td>2947.170286</td>\n",
       "      <td>2808.0</td>\n",
       "      <td>5100</td>\n",
       "      <td>698</td>\n",
       "    </tr>\n",
       "    <tr>\n",
       "      <th>3</th>\n",
       "      <td>1740</td>\n",
       "      <td>3074.770115</td>\n",
       "      <td>2877.0</td>\n",
       "      <td>4744</td>\n",
       "      <td>1899</td>\n",
       "    </tr>\n",
       "    <tr>\n",
       "      <th>4</th>\n",
       "      <td>2760</td>\n",
       "      <td>2845.661594</td>\n",
       "      <td>2791.0</td>\n",
       "      <td>4744</td>\n",
       "      <td>698</td>\n",
       "    </tr>\n",
       "  </tbody>\n",
       "</table>\n",
       "</div>"
      ],
      "text/plain": [
       "   size         mean  median   max   min\n",
       "0  2877  3129.834897  3050.0  5100  1857\n",
       "1  2294  2989.003923  2677.0  5100   698\n",
       "2  3776  2947.170286  2808.0  5100   698\n",
       "3  1740  3074.770115  2877.0  4744  1899\n",
       "4  2760  2845.661594  2791.0  4744   698"
      ]
     },
     "execution_count": 50,
     "metadata": {},
     "output_type": "execute_result"
    }
   ],
   "source": [
    "store_clustering = analyze_data.groupby(\"store_id\").agg([\"size\", \"mean\", \"median\", \"max\", \"min\"])[\"total_amount\"]\n",
    "store_clustering.reset_index(inplace=True, drop=True)\n",
    "print(len(store_clustering))\n",
    "store_clustering.head()"
   ]
  },
  {
   "cell_type": "code",
   "execution_count": 51,
   "metadata": {},
   "outputs": [
    {
     "data": {
      "image/png": "[encoded data removed]",
      "text/plain": [
       "<Figure size 432x432 with 3 Axes>"
      ]
     },
     "metadata": {
      "needs_background": "light"
     },
     "output_type": "display_data"
    }
   ],
   "source": [
    "import seaborn as sns \n",
    "hexbin = sns.jointplot(x=\"mean\", y=\"size\", data=store_clustering, kind=\"hex\")"
   ]
  },
  {
   "cell_type": "markdown",
   "metadata": {},
   "source": [
    "### ノック１８：クラスタリングで店舗をグループ化してみよう"
   ]
  },
  {
   "cell_type": "code",
   "execution_count": 52,
   "metadata": {},
   "outputs": [
    {
     "name": "stdout",
     "output_type": "stream",
     "text": [
      "[2 0 1 3]\n"
     ]
    },
    {
     "data": {
      "text/html": [
       "<div>\n",
       "<style scoped>\n",
       "    .dataframe tbody tr th:only-of-type {\n",
       "        vertical-align: middle;\n",
       "    }\n",
       "\n",
       "    .dataframe tbody tr th {\n",
       "        vertical-align: top;\n",
       "    }\n",
       "\n",
       "    .dataframe thead th {\n",
       "        text-align: right;\n",
       "    }\n",
       "</style>\n",
       "<table border=\"1\" class=\"dataframe\">\n",
       "  <thead>\n",
       "    <tr style=\"text-align: right;\">\n",
       "      <th></th>\n",
       "      <th>size</th>\n",
       "      <th>mean</th>\n",
       "      <th>median</th>\n",
       "      <th>max</th>\n",
       "      <th>min</th>\n",
       "      <th>cluster</th>\n",
       "    </tr>\n",
       "  </thead>\n",
       "  <tbody>\n",
       "    <tr>\n",
       "      <th>0</th>\n",
       "      <td>2877</td>\n",
       "      <td>3129.834897</td>\n",
       "      <td>3050.0</td>\n",
       "      <td>5100</td>\n",
       "      <td>1857</td>\n",
       "      <td>2</td>\n",
       "    </tr>\n",
       "    <tr>\n",
       "      <th>1</th>\n",
       "      <td>2294</td>\n",
       "      <td>2989.003923</td>\n",
       "      <td>2677.0</td>\n",
       "      <td>5100</td>\n",
       "      <td>698</td>\n",
       "      <td>0</td>\n",
       "    </tr>\n",
       "    <tr>\n",
       "      <th>2</th>\n",
       "      <td>3776</td>\n",
       "      <td>2947.170286</td>\n",
       "      <td>2808.0</td>\n",
       "      <td>5100</td>\n",
       "      <td>698</td>\n",
       "      <td>1</td>\n",
       "    </tr>\n",
       "    <tr>\n",
       "      <th>3</th>\n",
       "      <td>1740</td>\n",
       "      <td>3074.770115</td>\n",
       "      <td>2877.0</td>\n",
       "      <td>4744</td>\n",
       "      <td>1899</td>\n",
       "      <td>2</td>\n",
       "    </tr>\n",
       "    <tr>\n",
       "      <th>4</th>\n",
       "      <td>2760</td>\n",
       "      <td>2845.661594</td>\n",
       "      <td>2791.0</td>\n",
       "      <td>4744</td>\n",
       "      <td>698</td>\n",
       "      <td>0</td>\n",
       "    </tr>\n",
       "  </tbody>\n",
       "</table>\n",
       "</div>"
      ],
      "text/plain": [
       "   size         mean  median   max   min  cluster\n",
       "0  2877  3129.834897  3050.0  5100  1857        2\n",
       "1  2294  2989.003923  2677.0  5100   698        0\n",
       "2  3776  2947.170286  2808.0  5100   698        1\n",
       "3  1740  3074.770115  2877.0  4744  1899        2\n",
       "4  2760  2845.661594  2791.0  4744   698        0"
      ]
     },
     "execution_count": 52,
     "metadata": {},
     "output_type": "execute_result"
    }
   ],
   "source": [
    "from sklearn.cluster import KMeans\n",
    "from sklearn.preprocessing import StandardScaler\n",
    "\n",
    "sc = StandardScaler()\n",
    "store_clustering_sc = sc.fit_transform(store_clustering)\n",
    "\n",
    "kmeans = KMeans(n_clusters=4, random_state=0)\n",
    "clusters = kmeans.fit(store_clustering_sc)\n",
    "store_clustering[\"cluster\"] = clusters.labels_\n",
    "print(store_clustering[\"cluster\"].unique())\n",
    "store_clustering.head()"
   ]
  },
  {
   "cell_type": "code",
   "execution_count": null,
   "metadata": {},
   "outputs": [],
   "source": []
  },
  {
   "cell_type": "markdown",
   "metadata": {},
   "source": [
    "### ノック１９：グループの傾向を分析してみよう"
   ]
  },
  {
   "cell_type": "code",
   "execution_count": null,
   "metadata": {},
   "outputs": [],
   "source": []
  },
  {
   "cell_type": "code",
   "execution_count": null,
   "metadata": {},
   "outputs": [],
   "source": []
  },
  {
   "cell_type": "markdown",
   "metadata": {},
   "source": [
    "### ノック２０：クラスタリングの結果をt-SNEで可視化しよう"
   ]
  },
  {
   "cell_type": "code",
   "execution_count": null,
   "metadata": {},
   "outputs": [],
   "source": []
  },
  {
   "cell_type": "code",
   "execution_count": null,
   "metadata": {},
   "outputs": [],
   "source": []
  }
 ],
 "metadata": {
  "kernelspec": {
   "display_name": "Python 3.9.12 ('base')",
   "language": "python",
   "name": "python3"
  },
  "language_info": {
   "codemirror_mode": {
    "name": "ipython",
    "version": 3
   },
   "file_extension": ".py",
   "mimetype": "text/x-python",
   "name": "python",
   "nbconvert_exporter": "python",
   "pygments_lexer": "ipython3",
   "version": "3.10.4"
  },
  "vscode": {
   "interpreter": {
    "hash": "d4d1e4263499bec80672ea0156c357c1ee493ec2b1c70f0acce89fc37c4a6abe"
   }
  }
 },
 "nbformat": 4,
 "nbformat_minor": 2
}
