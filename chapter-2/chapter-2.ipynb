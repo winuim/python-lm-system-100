{
 "cells": [
  {
   "cell_type": "code",
   "execution_count": 1,
   "metadata": {},
   "outputs": [],
   "source": [
    "# Google Colaboratoryを使用する場合は、下記のコメントアウトを外し、実行してください"
   ]
  },
  {
   "cell_type": "code",
   "execution_count": 2,
   "metadata": {},
   "outputs": [],
   "source": [
    "# # 下記セルを実行すると、authorization codeの入力を求められます。\n",
    "# # 出力されたリンク先をクリックし、Googleアカウントにログインし、\n",
    "# # authorization codeをコピーし、貼り付けをおこなってください。\n",
    "# import os\n",
    "# from google.colab import drive\n",
    "# drive.mount('/content/drive')"
   ]
  },
  {
   "cell_type": "code",
   "execution_count": 3,
   "metadata": {},
   "outputs": [],
   "source": [
    "# working_dir = 'MLSys_100Knocks' #　※※自分で作成したフォルダパスが異なる場合こちらを変更してください。※※\n",
    "# path = f'/content/drive/MyDrive/{working_dir}/本章/2章'\n",
    "# os.chdir(path)\n",
    "# ! pip install japanize-matplotlib"
   ]
  },
  {
   "cell_type": "markdown",
   "metadata": {},
   "source": [
    "# ２章 データを可視化し分析を行う１０本ノック\n",
    "\n"
   ]
  },
  {
   "cell_type": "markdown",
   "metadata": {},
   "source": [
    "### ノック１１：データを読み込んで不要なものを除外しよう"
   ]
  },
  {
   "cell_type": "code",
   "execution_count": 4,
   "metadata": {},
   "outputs": [
    {
     "name": "stdout",
     "output_type": "stream",
     "text": [
      "703880\n"
     ]
    },
    {
     "data": {
      "text/html": [
       "<div>\n",
       "<style scoped>\n",
       "    .dataframe tbody tr th:only-of-type {\n",
       "        vertical-align: middle;\n",
       "    }\n",
       "\n",
       "    .dataframe tbody tr th {\n",
       "        vertical-align: top;\n",
       "    }\n",
       "\n",
       "    .dataframe thead th {\n",
       "        text-align: right;\n",
       "    }\n",
       "</style>\n",
       "<table border=\"1\" class=\"dataframe\">\n",
       "  <thead>\n",
       "    <tr style=\"text-align: right;\">\n",
       "      <th></th>\n",
       "      <th>order_id</th>\n",
       "      <th>store_id</th>\n",
       "      <th>customer_id</th>\n",
       "      <th>coupon_cd</th>\n",
       "      <th>sales_detail_id</th>\n",
       "      <th>order_accept_date</th>\n",
       "      <th>delivered_date</th>\n",
       "      <th>takeout_flag</th>\n",
       "      <th>total_amount</th>\n",
       "      <th>status</th>\n",
       "      <th>store_name</th>\n",
       "      <th>area_cd</th>\n",
       "      <th>wide_area</th>\n",
       "      <th>narrow_area</th>\n",
       "      <th>takeout_name</th>\n",
       "      <th>status_name</th>\n",
       "    </tr>\n",
       "  </thead>\n",
       "  <tbody>\n",
       "    <tr>\n",
       "      <th>0</th>\n",
       "      <td>79339111</td>\n",
       "      <td>49</td>\n",
       "      <td>C26387220</td>\n",
       "      <td>50</td>\n",
       "      <td>67393872</td>\n",
       "      <td>2020-04-01 11:00:00</td>\n",
       "      <td>2020-04-01 11:18:00</td>\n",
       "      <td>1</td>\n",
       "      <td>4144</td>\n",
       "      <td>1</td>\n",
       "      <td>浅草店</td>\n",
       "      <td>TK</td>\n",
       "      <td>東京</td>\n",
       "      <td>東京</td>\n",
       "      <td>お持ち帰り</td>\n",
       "      <td>お支払済</td>\n",
       "    </tr>\n",
       "    <tr>\n",
       "      <th>1</th>\n",
       "      <td>18941733</td>\n",
       "      <td>85</td>\n",
       "      <td>C48773811</td>\n",
       "      <td>26</td>\n",
       "      <td>91834983</td>\n",
       "      <td>2020-04-01 11:00:00</td>\n",
       "      <td>2020-04-01 11:22:00</td>\n",
       "      <td>0</td>\n",
       "      <td>2877</td>\n",
       "      <td>2</td>\n",
       "      <td>目黒店</td>\n",
       "      <td>TK</td>\n",
       "      <td>東京</td>\n",
       "      <td>東京</td>\n",
       "      <td>デリバリー</td>\n",
       "      <td>お渡し済</td>\n",
       "    </tr>\n",
       "    <tr>\n",
       "      <th>2</th>\n",
       "      <td>56217880</td>\n",
       "      <td>76</td>\n",
       "      <td>C66287421</td>\n",
       "      <td>36</td>\n",
       "      <td>64409634</td>\n",
       "      <td>2020-04-01 11:00:00</td>\n",
       "      <td>2020-04-01 11:15:00</td>\n",
       "      <td>0</td>\n",
       "      <td>2603</td>\n",
       "      <td>2</td>\n",
       "      <td>本郷店</td>\n",
       "      <td>TK</td>\n",
       "      <td>東京</td>\n",
       "      <td>東京</td>\n",
       "      <td>デリバリー</td>\n",
       "      <td>お渡し済</td>\n",
       "    </tr>\n",
       "    <tr>\n",
       "      <th>3</th>\n",
       "      <td>28447783</td>\n",
       "      <td>190</td>\n",
       "      <td>C41156423</td>\n",
       "      <td>19</td>\n",
       "      <td>73032165</td>\n",
       "      <td>2020-04-01 11:00:00</td>\n",
       "      <td>2020-04-01 11:16:00</td>\n",
       "      <td>0</td>\n",
       "      <td>2732</td>\n",
       "      <td>2</td>\n",
       "      <td>栃木店</td>\n",
       "      <td>TO</td>\n",
       "      <td>北関東</td>\n",
       "      <td>栃木</td>\n",
       "      <td>デリバリー</td>\n",
       "      <td>お渡し済</td>\n",
       "    </tr>\n",
       "    <tr>\n",
       "      <th>4</th>\n",
       "      <td>32576156</td>\n",
       "      <td>191</td>\n",
       "      <td>C54568117</td>\n",
       "      <td>71</td>\n",
       "      <td>23281182</td>\n",
       "      <td>2020-04-01 11:00:00</td>\n",
       "      <td>2020-04-01 11:53:00</td>\n",
       "      <td>0</td>\n",
       "      <td>2987</td>\n",
       "      <td>2</td>\n",
       "      <td>伊勢崎店</td>\n",
       "      <td>GU</td>\n",
       "      <td>北関東</td>\n",
       "      <td>群馬</td>\n",
       "      <td>デリバリー</td>\n",
       "      <td>お渡し済</td>\n",
       "    </tr>\n",
       "  </tbody>\n",
       "</table>\n",
       "</div>"
      ],
      "text/plain": [
       "   order_id  store_id customer_id  coupon_cd  sales_detail_id  \\\n",
       "0  79339111        49   C26387220         50         67393872   \n",
       "1  18941733        85   C48773811         26         91834983   \n",
       "2  56217880        76   C66287421         36         64409634   \n",
       "3  28447783       190   C41156423         19         73032165   \n",
       "4  32576156       191   C54568117         71         23281182   \n",
       "\n",
       "     order_accept_date       delivered_date  takeout_flag  total_amount  \\\n",
       "0  2020-04-01 11:00:00  2020-04-01 11:18:00             1          4144   \n",
       "1  2020-04-01 11:00:00  2020-04-01 11:22:00             0          2877   \n",
       "2  2020-04-01 11:00:00  2020-04-01 11:15:00             0          2603   \n",
       "3  2020-04-01 11:00:00  2020-04-01 11:16:00             0          2732   \n",
       "4  2020-04-01 11:00:00  2020-04-01 11:53:00             0          2987   \n",
       "\n",
       "   status store_name area_cd wide_area narrow_area takeout_name status_name  \n",
       "0       1        浅草店      TK        東京          東京        お持ち帰り        お支払済  \n",
       "1       2        目黒店      TK        東京          東京        デリバリー        お渡し済  \n",
       "2       2        本郷店      TK        東京          東京        デリバリー        お渡し済  \n",
       "3       2        栃木店      TO       北関東          栃木        デリバリー        お渡し済  \n",
       "4       2       伊勢崎店      GU       北関東          群馬        デリバリー        お渡し済  "
      ]
     },
     "execution_count": 4,
     "metadata": {},
     "output_type": "execute_result"
    }
   ],
   "source": [
    "import pandas as pd\n",
    "order_data = pd.read_csv(\"order_data.csv\")\n",
    "print(len(order_data))\n",
    "order_data.head()"
   ]
  },
  {
   "cell_type": "code",
   "execution_count": 5,
   "metadata": {},
   "outputs": [
    {
     "name": "stdout",
     "output_type": "stream",
     "text": [
      "574436\n"
     ]
    },
    {
     "data": {
      "text/plain": [
       "Index(['order_id', 'store_id', 'customer_id', 'coupon_cd', 'sales_detail_id',\n",
       "       'order_accept_date', 'delivered_date', 'takeout_flag', 'total_amount',\n",
       "       'status', 'store_name', 'area_cd', 'wide_area', 'narrow_area',\n",
       "       'takeout_name', 'status_name'],\n",
       "      dtype='object')"
      ]
     },
     "execution_count": 5,
     "metadata": {},
     "output_type": "execute_result"
    }
   ],
   "source": [
    "order_data = order_data.loc[(order_data[\"status\"]==1)|(order_data[\"status\"]==2)]\n",
    "print(len(order_data))\n",
    "order_data.columns"
   ]
  },
  {
   "cell_type": "code",
   "execution_count": 6,
   "metadata": {},
   "outputs": [
    {
     "name": "stdout",
     "output_type": "stream",
     "text": [
      "(574436, 11)\n"
     ]
    },
    {
     "data": {
      "text/html": [
       "<div>\n",
       "<style scoped>\n",
       "    .dataframe tbody tr th:only-of-type {\n",
       "        vertical-align: middle;\n",
       "    }\n",
       "\n",
       "    .dataframe tbody tr th {\n",
       "        vertical-align: top;\n",
       "    }\n",
       "\n",
       "    .dataframe thead th {\n",
       "        text-align: right;\n",
       "    }\n",
       "</style>\n",
       "<table border=\"1\" class=\"dataframe\">\n",
       "  <thead>\n",
       "    <tr style=\"text-align: right;\">\n",
       "      <th></th>\n",
       "      <th>store_id</th>\n",
       "      <th>customer_id</th>\n",
       "      <th>coupon_cd</th>\n",
       "      <th>order_accept_date</th>\n",
       "      <th>delivered_date</th>\n",
       "      <th>total_amount</th>\n",
       "      <th>store_name</th>\n",
       "      <th>wide_area</th>\n",
       "      <th>narrow_area</th>\n",
       "      <th>takeout_name</th>\n",
       "      <th>status_name</th>\n",
       "    </tr>\n",
       "  </thead>\n",
       "  <tbody>\n",
       "    <tr>\n",
       "      <th>0</th>\n",
       "      <td>49</td>\n",
       "      <td>C26387220</td>\n",
       "      <td>50</td>\n",
       "      <td>2020-04-01 11:00:00</td>\n",
       "      <td>2020-04-01 11:18:00</td>\n",
       "      <td>4144</td>\n",
       "      <td>浅草店</td>\n",
       "      <td>東京</td>\n",
       "      <td>東京</td>\n",
       "      <td>お持ち帰り</td>\n",
       "      <td>お支払済</td>\n",
       "    </tr>\n",
       "    <tr>\n",
       "      <th>1</th>\n",
       "      <td>85</td>\n",
       "      <td>C48773811</td>\n",
       "      <td>26</td>\n",
       "      <td>2020-04-01 11:00:00</td>\n",
       "      <td>2020-04-01 11:22:00</td>\n",
       "      <td>2877</td>\n",
       "      <td>目黒店</td>\n",
       "      <td>東京</td>\n",
       "      <td>東京</td>\n",
       "      <td>デリバリー</td>\n",
       "      <td>お渡し済</td>\n",
       "    </tr>\n",
       "    <tr>\n",
       "      <th>2</th>\n",
       "      <td>76</td>\n",
       "      <td>C66287421</td>\n",
       "      <td>36</td>\n",
       "      <td>2020-04-01 11:00:00</td>\n",
       "      <td>2020-04-01 11:15:00</td>\n",
       "      <td>2603</td>\n",
       "      <td>本郷店</td>\n",
       "      <td>東京</td>\n",
       "      <td>東京</td>\n",
       "      <td>デリバリー</td>\n",
       "      <td>お渡し済</td>\n",
       "    </tr>\n",
       "    <tr>\n",
       "      <th>3</th>\n",
       "      <td>190</td>\n",
       "      <td>C41156423</td>\n",
       "      <td>19</td>\n",
       "      <td>2020-04-01 11:00:00</td>\n",
       "      <td>2020-04-01 11:16:00</td>\n",
       "      <td>2732</td>\n",
       "      <td>栃木店</td>\n",
       "      <td>北関東</td>\n",
       "      <td>栃木</td>\n",
       "      <td>デリバリー</td>\n",
       "      <td>お渡し済</td>\n",
       "    </tr>\n",
       "    <tr>\n",
       "      <th>4</th>\n",
       "      <td>191</td>\n",
       "      <td>C54568117</td>\n",
       "      <td>71</td>\n",
       "      <td>2020-04-01 11:00:00</td>\n",
       "      <td>2020-04-01 11:53:00</td>\n",
       "      <td>2987</td>\n",
       "      <td>伊勢崎店</td>\n",
       "      <td>北関東</td>\n",
       "      <td>群馬</td>\n",
       "      <td>デリバリー</td>\n",
       "      <td>お渡し済</td>\n",
       "    </tr>\n",
       "  </tbody>\n",
       "</table>\n",
       "</div>"
      ],
      "text/plain": [
       "   store_id customer_id  coupon_cd    order_accept_date       delivered_date  \\\n",
       "0        49   C26387220         50  2020-04-01 11:00:00  2020-04-01 11:18:00   \n",
       "1        85   C48773811         26  2020-04-01 11:00:00  2020-04-01 11:22:00   \n",
       "2        76   C66287421         36  2020-04-01 11:00:00  2020-04-01 11:15:00   \n",
       "3       190   C41156423         19  2020-04-01 11:00:00  2020-04-01 11:16:00   \n",
       "4       191   C54568117         71  2020-04-01 11:00:00  2020-04-01 11:53:00   \n",
       "\n",
       "   total_amount store_name wide_area narrow_area takeout_name status_name  \n",
       "0          4144        浅草店        東京          東京        お持ち帰り        お支払済  \n",
       "1          2877        目黒店        東京          東京        デリバリー        お渡し済  \n",
       "2          2603        本郷店        東京          東京        デリバリー        お渡し済  \n",
       "3          2732        栃木店       北関東          栃木        デリバリー        お渡し済  \n",
       "4          2987       伊勢崎店       北関東          群馬        デリバリー        お渡し済  "
      ]
     },
     "execution_count": 6,
     "metadata": {},
     "output_type": "execute_result"
    }
   ],
   "source": [
    "analyze_data = order_data[[\"store_id\", \"customer_id\", \"coupon_cd\", \"order_accept_date\", \"delivered_date\", \"total_amount\", \"store_name\", \"wide_area\", \"narrow_area\", \"takeout_name\", \"status_name\"]]\n",
    "print(analyze_data.shape)\n",
    "analyze_data.head()"
   ]
  },
  {
   "cell_type": "markdown",
   "metadata": {},
   "source": [
    "### ノック１２：データの全体像を把握しよう"
   ]
  },
  {
   "cell_type": "code",
   "execution_count": 7,
   "metadata": {},
   "outputs": [
    {
     "data": {
      "text/html": [
       "<div>\n",
       "<style scoped>\n",
       "    .dataframe tbody tr th:only-of-type {\n",
       "        vertical-align: middle;\n",
       "    }\n",
       "\n",
       "    .dataframe tbody tr th {\n",
       "        vertical-align: top;\n",
       "    }\n",
       "\n",
       "    .dataframe thead th {\n",
       "        text-align: right;\n",
       "    }\n",
       "</style>\n",
       "<table border=\"1\" class=\"dataframe\">\n",
       "  <thead>\n",
       "    <tr style=\"text-align: right;\">\n",
       "      <th></th>\n",
       "      <th>store_id</th>\n",
       "      <th>coupon_cd</th>\n",
       "      <th>total_amount</th>\n",
       "    </tr>\n",
       "  </thead>\n",
       "  <tbody>\n",
       "    <tr>\n",
       "      <th>count</th>\n",
       "      <td>574436.000000</td>\n",
       "      <td>574436.000000</td>\n",
       "      <td>574436.000000</td>\n",
       "    </tr>\n",
       "    <tr>\n",
       "      <th>mean</th>\n",
       "      <td>99.113844</td>\n",
       "      <td>49.478758</td>\n",
       "      <td>2960.087555</td>\n",
       "    </tr>\n",
       "    <tr>\n",
       "      <th>std</th>\n",
       "      <td>55.913615</td>\n",
       "      <td>28.888993</td>\n",
       "      <td>954.282731</td>\n",
       "    </tr>\n",
       "    <tr>\n",
       "      <th>min</th>\n",
       "      <td>1.000000</td>\n",
       "      <td>0.000000</td>\n",
       "      <td>698.000000</td>\n",
       "    </tr>\n",
       "    <tr>\n",
       "      <th>25%</th>\n",
       "      <td>51.000000</td>\n",
       "      <td>24.000000</td>\n",
       "      <td>2308.000000</td>\n",
       "    </tr>\n",
       "    <tr>\n",
       "      <th>50%</th>\n",
       "      <td>99.000000</td>\n",
       "      <td>49.000000</td>\n",
       "      <td>2808.000000</td>\n",
       "    </tr>\n",
       "    <tr>\n",
       "      <th>75%</th>\n",
       "      <td>147.000000</td>\n",
       "      <td>75.000000</td>\n",
       "      <td>3617.000000</td>\n",
       "    </tr>\n",
       "    <tr>\n",
       "      <th>max</th>\n",
       "      <td>196.000000</td>\n",
       "      <td>99.000000</td>\n",
       "      <td>5100.000000</td>\n",
       "    </tr>\n",
       "  </tbody>\n",
       "</table>\n",
       "</div>"
      ],
      "text/plain": [
       "            store_id      coupon_cd   total_amount\n",
       "count  574436.000000  574436.000000  574436.000000\n",
       "mean       99.113844      49.478758    2960.087555\n",
       "std        55.913615      28.888993     954.282731\n",
       "min         1.000000       0.000000     698.000000\n",
       "25%        51.000000      24.000000    2308.000000\n",
       "50%        99.000000      49.000000    2808.000000\n",
       "75%       147.000000      75.000000    3617.000000\n",
       "max       196.000000      99.000000    5100.000000"
      ]
     },
     "execution_count": 7,
     "metadata": {},
     "output_type": "execute_result"
    }
   ],
   "source": [
    "analyze_data.describe()"
   ]
  },
  {
   "cell_type": "code",
   "execution_count": 8,
   "metadata": {},
   "outputs": [
    {
     "data": {
      "text/plain": [
       "store_id              int64\n",
       "customer_id          object\n",
       "coupon_cd             int64\n",
       "order_accept_date    object\n",
       "delivered_date       object\n",
       "total_amount          int64\n",
       "store_name           object\n",
       "wide_area            object\n",
       "narrow_area          object\n",
       "takeout_name         object\n",
       "status_name          object\n",
       "dtype: object"
      ]
     },
     "execution_count": 8,
     "metadata": {},
     "output_type": "execute_result"
    }
   ],
   "source": [
    "analyze_data.dtypes"
   ]
  },
  {
   "cell_type": "code",
   "execution_count": 9,
   "metadata": {},
   "outputs": [
    {
     "name": "stderr",
     "output_type": "stream",
     "text": [
      "/tmp/ipykernel_3544/3766297346.py:1: SettingWithCopyWarning: \n",
      "A value is trying to be set on a copy of a slice from a DataFrame.\n",
      "Try using .loc[row_indexer,col_indexer] = value instead\n",
      "\n",
      "See the caveats in the documentation: https://pandas.pydata.org/pandas-docs/stable/user_guide/indexing.html#returning-a-view-versus-a-copy\n",
      "  analyze_data[[\"store_id\", \"coupon_cd\"]] = analyze_data[[\"store_id\", \"coupon_cd\"]].astype(str)\n"
     ]
    },
    {
     "data": {
      "text/plain": [
       "store_id             object\n",
       "customer_id          object\n",
       "coupon_cd            object\n",
       "order_accept_date    object\n",
       "delivered_date       object\n",
       "total_amount          int64\n",
       "store_name           object\n",
       "wide_area            object\n",
       "narrow_area          object\n",
       "takeout_name         object\n",
       "status_name          object\n",
       "dtype: object"
      ]
     },
     "execution_count": 9,
     "metadata": {},
     "output_type": "execute_result"
    }
   ],
   "source": [
    "analyze_data[[\"store_id\", \"coupon_cd\"]] = analyze_data[[\"store_id\", \"coupon_cd\"]].astype(str)\n",
    "analyze_data.dtypes"
   ]
  },
  {
   "cell_type": "code",
   "execution_count": 10,
   "metadata": {},
   "outputs": [],
   "source": [
    "import warnings\n",
    "warnings.filterwarnings(\"ignore\")"
   ]
  },
  {
   "cell_type": "code",
   "execution_count": 11,
   "metadata": {},
   "outputs": [
    {
     "data": {
      "text/html": [
       "<div>\n",
       "<style scoped>\n",
       "    .dataframe tbody tr th:only-of-type {\n",
       "        vertical-align: middle;\n",
       "    }\n",
       "\n",
       "    .dataframe tbody tr th {\n",
       "        vertical-align: top;\n",
       "    }\n",
       "\n",
       "    .dataframe thead th {\n",
       "        text-align: right;\n",
       "    }\n",
       "</style>\n",
       "<table border=\"1\" class=\"dataframe\">\n",
       "  <thead>\n",
       "    <tr style=\"text-align: right;\">\n",
       "      <th></th>\n",
       "      <th>total_amount</th>\n",
       "    </tr>\n",
       "  </thead>\n",
       "  <tbody>\n",
       "    <tr>\n",
       "      <th>count</th>\n",
       "      <td>574436.000000</td>\n",
       "    </tr>\n",
       "    <tr>\n",
       "      <th>mean</th>\n",
       "      <td>2960.087555</td>\n",
       "    </tr>\n",
       "    <tr>\n",
       "      <th>std</th>\n",
       "      <td>954.282731</td>\n",
       "    </tr>\n",
       "    <tr>\n",
       "      <th>min</th>\n",
       "      <td>698.000000</td>\n",
       "    </tr>\n",
       "    <tr>\n",
       "      <th>25%</th>\n",
       "      <td>2308.000000</td>\n",
       "    </tr>\n",
       "    <tr>\n",
       "      <th>50%</th>\n",
       "      <td>2808.000000</td>\n",
       "    </tr>\n",
       "    <tr>\n",
       "      <th>75%</th>\n",
       "      <td>3617.000000</td>\n",
       "    </tr>\n",
       "    <tr>\n",
       "      <th>max</th>\n",
       "      <td>5100.000000</td>\n",
       "    </tr>\n",
       "  </tbody>\n",
       "</table>\n",
       "</div>"
      ],
      "text/plain": [
       "        total_amount\n",
       "count  574436.000000\n",
       "mean     2960.087555\n",
       "std       954.282731\n",
       "min       698.000000\n",
       "25%      2308.000000\n",
       "50%      2808.000000\n",
       "75%      3617.000000\n",
       "max      5100.000000"
      ]
     },
     "execution_count": 11,
     "metadata": {},
     "output_type": "execute_result"
    }
   ],
   "source": [
    "analyze_data.describe()"
   ]
  },
  {
   "cell_type": "markdown",
   "metadata": {},
   "source": [
    "### ノック１３：月別の売上を集計してみよう"
   ]
  },
  {
   "cell_type": "code",
   "execution_count": 12,
   "metadata": {},
   "outputs": [
    {
     "data": {
      "text/html": [
       "<div>\n",
       "<style scoped>\n",
       "    .dataframe tbody tr th:only-of-type {\n",
       "        vertical-align: middle;\n",
       "    }\n",
       "\n",
       "    .dataframe tbody tr th {\n",
       "        vertical-align: top;\n",
       "    }\n",
       "\n",
       "    .dataframe thead th {\n",
       "        text-align: right;\n",
       "    }\n",
       "</style>\n",
       "<table border=\"1\" class=\"dataframe\">\n",
       "  <thead>\n",
       "    <tr style=\"text-align: right;\">\n",
       "      <th></th>\n",
       "      <th>order_accept_date</th>\n",
       "      <th>order_accept_month</th>\n",
       "    </tr>\n",
       "  </thead>\n",
       "  <tbody>\n",
       "    <tr>\n",
       "      <th>0</th>\n",
       "      <td>2020-04-01 11:00:00</td>\n",
       "      <td>202004</td>\n",
       "    </tr>\n",
       "    <tr>\n",
       "      <th>1</th>\n",
       "      <td>2020-04-01 11:00:00</td>\n",
       "      <td>202004</td>\n",
       "    </tr>\n",
       "    <tr>\n",
       "      <th>2</th>\n",
       "      <td>2020-04-01 11:00:00</td>\n",
       "      <td>202004</td>\n",
       "    </tr>\n",
       "    <tr>\n",
       "      <th>3</th>\n",
       "      <td>2020-04-01 11:00:00</td>\n",
       "      <td>202004</td>\n",
       "    </tr>\n",
       "    <tr>\n",
       "      <th>4</th>\n",
       "      <td>2020-04-01 11:00:00</td>\n",
       "      <td>202004</td>\n",
       "    </tr>\n",
       "  </tbody>\n",
       "</table>\n",
       "</div>"
      ],
      "text/plain": [
       "    order_accept_date order_accept_month\n",
       "0 2020-04-01 11:00:00             202004\n",
       "1 2020-04-01 11:00:00             202004\n",
       "2 2020-04-01 11:00:00             202004\n",
       "3 2020-04-01 11:00:00             202004\n",
       "4 2020-04-01 11:00:00             202004"
      ]
     },
     "execution_count": 12,
     "metadata": {},
     "output_type": "execute_result"
    }
   ],
   "source": [
    "analyze_data[\"order_accept_date\"] = pd.to_datetime(analyze_data[\"order_accept_date\"])\n",
    "analyze_data[\"order_accept_month\"] = analyze_data[\"order_accept_date\"].dt.strftime('%Y%m')\n",
    "analyze_data[[\"order_accept_date\", \"order_accept_month\"]].head()"
   ]
  },
  {
   "cell_type": "code",
   "execution_count": 13,
   "metadata": {},
   "outputs": [
    {
     "data": {
      "text/html": [
       "<div>\n",
       "<style scoped>\n",
       "    .dataframe tbody tr th:only-of-type {\n",
       "        vertical-align: middle;\n",
       "    }\n",
       "\n",
       "    .dataframe tbody tr th {\n",
       "        vertical-align: top;\n",
       "    }\n",
       "\n",
       "    .dataframe thead th {\n",
       "        text-align: right;\n",
       "    }\n",
       "</style>\n",
       "<table border=\"1\" class=\"dataframe\">\n",
       "  <thead>\n",
       "    <tr style=\"text-align: right;\">\n",
       "      <th></th>\n",
       "      <th>delivered_date</th>\n",
       "      <th>delivered_month</th>\n",
       "    </tr>\n",
       "  </thead>\n",
       "  <tbody>\n",
       "    <tr>\n",
       "      <th>0</th>\n",
       "      <td>2020-04-01 11:18:00</td>\n",
       "      <td>202004</td>\n",
       "    </tr>\n",
       "    <tr>\n",
       "      <th>1</th>\n",
       "      <td>2020-04-01 11:22:00</td>\n",
       "      <td>202004</td>\n",
       "    </tr>\n",
       "    <tr>\n",
       "      <th>2</th>\n",
       "      <td>2020-04-01 11:15:00</td>\n",
       "      <td>202004</td>\n",
       "    </tr>\n",
       "    <tr>\n",
       "      <th>3</th>\n",
       "      <td>2020-04-01 11:16:00</td>\n",
       "      <td>202004</td>\n",
       "    </tr>\n",
       "    <tr>\n",
       "      <th>4</th>\n",
       "      <td>2020-04-01 11:53:00</td>\n",
       "      <td>202004</td>\n",
       "    </tr>\n",
       "  </tbody>\n",
       "</table>\n",
       "</div>"
      ],
      "text/plain": [
       "       delivered_date delivered_month\n",
       "0 2020-04-01 11:18:00          202004\n",
       "1 2020-04-01 11:22:00          202004\n",
       "2 2020-04-01 11:15:00          202004\n",
       "3 2020-04-01 11:16:00          202004\n",
       "4 2020-04-01 11:53:00          202004"
      ]
     },
     "execution_count": 13,
     "metadata": {},
     "output_type": "execute_result"
    }
   ],
   "source": [
    "analyze_data[\"delivered_date\"] = pd.to_datetime(analyze_data[\"delivered_date\"])\n",
    "analyze_data[\"delivered_month\"] = analyze_data[\"delivered_date\"].dt.strftime('%Y%m')\n",
    "analyze_data[[\"delivered_date\", \"delivered_month\"]].head()"
   ]
  },
  {
   "cell_type": "code",
   "execution_count": 14,
   "metadata": {},
   "outputs": [
    {
     "data": {
      "text/plain": [
       "store_id                      object\n",
       "customer_id                   object\n",
       "coupon_cd                     object\n",
       "order_accept_date     datetime64[ns]\n",
       "delivered_date        datetime64[ns]\n",
       "total_amount                   int64\n",
       "store_name                    object\n",
       "wide_area                     object\n",
       "narrow_area                   object\n",
       "takeout_name                  object\n",
       "status_name                   object\n",
       "order_accept_month            object\n",
       "delivered_month               object\n",
       "dtype: object"
      ]
     },
     "execution_count": 14,
     "metadata": {},
     "output_type": "execute_result"
    }
   ],
   "source": [
    "analyze_data.dtypes"
   ]
  },
  {
   "cell_type": "code",
   "execution_count": 15,
   "metadata": {},
   "outputs": [
    {
     "data": {
      "text/html": [
       "<div>\n",
       "<style scoped>\n",
       "    .dataframe tbody tr th:only-of-type {\n",
       "        vertical-align: middle;\n",
       "    }\n",
       "\n",
       "    .dataframe tbody tr th {\n",
       "        vertical-align: top;\n",
       "    }\n",
       "\n",
       "    .dataframe thead tr th {\n",
       "        text-align: left;\n",
       "    }\n",
       "\n",
       "    .dataframe thead tr:last-of-type th {\n",
       "        text-align: right;\n",
       "    }\n",
       "</style>\n",
       "<table border=\"1\" class=\"dataframe\">\n",
       "  <thead>\n",
       "    <tr>\n",
       "      <th></th>\n",
       "      <th colspan=\"8\" halign=\"left\">total_amount</th>\n",
       "    </tr>\n",
       "    <tr>\n",
       "      <th></th>\n",
       "      <th>count</th>\n",
       "      <th>mean</th>\n",
       "      <th>std</th>\n",
       "      <th>min</th>\n",
       "      <th>25%</th>\n",
       "      <th>50%</th>\n",
       "      <th>75%</th>\n",
       "      <th>max</th>\n",
       "    </tr>\n",
       "    <tr>\n",
       "      <th>order_accept_month</th>\n",
       "      <th></th>\n",
       "      <th></th>\n",
       "      <th></th>\n",
       "      <th></th>\n",
       "      <th></th>\n",
       "      <th></th>\n",
       "      <th></th>\n",
       "      <th></th>\n",
       "    </tr>\n",
       "  </thead>\n",
       "  <tbody>\n",
       "    <tr>\n",
       "      <th>202004</th>\n",
       "      <td>189414.0</td>\n",
       "      <td>2959.440638</td>\n",
       "      <td>954.271169</td>\n",
       "      <td>698.0</td>\n",
       "      <td>2308.0</td>\n",
       "      <td>2808.0</td>\n",
       "      <td>3586.0</td>\n",
       "      <td>5100.0</td>\n",
       "    </tr>\n",
       "    <tr>\n",
       "      <th>202005</th>\n",
       "      <td>195684.0</td>\n",
       "      <td>2960.327799</td>\n",
       "      <td>954.823248</td>\n",
       "      <td>698.0</td>\n",
       "      <td>2308.0</td>\n",
       "      <td>2808.0</td>\n",
       "      <td>3586.0</td>\n",
       "      <td>5100.0</td>\n",
       "    </tr>\n",
       "    <tr>\n",
       "      <th>202006</th>\n",
       "      <td>189338.0</td>\n",
       "      <td>2960.486437</td>\n",
       "      <td>953.740057</td>\n",
       "      <td>698.0</td>\n",
       "      <td>2308.0</td>\n",
       "      <td>2808.0</td>\n",
       "      <td>3617.0</td>\n",
       "      <td>5100.0</td>\n",
       "    </tr>\n",
       "  </tbody>\n",
       "</table>\n",
       "</div>"
      ],
      "text/plain": [
       "                   total_amount                                          \\\n",
       "                          count         mean         std    min     25%   \n",
       "order_accept_month                                                        \n",
       "202004                 189414.0  2959.440638  954.271169  698.0  2308.0   \n",
       "202005                 195684.0  2960.327799  954.823248  698.0  2308.0   \n",
       "202006                 189338.0  2960.486437  953.740057  698.0  2308.0   \n",
       "\n",
       "                                            \n",
       "                       50%     75%     max  \n",
       "order_accept_month                          \n",
       "202004              2808.0  3586.0  5100.0  \n",
       "202005              2808.0  3586.0  5100.0  \n",
       "202006              2808.0  3617.0  5100.0  "
      ]
     },
     "execution_count": 15,
     "metadata": {},
     "output_type": "execute_result"
    }
   ],
   "source": [
    "month_data = analyze_data.groupby(\"order_accept_month\")\n",
    "month_data.describe()"
   ]
  },
  {
   "cell_type": "code",
   "execution_count": 16,
   "metadata": {},
   "outputs": [
    {
     "data": {
      "text/html": [
       "<div>\n",
       "<style scoped>\n",
       "    .dataframe tbody tr th:only-of-type {\n",
       "        vertical-align: middle;\n",
       "    }\n",
       "\n",
       "    .dataframe tbody tr th {\n",
       "        vertical-align: top;\n",
       "    }\n",
       "\n",
       "    .dataframe thead th {\n",
       "        text-align: right;\n",
       "    }\n",
       "</style>\n",
       "<table border=\"1\" class=\"dataframe\">\n",
       "  <thead>\n",
       "    <tr style=\"text-align: right;\">\n",
       "      <th></th>\n",
       "      <th>total_amount</th>\n",
       "    </tr>\n",
       "    <tr>\n",
       "      <th>order_accept_month</th>\n",
       "      <th></th>\n",
       "    </tr>\n",
       "  </thead>\n",
       "  <tbody>\n",
       "    <tr>\n",
       "      <th>202004</th>\n",
       "      <td>560559489</td>\n",
       "    </tr>\n",
       "    <tr>\n",
       "      <th>202005</th>\n",
       "      <td>579288785</td>\n",
       "    </tr>\n",
       "    <tr>\n",
       "      <th>202006</th>\n",
       "      <td>560532581</td>\n",
       "    </tr>\n",
       "  </tbody>\n",
       "</table>\n",
       "</div>"
      ],
      "text/plain": [
       "                    total_amount\n",
       "order_accept_month              \n",
       "202004                 560559489\n",
       "202005                 579288785\n",
       "202006                 560532581"
      ]
     },
     "execution_count": 16,
     "metadata": {},
     "output_type": "execute_result"
    }
   ],
   "source": [
    "month_data.sum()"
   ]
  },
  {
   "cell_type": "markdown",
   "metadata": {},
   "source": [
    "### ノック１４：月別の推移を可視化してみよう"
   ]
  },
  {
   "cell_type": "code",
   "execution_count": 17,
   "metadata": {},
   "outputs": [
    {
     "data": {
      "text/plain": [
       "<AxesSubplot:xlabel='order_accept_month'>"
      ]
     },
     "execution_count": 17,
     "metadata": {},
     "output_type": "execute_result"
    },
    {
     "data": {
      "image/png": "[encoded data removed]",
      "text/plain": [
       "<Figure size 432x288 with 1 Axes>"
      ]
     },
     "metadata": {
      "needs_background": "light"
     },
     "output_type": "display_data"
    }
   ],
   "source": [
    "import matplotlib.pyplot as plt\n",
    "%matplotlib inline\n",
    "month_data.sum().plot()"
   ]
  },
  {
   "cell_type": "code",
   "execution_count": 18,
   "metadata": {},
   "outputs": [
    {
     "data": {
      "text/plain": [
       "<AxesSubplot:xlabel='order_accept_month'>"
      ]
     },
     "execution_count": 18,
     "metadata": {},
     "output_type": "execute_result"
    },
    {
     "data": {
      "image/png": "[encoded data removed]",
      "text/plain": [
       "<Figure size 432x288 with 1 Axes>"
      ]
     },
     "metadata": {
      "needs_background": "light"
     },
     "output_type": "display_data"
    }
   ],
   "source": [
    "month_data.mean().plot()"
   ]
  },
  {
   "cell_type": "markdown",
   "metadata": {},
   "source": [
    "### ノック１５：売上からヒストグラムを作成してみよう"
   ]
  },
  {
   "cell_type": "code",
   "execution_count": null,
   "metadata": {},
   "outputs": [],
   "source": []
  },
  {
   "cell_type": "code",
   "execution_count": null,
   "metadata": {},
   "outputs": [],
   "source": []
  },
  {
   "cell_type": "markdown",
   "metadata": {},
   "source": [
    "### ノック１６：都道府県別の売上を集計して可視化しよう"
   ]
  },
  {
   "cell_type": "code",
   "execution_count": null,
   "metadata": {},
   "outputs": [],
   "source": []
  },
  {
   "cell_type": "code",
   "execution_count": null,
   "metadata": {},
   "outputs": [],
   "source": []
  },
  {
   "cell_type": "markdown",
   "metadata": {},
   "source": [
    "### ノック１７：クラスタリングに向けてデータを加工しよう"
   ]
  },
  {
   "cell_type": "code",
   "execution_count": null,
   "metadata": {},
   "outputs": [],
   "source": []
  },
  {
   "cell_type": "code",
   "execution_count": null,
   "metadata": {},
   "outputs": [],
   "source": []
  },
  {
   "cell_type": "markdown",
   "metadata": {},
   "source": [
    "### ノック１８：クラスタリングで店舗をグループ化してみよう"
   ]
  },
  {
   "cell_type": "code",
   "execution_count": null,
   "metadata": {},
   "outputs": [],
   "source": []
  },
  {
   "cell_type": "code",
   "execution_count": null,
   "metadata": {},
   "outputs": [],
   "source": []
  },
  {
   "cell_type": "markdown",
   "metadata": {},
   "source": [
    "### ノック１９：グループの傾向を分析してみよう"
   ]
  },
  {
   "cell_type": "code",
   "execution_count": null,
   "metadata": {},
   "outputs": [],
   "source": []
  },
  {
   "cell_type": "code",
   "execution_count": null,
   "metadata": {},
   "outputs": [],
   "source": []
  },
  {
   "cell_type": "markdown",
   "metadata": {},
   "source": [
    "### ノック２０：クラスタリングの結果をt-SNEで可視化しよう"
   ]
  },
  {
   "cell_type": "code",
   "execution_count": null,
   "metadata": {},
   "outputs": [],
   "source": []
  },
  {
   "cell_type": "code",
   "execution_count": null,
   "metadata": {},
   "outputs": [],
   "source": []
  }
 ],
 "metadata": {
  "kernelspec": {
   "display_name": "Python 3.9.12 ('base')",
   "language": "python",
   "name": "python3"
  },
  "language_info": {
   "codemirror_mode": {
    "name": "ipython",
    "version": 3
   },
   "file_extension": ".py",
   "mimetype": "text/x-python",
   "name": "python",
   "nbconvert_exporter": "python",
   "pygments_lexer": "ipython3",
   "version": "3.10.4"
  },
  "vscode": {
   "interpreter": {
    "hash": "d4d1e4263499bec80672ea0156c357c1ee493ec2b1c70f0acce89fc37c4a6abe"
   }
  }
 },
 "nbformat": 4,
 "nbformat_minor": 2
}
