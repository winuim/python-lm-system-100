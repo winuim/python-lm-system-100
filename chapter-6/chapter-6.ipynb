{
 "cells": [
  {
   "cell_type": "code",
   "execution_count": 1,
   "metadata": {},
   "outputs": [],
   "source": [
    "# Google Colaboratoryを使用する場合は、下記のコメントアウトを外し、実行してください"
   ]
  },
  {
   "cell_type": "code",
   "execution_count": 2,
   "metadata": {},
   "outputs": [],
   "source": [
    "# # 下記セルを実行すると、authorization codeの入力を求められます。\n",
    "# # 出力されたリンク先をクリックし、Googleアカウントにログインし、\n",
    "# # authorization codeをコピーし、貼り付けをおこなってください。\n",
    "# import os\n",
    "# from google.colab import drive\n",
    "# drive.mount('/content/drive')"
   ]
  },
  {
   "cell_type": "code",
   "execution_count": 3,
   "metadata": {},
   "outputs": [],
   "source": [
    "# working_dir = 'MLSys_100Knocks' #　※※自分で作成したフォルダパスが異なる場合こちらを変更してください。※※\n",
    "# path = f'/content/drive/MyDrive/{working_dir}/本章/6章'\n",
    "# os.chdir(path)"
   ]
  },
  {
   "cell_type": "markdown",
   "metadata": {},
   "source": [
    "# ６章 機械学習のためのデータ加工をする１０本ノック\n",
    "\n"
   ]
  },
  {
   "cell_type": "markdown",
   "metadata": {},
   "source": [
    "### ノック５１：データ加工の下準備をしよう"
   ]
  },
  {
   "cell_type": "code",
   "execution_count": 4,
   "metadata": {},
   "outputs": [],
   "source": [
    "import os\n",
    "data_dir = \"data\"\n",
    "input_dir = os.path.join(data_dir, \"0_input\")\n",
    "output_dir = os.path.join(data_dir, \"1_output\")\n",
    "master_dir = os.path.join(data_dir, \"99_master\")\n",
    "os.makedirs(input_dir, exist_ok=True)\n",
    "os.makedirs(output_dir, exist_ok=True)\n",
    "os.makedirs(master_dir, exist_ok=True)"
   ]
  },
  {
   "cell_type": "markdown",
   "metadata": {},
   "source": [
    "##### ＊＊必ずデータの配置をおこなってください。＊＊"
   ]
  },
  {
   "cell_type": "markdown",
   "metadata": {},
   "source": [
    "#### MacやGoogle Colaboratory等、環境によっては、ファイル取得時の順番が年月順にならないことがあります。\n",
    "#### その場合、tbl_order_paths = sorted(tbl_order_paths)を入れてください。"
   ]
  },
  {
   "cell_type": "code",
   "execution_count": 5,
   "metadata": {},
   "outputs": [
    {
     "data": {
      "text/plain": [
       "['data/0_input/tbl_order_201905.csv',\n",
       " 'data/0_input/tbl_order_202002.csv',\n",
       " 'data/0_input/tbl_order_201904.csv',\n",
       " 'data/0_input/tbl_order_201907.csv',\n",
       " 'data/0_input/tbl_order_201909.csv',\n",
       " 'data/0_input/tbl_order_201910.csv',\n",
       " 'data/0_input/tbl_order_202003.csv',\n",
       " 'data/0_input/tbl_order_201911.csv',\n",
       " 'data/0_input/tbl_order_201908.csv',\n",
       " 'data/0_input/tbl_order_201906.csv',\n",
       " 'data/0_input/tbl_order_201912.csv',\n",
       " 'data/0_input/tbl_order_202001.csv']"
      ]
     },
     "execution_count": 5,
     "metadata": {},
     "output_type": "execute_result"
    }
   ],
   "source": [
    "import glob\n",
    "tbl_order_file = os.path.join(input_dir, \"tbl_order_*.csv\")\n",
    "tbl_order_paths = glob.glob(tbl_order_file)\n",
    "tbl_order_paths"
   ]
  },
  {
   "cell_type": "markdown",
   "metadata": {},
   "source": [
    "### ノック５２：データの読み込みを行い加工の方向性を検討しよう"
   ]
  },
  {
   "cell_type": "code",
   "execution_count": 6,
   "metadata": {},
   "outputs": [
    {
     "data": {
      "text/html": [
       "<div>\n",
       "<style scoped>\n",
       "    .dataframe tbody tr th:only-of-type {\n",
       "        vertical-align: middle;\n",
       "    }\n",
       "\n",
       "    .dataframe tbody tr th {\n",
       "        vertical-align: top;\n",
       "    }\n",
       "\n",
       "    .dataframe thead th {\n",
       "        text-align: right;\n",
       "    }\n",
       "</style>\n",
       "<table border=\"1\" class=\"dataframe\">\n",
       "  <thead>\n",
       "    <tr style=\"text-align: right;\">\n",
       "      <th></th>\n",
       "      <th>area_cd</th>\n",
       "      <th>wide_area</th>\n",
       "      <th>narrow_area</th>\n",
       "    </tr>\n",
       "  </thead>\n",
       "  <tbody>\n",
       "    <tr>\n",
       "      <th>0</th>\n",
       "      <td>TK</td>\n",
       "      <td>東京</td>\n",
       "      <td>東京</td>\n",
       "    </tr>\n",
       "    <tr>\n",
       "      <th>1</th>\n",
       "      <td>KN</td>\n",
       "      <td>神奈川</td>\n",
       "      <td>神奈川</td>\n",
       "    </tr>\n",
       "    <tr>\n",
       "      <th>2</th>\n",
       "      <td>CH</td>\n",
       "      <td>千葉</td>\n",
       "      <td>千葉</td>\n",
       "    </tr>\n",
       "  </tbody>\n",
       "</table>\n",
       "</div>"
      ],
      "text/plain": [
       "  area_cd wide_area narrow_area\n",
       "0      TK        東京          東京\n",
       "1      KN       神奈川         神奈川\n",
       "2      CH        千葉          千葉"
      ]
     },
     "execution_count": 6,
     "metadata": {},
     "output_type": "execute_result"
    }
   ],
   "source": [
    "import pandas as pd\n",
    "m_area_file = \"m_area.csv\"\n",
    "m_store_file = \"m_store.csv\"\n",
    "m_area = pd.read_csv(os.path.join(master_dir, m_area_file))\n",
    "m_store = pd.read_csv(os.path.join(master_dir, m_store_file))\n",
    "m_area.head(3)"
   ]
  },
  {
   "cell_type": "code",
   "execution_count": 7,
   "metadata": {},
   "outputs": [
    {
     "name": "stdout",
     "output_type": "stream",
     "text": [
      "読み込みデータ：data/0_input/tbl_order_201905.csv\n",
      "データ件数：241041\n"
     ]
    },
    {
     "data": {
      "text/html": [
       "<div>\n",
       "<style scoped>\n",
       "    .dataframe tbody tr th:only-of-type {\n",
       "        vertical-align: middle;\n",
       "    }\n",
       "\n",
       "    .dataframe tbody tr th {\n",
       "        vertical-align: top;\n",
       "    }\n",
       "\n",
       "    .dataframe thead th {\n",
       "        text-align: right;\n",
       "    }\n",
       "</style>\n",
       "<table border=\"1\" class=\"dataframe\">\n",
       "  <thead>\n",
       "    <tr style=\"text-align: right;\">\n",
       "      <th></th>\n",
       "      <th>order_id</th>\n",
       "      <th>store_id</th>\n",
       "      <th>customer_id</th>\n",
       "      <th>coupon_cd</th>\n",
       "      <th>sales_detail_id</th>\n",
       "      <th>order_accept_date</th>\n",
       "      <th>delivered_date</th>\n",
       "      <th>takeout_flag</th>\n",
       "      <th>total_amount</th>\n",
       "      <th>status</th>\n",
       "    </tr>\n",
       "  </thead>\n",
       "  <tbody>\n",
       "    <tr>\n",
       "      <th>0</th>\n",
       "      <td>24271788</td>\n",
       "      <td>136</td>\n",
       "      <td>C09404153</td>\n",
       "      <td>30</td>\n",
       "      <td>27906557</td>\n",
       "      <td>2019-05-01 11:00:00</td>\n",
       "      <td>2019-05-01 11:55:00</td>\n",
       "      <td>0</td>\n",
       "      <td>4744</td>\n",
       "      <td>2</td>\n",
       "    </tr>\n",
       "    <tr>\n",
       "      <th>1</th>\n",
       "      <td>90187608</td>\n",
       "      <td>22</td>\n",
       "      <td>C05404908</td>\n",
       "      <td>81</td>\n",
       "      <td>36668327</td>\n",
       "      <td>2019-05-01 11:00:00</td>\n",
       "      <td>2019-05-01 11:21:00</td>\n",
       "      <td>0</td>\n",
       "      <td>2328</td>\n",
       "      <td>2</td>\n",
       "    </tr>\n",
       "    <tr>\n",
       "      <th>2</th>\n",
       "      <td>62067185</td>\n",
       "      <td>121</td>\n",
       "      <td>C72617833</td>\n",
       "      <td>65</td>\n",
       "      <td>59085804</td>\n",
       "      <td>2019-05-01 11:00:00</td>\n",
       "      <td>2019-05-01 11:50:00</td>\n",
       "      <td>0</td>\n",
       "      <td>2877</td>\n",
       "      <td>2</td>\n",
       "    </tr>\n",
       "  </tbody>\n",
       "</table>\n",
       "</div>"
      ],
      "text/plain": [
       "   order_id  store_id customer_id  coupon_cd  sales_detail_id  \\\n",
       "0  24271788       136   C09404153         30         27906557   \n",
       "1  90187608        22   C05404908         81         36668327   \n",
       "2  62067185       121   C72617833         65         59085804   \n",
       "\n",
       "     order_accept_date       delivered_date  takeout_flag  total_amount  \\\n",
       "0  2019-05-01 11:00:00  2019-05-01 11:55:00             0          4744   \n",
       "1  2019-05-01 11:00:00  2019-05-01 11:21:00             0          2328   \n",
       "2  2019-05-01 11:00:00  2019-05-01 11:50:00             0          2877   \n",
       "\n",
       "   status  \n",
       "0       2  \n",
       "1       2  \n",
       "2       2  "
      ]
     },
     "execution_count": 7,
     "metadata": {},
     "output_type": "execute_result"
    }
   ],
   "source": [
    "tbl_order_path = tbl_order_paths[0]\n",
    "print(f'読み込みデータ：{tbl_order_path}')\n",
    "order_data = pd.read_csv(tbl_order_path)\n",
    "print(f'データ件数：{len(order_data)}')\n",
    "order_data.head(3)"
   ]
  },
  {
   "cell_type": "markdown",
   "metadata": {},
   "source": [
    "### ノック５３：１か月分のデータの基本的なデータ加工を実施しよう"
   ]
  },
  {
   "cell_type": "code",
   "execution_count": 8,
   "metadata": {},
   "outputs": [
    {
     "data": {
      "text/html": [
       "<div>\n",
       "<style scoped>\n",
       "    .dataframe tbody tr th:only-of-type {\n",
       "        vertical-align: middle;\n",
       "    }\n",
       "\n",
       "    .dataframe tbody tr th {\n",
       "        vertical-align: top;\n",
       "    }\n",
       "\n",
       "    .dataframe thead th {\n",
       "        text-align: right;\n",
       "    }\n",
       "</style>\n",
       "<table border=\"1\" class=\"dataframe\">\n",
       "  <thead>\n",
       "    <tr style=\"text-align: right;\">\n",
       "      <th></th>\n",
       "      <th>order_id</th>\n",
       "      <th>store_id</th>\n",
       "      <th>customer_id</th>\n",
       "      <th>coupon_cd</th>\n",
       "      <th>sales_detail_id</th>\n",
       "      <th>order_accept_date</th>\n",
       "      <th>delivered_date</th>\n",
       "      <th>takeout_flag</th>\n",
       "      <th>total_amount</th>\n",
       "      <th>status</th>\n",
       "      <th>store_name</th>\n",
       "      <th>area_cd</th>\n",
       "      <th>wide_area</th>\n",
       "      <th>narrow_area</th>\n",
       "      <th>takeout_name</th>\n",
       "      <th>status_name</th>\n",
       "    </tr>\n",
       "  </thead>\n",
       "  <tbody>\n",
       "    <tr>\n",
       "      <th>0</th>\n",
       "      <td>24271788</td>\n",
       "      <td>136</td>\n",
       "      <td>C09404153</td>\n",
       "      <td>30</td>\n",
       "      <td>27906557</td>\n",
       "      <td>2019-05-01 11:00:00</td>\n",
       "      <td>2019-05-01 11:55:00</td>\n",
       "      <td>0</td>\n",
       "      <td>4744</td>\n",
       "      <td>2</td>\n",
       "      <td>木更津店</td>\n",
       "      <td>CH</td>\n",
       "      <td>千葉</td>\n",
       "      <td>千葉</td>\n",
       "      <td>デリバリー</td>\n",
       "      <td>お渡し済</td>\n",
       "    </tr>\n",
       "    <tr>\n",
       "      <th>1</th>\n",
       "      <td>90187608</td>\n",
       "      <td>22</td>\n",
       "      <td>C05404908</td>\n",
       "      <td>81</td>\n",
       "      <td>36668327</td>\n",
       "      <td>2019-05-01 11:00:00</td>\n",
       "      <td>2019-05-01 11:21:00</td>\n",
       "      <td>0</td>\n",
       "      <td>2328</td>\n",
       "      <td>2</td>\n",
       "      <td>国立店</td>\n",
       "      <td>TK</td>\n",
       "      <td>東京</td>\n",
       "      <td>東京</td>\n",
       "      <td>デリバリー</td>\n",
       "      <td>お渡し済</td>\n",
       "    </tr>\n",
       "    <tr>\n",
       "      <th>2</th>\n",
       "      <td>62067185</td>\n",
       "      <td>121</td>\n",
       "      <td>C72617833</td>\n",
       "      <td>65</td>\n",
       "      <td>59085804</td>\n",
       "      <td>2019-05-01 11:00:00</td>\n",
       "      <td>2019-05-01 11:50:00</td>\n",
       "      <td>0</td>\n",
       "      <td>2877</td>\n",
       "      <td>2</td>\n",
       "      <td>港南店</td>\n",
       "      <td>KN</td>\n",
       "      <td>神奈川</td>\n",
       "      <td>神奈川</td>\n",
       "      <td>デリバリー</td>\n",
       "      <td>お渡し済</td>\n",
       "    </tr>\n",
       "  </tbody>\n",
       "</table>\n",
       "</div>"
      ],
      "text/plain": [
       "   order_id  store_id customer_id  coupon_cd  sales_detail_id  \\\n",
       "0  24271788       136   C09404153         30         27906557   \n",
       "1  90187608        22   C05404908         81         36668327   \n",
       "2  62067185       121   C72617833         65         59085804   \n",
       "\n",
       "     order_accept_date       delivered_date  takeout_flag  total_amount  \\\n",
       "0  2019-05-01 11:00:00  2019-05-01 11:55:00             0          4744   \n",
       "1  2019-05-01 11:00:00  2019-05-01 11:21:00             0          2328   \n",
       "2  2019-05-01 11:00:00  2019-05-01 11:50:00             0          2877   \n",
       "\n",
       "   status store_name area_cd wide_area narrow_area takeout_name status_name  \n",
       "0       2       木更津店      CH        千葉          千葉        デリバリー        お渡し済  \n",
       "1       2        国立店      TK        東京          東京        デリバリー        お渡し済  \n",
       "2       2        港南店      KN       神奈川         神奈川        デリバリー        お渡し済  "
      ]
     },
     "execution_count": 8,
     "metadata": {},
     "output_type": "execute_result"
    }
   ],
   "source": [
    "order_data = order_data.loc[order_data[\"store_id\"]!=999]\n",
    "\n",
    "order_data = pd.merge(order_data, m_store, on=\"store_id\", how=\"left\")\n",
    "order_data = pd.merge(order_data, m_area, on=\"area_cd\", how=\"left\")\n",
    "\n",
    "order_data.loc[order_data[\"takeout_flag\"]==0, \"takeout_name\"] = \"デリバリー\"\n",
    "order_data.loc[order_data[\"takeout_flag\"]==1, \"takeout_name\"] = \"お持ち帰り\"\n",
    "\n",
    "order_data.loc[order_data[\"status\"]==0, \"status_name\"] = \"受付\"\n",
    "order_data.loc[order_data[\"status\"]==1, \"status_name\"] = \"お支払済\"\n",
    "order_data.loc[order_data[\"status\"]==2, \"status_name\"] = \"お渡し済\"\n",
    "order_data.loc[order_data[\"status\"]==9, \"status_name\"] = \"キャンセル\"\n",
    "order_data.head(3)"
   ]
  },
  {
   "cell_type": "code",
   "execution_count": 9,
   "metadata": {},
   "outputs": [
    {
     "data": {
      "text/plain": [
       "order_id             0\n",
       "store_id             0\n",
       "customer_id          0\n",
       "coupon_cd            0\n",
       "sales_detail_id      0\n",
       "order_accept_date    0\n",
       "delivered_date       0\n",
       "takeout_flag         0\n",
       "total_amount         0\n",
       "status               0\n",
       "store_name           0\n",
       "area_cd              0\n",
       "wide_area            0\n",
       "narrow_area          0\n",
       "takeout_name         0\n",
       "status_name          0\n",
       "dtype: int64"
      ]
     },
     "execution_count": 9,
     "metadata": {},
     "output_type": "execute_result"
    }
   ],
   "source": [
    "order_data.isna().sum()"
   ]
  },
  {
   "cell_type": "markdown",
   "metadata": {},
   "source": [
    "### ノック５４：機械学習に使用する変数を作成しよう"
   ]
  },
  {
   "cell_type": "code",
   "execution_count": 11,
   "metadata": {},
   "outputs": [
    {
     "data": {
      "text/html": [
       "<div>\n",
       "<style scoped>\n",
       "    .dataframe tbody tr th:only-of-type {\n",
       "        vertical-align: middle;\n",
       "    }\n",
       "\n",
       "    .dataframe tbody tr th {\n",
       "        vertical-align: top;\n",
       "    }\n",
       "\n",
       "    .dataframe thead th {\n",
       "        text-align: right;\n",
       "    }\n",
       "</style>\n",
       "<table border=\"1\" class=\"dataframe\">\n",
       "  <thead>\n",
       "    <tr style=\"text-align: right;\">\n",
       "      <th></th>\n",
       "      <th>order_id</th>\n",
       "      <th>store_id</th>\n",
       "      <th>customer_id</th>\n",
       "      <th>coupon_cd</th>\n",
       "      <th>sales_detail_id</th>\n",
       "      <th>order_accept_date</th>\n",
       "      <th>delivered_date</th>\n",
       "      <th>takeout_flag</th>\n",
       "      <th>total_amount</th>\n",
       "      <th>status</th>\n",
       "      <th>store_name</th>\n",
       "      <th>area_cd</th>\n",
       "      <th>wide_area</th>\n",
       "      <th>narrow_area</th>\n",
       "      <th>takeout_name</th>\n",
       "      <th>status_name</th>\n",
       "      <th>order_accept_datetime</th>\n",
       "      <th>delivered_datetime</th>\n",
       "      <th>delta</th>\n",
       "    </tr>\n",
       "  </thead>\n",
       "  <tbody>\n",
       "    <tr>\n",
       "      <th>0</th>\n",
       "      <td>24271788</td>\n",
       "      <td>136</td>\n",
       "      <td>C09404153</td>\n",
       "      <td>30</td>\n",
       "      <td>27906557</td>\n",
       "      <td>2019-05-01 11:00:00</td>\n",
       "      <td>2019-05-01 11:55:00</td>\n",
       "      <td>0</td>\n",
       "      <td>4744</td>\n",
       "      <td>2</td>\n",
       "      <td>木更津店</td>\n",
       "      <td>CH</td>\n",
       "      <td>千葉</td>\n",
       "      <td>千葉</td>\n",
       "      <td>デリバリー</td>\n",
       "      <td>お渡し済</td>\n",
       "      <td>2019-05-01 11:00:00</td>\n",
       "      <td>2019-05-01 11:55:00</td>\n",
       "      <td>55.0</td>\n",
       "    </tr>\n",
       "    <tr>\n",
       "      <th>1</th>\n",
       "      <td>90187608</td>\n",
       "      <td>22</td>\n",
       "      <td>C05404908</td>\n",
       "      <td>81</td>\n",
       "      <td>36668327</td>\n",
       "      <td>2019-05-01 11:00:00</td>\n",
       "      <td>2019-05-01 11:21:00</td>\n",
       "      <td>0</td>\n",
       "      <td>2328</td>\n",
       "      <td>2</td>\n",
       "      <td>国立店</td>\n",
       "      <td>TK</td>\n",
       "      <td>東京</td>\n",
       "      <td>東京</td>\n",
       "      <td>デリバリー</td>\n",
       "      <td>お渡し済</td>\n",
       "      <td>2019-05-01 11:00:00</td>\n",
       "      <td>2019-05-01 11:21:00</td>\n",
       "      <td>21.0</td>\n",
       "    </tr>\n",
       "    <tr>\n",
       "      <th>2</th>\n",
       "      <td>62067185</td>\n",
       "      <td>121</td>\n",
       "      <td>C72617833</td>\n",
       "      <td>65</td>\n",
       "      <td>59085804</td>\n",
       "      <td>2019-05-01 11:00:00</td>\n",
       "      <td>2019-05-01 11:50:00</td>\n",
       "      <td>0</td>\n",
       "      <td>2877</td>\n",
       "      <td>2</td>\n",
       "      <td>港南店</td>\n",
       "      <td>KN</td>\n",
       "      <td>神奈川</td>\n",
       "      <td>神奈川</td>\n",
       "      <td>デリバリー</td>\n",
       "      <td>お渡し済</td>\n",
       "      <td>2019-05-01 11:00:00</td>\n",
       "      <td>2019-05-01 11:50:00</td>\n",
       "      <td>50.0</td>\n",
       "    </tr>\n",
       "  </tbody>\n",
       "</table>\n",
       "</div>"
      ],
      "text/plain": [
       "   order_id  store_id customer_id  coupon_cd  sales_detail_id  \\\n",
       "0  24271788       136   C09404153         30         27906557   \n",
       "1  90187608        22   C05404908         81         36668327   \n",
       "2  62067185       121   C72617833         65         59085804   \n",
       "\n",
       "     order_accept_date       delivered_date  takeout_flag  total_amount  \\\n",
       "0  2019-05-01 11:00:00  2019-05-01 11:55:00             0          4744   \n",
       "1  2019-05-01 11:00:00  2019-05-01 11:21:00             0          2328   \n",
       "2  2019-05-01 11:00:00  2019-05-01 11:50:00             0          2877   \n",
       "\n",
       "   status store_name area_cd wide_area narrow_area takeout_name status_name  \\\n",
       "0       2       木更津店      CH        千葉          千葉        デリバリー        お渡し済   \n",
       "1       2        国立店      TK        東京          東京        デリバリー        お渡し済   \n",
       "2       2        港南店      KN       神奈川         神奈川        デリバリー        お渡し済   \n",
       "\n",
       "  order_accept_datetime  delivered_datetime  delta  \n",
       "0   2019-05-01 11:00:00 2019-05-01 11:55:00   55.0  \n",
       "1   2019-05-01 11:00:00 2019-05-01 11:21:00   21.0  \n",
       "2   2019-05-01 11:00:00 2019-05-01 11:50:00   50.0  "
      ]
     },
     "execution_count": 11,
     "metadata": {},
     "output_type": "execute_result"
    }
   ],
   "source": [
    "def calc_delta(t):\n",
    "    t1, t2 = t\n",
    "    delta = t2 - t1\n",
    "    return delta.total_seconds()/60\n",
    "\n",
    "order_data.loc[:, \"order_accept_datetime\"] = pd.to_datetime(order_data[\"order_accept_date\"])\n",
    "order_data.loc[:, \"delivered_datetime\"] = pd.to_datetime(order_data[\"delivered_date\"])\n",
    "order_data.loc[:, \"delta\"] = order_data[[\"order_accept_datetime\", \"delivered_datetime\"]].apply(calc_delta, axis=1)\n",
    "order_data.head(3)"
   ]
  },
  {
   "cell_type": "code",
   "execution_count": 12,
   "metadata": {},
   "outputs": [
    {
     "data": {
      "text/html": [
       "<div>\n",
       "<style scoped>\n",
       "    .dataframe tbody tr th:only-of-type {\n",
       "        vertical-align: middle;\n",
       "    }\n",
       "\n",
       "    .dataframe tbody tr th {\n",
       "        vertical-align: top;\n",
       "    }\n",
       "\n",
       "    .dataframe thead th {\n",
       "        text-align: right;\n",
       "    }\n",
       "</style>\n",
       "<table border=\"1\" class=\"dataframe\">\n",
       "  <thead>\n",
       "    <tr style=\"text-align: right;\">\n",
       "      <th></th>\n",
       "      <th>order_id</th>\n",
       "      <th>store_id</th>\n",
       "      <th>customer_id</th>\n",
       "      <th>coupon_cd</th>\n",
       "      <th>sales_detail_id</th>\n",
       "      <th>order_accept_date</th>\n",
       "      <th>delivered_date</th>\n",
       "      <th>takeout_flag</th>\n",
       "      <th>total_amount</th>\n",
       "      <th>status</th>\n",
       "      <th>...</th>\n",
       "      <th>wide_area</th>\n",
       "      <th>narrow_area</th>\n",
       "      <th>takeout_name</th>\n",
       "      <th>status_name</th>\n",
       "      <th>order_accept_datetime</th>\n",
       "      <th>delivered_datetime</th>\n",
       "      <th>delta</th>\n",
       "      <th>order_accept_hour</th>\n",
       "      <th>order_accept_weekday</th>\n",
       "      <th>weekday_info</th>\n",
       "    </tr>\n",
       "  </thead>\n",
       "  <tbody>\n",
       "    <tr>\n",
       "      <th>0</th>\n",
       "      <td>24271788</td>\n",
       "      <td>136</td>\n",
       "      <td>C09404153</td>\n",
       "      <td>30</td>\n",
       "      <td>27906557</td>\n",
       "      <td>2019-05-01 11:00:00</td>\n",
       "      <td>2019-05-01 11:55:00</td>\n",
       "      <td>0</td>\n",
       "      <td>4744</td>\n",
       "      <td>2</td>\n",
       "      <td>...</td>\n",
       "      <td>千葉</td>\n",
       "      <td>千葉</td>\n",
       "      <td>デリバリー</td>\n",
       "      <td>お渡し済</td>\n",
       "      <td>2019-05-01 11:00:00</td>\n",
       "      <td>2019-05-01 11:55:00</td>\n",
       "      <td>55.0</td>\n",
       "      <td>11</td>\n",
       "      <td>2</td>\n",
       "      <td>平日</td>\n",
       "    </tr>\n",
       "    <tr>\n",
       "      <th>1</th>\n",
       "      <td>90187608</td>\n",
       "      <td>22</td>\n",
       "      <td>C05404908</td>\n",
       "      <td>81</td>\n",
       "      <td>36668327</td>\n",
       "      <td>2019-05-01 11:00:00</td>\n",
       "      <td>2019-05-01 11:21:00</td>\n",
       "      <td>0</td>\n",
       "      <td>2328</td>\n",
       "      <td>2</td>\n",
       "      <td>...</td>\n",
       "      <td>東京</td>\n",
       "      <td>東京</td>\n",
       "      <td>デリバリー</td>\n",
       "      <td>お渡し済</td>\n",
       "      <td>2019-05-01 11:00:00</td>\n",
       "      <td>2019-05-01 11:21:00</td>\n",
       "      <td>21.0</td>\n",
       "      <td>11</td>\n",
       "      <td>2</td>\n",
       "      <td>平日</td>\n",
       "    </tr>\n",
       "    <tr>\n",
       "      <th>2</th>\n",
       "      <td>62067185</td>\n",
       "      <td>121</td>\n",
       "      <td>C72617833</td>\n",
       "      <td>65</td>\n",
       "      <td>59085804</td>\n",
       "      <td>2019-05-01 11:00:00</td>\n",
       "      <td>2019-05-01 11:50:00</td>\n",
       "      <td>0</td>\n",
       "      <td>2877</td>\n",
       "      <td>2</td>\n",
       "      <td>...</td>\n",
       "      <td>神奈川</td>\n",
       "      <td>神奈川</td>\n",
       "      <td>デリバリー</td>\n",
       "      <td>お渡し済</td>\n",
       "      <td>2019-05-01 11:00:00</td>\n",
       "      <td>2019-05-01 11:50:00</td>\n",
       "      <td>50.0</td>\n",
       "      <td>11</td>\n",
       "      <td>2</td>\n",
       "      <td>平日</td>\n",
       "    </tr>\n",
       "  </tbody>\n",
       "</table>\n",
       "<p>3 rows × 22 columns</p>\n",
       "</div>"
      ],
      "text/plain": [
       "   order_id  store_id customer_id  coupon_cd  sales_detail_id  \\\n",
       "0  24271788       136   C09404153         30         27906557   \n",
       "1  90187608        22   C05404908         81         36668327   \n",
       "2  62067185       121   C72617833         65         59085804   \n",
       "\n",
       "     order_accept_date       delivered_date  takeout_flag  total_amount  \\\n",
       "0  2019-05-01 11:00:00  2019-05-01 11:55:00             0          4744   \n",
       "1  2019-05-01 11:00:00  2019-05-01 11:21:00             0          2328   \n",
       "2  2019-05-01 11:00:00  2019-05-01 11:50:00             0          2877   \n",
       "\n",
       "   status  ... wide_area narrow_area takeout_name status_name  \\\n",
       "0       2  ...        千葉          千葉        デリバリー        お渡し済   \n",
       "1       2  ...        東京          東京        デリバリー        お渡し済   \n",
       "2       2  ...       神奈川         神奈川        デリバリー        お渡し済   \n",
       "\n",
       "  order_accept_datetime  delivered_datetime delta order_accept_hour  \\\n",
       "0   2019-05-01 11:00:00 2019-05-01 11:55:00  55.0                11   \n",
       "1   2019-05-01 11:00:00 2019-05-01 11:21:00  21.0                11   \n",
       "2   2019-05-01 11:00:00 2019-05-01 11:50:00  50.0                11   \n",
       "\n",
       "   order_accept_weekday  weekday_info  \n",
       "0                     2            平日  \n",
       "1                     2            平日  \n",
       "2                     2            平日  \n",
       "\n",
       "[3 rows x 22 columns]"
      ]
     },
     "execution_count": 12,
     "metadata": {},
     "output_type": "execute_result"
    }
   ],
   "source": [
    "order_data.loc[:, \"order_accept_hour\"] = order_data[\"order_accept_datetime\"].dt.hour\n",
    "order_data.loc[:, \"order_accept_weekday\"] = order_data[\"order_accept_datetime\"].dt.weekday\n",
    "order_data.loc[order_data[\"order_accept_weekday\"]>=5, \"weekday_info\"] = \"休日\"\n",
    "order_data.loc[order_data[\"order_accept_weekday\"]<5, \"weekday_info\"] = \"平日\"\n",
    "order_data.head(3)\n"
   ]
  },
  {
   "cell_type": "markdown",
   "metadata": {},
   "source": [
    "### ノック５５：店舗単位に集計して変数を作成しよう"
   ]
  },
  {
   "cell_type": "code",
   "execution_count": null,
   "metadata": {},
   "outputs": [],
   "source": []
  },
  {
   "cell_type": "code",
   "execution_count": null,
   "metadata": {},
   "outputs": [],
   "source": []
  },
  {
   "cell_type": "markdown",
   "metadata": {},
   "source": [
    "### ノック５６：データの加工と店舗別集計を関数で実行しよう"
   ]
  },
  {
   "cell_type": "code",
   "execution_count": null,
   "metadata": {},
   "outputs": [],
   "source": []
  },
  {
   "cell_type": "code",
   "execution_count": null,
   "metadata": {},
   "outputs": [],
   "source": []
  },
  {
   "cell_type": "markdown",
   "metadata": {},
   "source": [
    "### ノック５７：全データの読み込みとデータ加工をやってみよう"
   ]
  },
  {
   "cell_type": "code",
   "execution_count": null,
   "metadata": {},
   "outputs": [],
   "source": []
  },
  {
   "cell_type": "code",
   "execution_count": null,
   "metadata": {},
   "outputs": [],
   "source": []
  },
  {
   "cell_type": "markdown",
   "metadata": {},
   "source": [
    "### ノック５８：目的変数を作成しよう"
   ]
  },
  {
   "cell_type": "code",
   "execution_count": null,
   "metadata": {},
   "outputs": [],
   "source": []
  },
  {
   "cell_type": "code",
   "execution_count": null,
   "metadata": {},
   "outputs": [],
   "source": []
  },
  {
   "cell_type": "markdown",
   "metadata": {},
   "source": [
    "### ノック５９：説明変数と目的変数を紐づけて機械学習用のデータを仕上げよう"
   ]
  },
  {
   "cell_type": "code",
   "execution_count": null,
   "metadata": {},
   "outputs": [],
   "source": []
  },
  {
   "cell_type": "code",
   "execution_count": null,
   "metadata": {},
   "outputs": [],
   "source": []
  },
  {
   "cell_type": "markdown",
   "metadata": {},
   "source": [
    "### ノック６０：機械学習用データの確認を行い出力しよう"
   ]
  },
  {
   "cell_type": "code",
   "execution_count": null,
   "metadata": {},
   "outputs": [],
   "source": []
  },
  {
   "cell_type": "code",
   "execution_count": null,
   "metadata": {},
   "outputs": [],
   "source": []
  }
 ],
 "metadata": {
  "kernelspec": {
   "display_name": "Python 3.10.4 ('base')",
   "language": "python",
   "name": "python3"
  },
  "language_info": {
   "codemirror_mode": {
    "name": "ipython",
    "version": 3
   },
   "file_extension": ".py",
   "mimetype": "text/x-python",
   "name": "python",
   "nbconvert_exporter": "python",
   "pygments_lexer": "ipython3",
   "version": "3.10.4"
  },
  "vscode": {
   "interpreter": {
    "hash": "d4d1e4263499bec80672ea0156c357c1ee493ec2b1c70f0acce89fc37c4a6abe"
   }
  }
 },
 "nbformat": 4,
 "nbformat_minor": 4
}
