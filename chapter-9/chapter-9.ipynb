{
 "cells": [
  {
   "cell_type": "code",
   "execution_count": 36,
   "metadata": {},
   "outputs": [],
   "source": [
    "# Google Colaboratoryを使用する場合は、下記のコメントアウトを外し、実行してください"
   ]
  },
  {
   "cell_type": "code",
   "execution_count": 37,
   "metadata": {},
   "outputs": [],
   "source": [
    "# # 下記セルを実行すると、authorization codeの入力を求められます。\n",
    "# # 出力されたリンク先をクリックし、Googleアカウントにログインし、\n",
    "# # authorization codeをコピーし、貼り付けをおこなってください。\n",
    "# import os\n",
    "# from google.colab import drive\n",
    "# drive.mount('/content/drive')"
   ]
  },
  {
   "cell_type": "code",
   "execution_count": 38,
   "metadata": {},
   "outputs": [],
   "source": [
    "# working_dir = 'MLSys_100Knocks' #　※※自分で作成したフォルダパスが異なる場合こちらを変更してください。※※\n",
    "# path = f'/content/drive/MyDrive/{working_dir}/本章/9章'\n",
    "# os.chdir(path)"
   ]
  },
  {
   "cell_type": "markdown",
   "metadata": {},
   "source": [
    "# ９章_小規模機械学習システムを作成する１０本ノック\n",
    "\n"
   ]
  },
  {
   "cell_type": "markdown",
   "metadata": {},
   "source": [
    "### ノック８１：フォルダ生成をして初期の変数定義をしよう"
   ]
  },
  {
   "cell_type": "code",
   "execution_count": 39,
   "metadata": {},
   "outputs": [],
   "source": [
    "import os\n",
    "data_dir = \"data\"\n",
    "input_dir = os.path.join(data_dir, \"00_input\")\n",
    "store_monthly_dir = os.path.join(data_dir, \"01_store_monthly\")\n",
    "ml_base_dir = os.path.join(data_dir, \"02_ml_base\")\n",
    "\n",
    "output_ml_result_dir = os.path.join(data_dir, \"10_output_ml_result\")\n",
    "output_report_dir = os.path.join(data_dir, \"11_output_report\")\n",
    "\n",
    "master_dir = os.path.join(data_dir, \"99_master\")\n",
    "model_dir = \"models\"\n",
    "\n",
    "os.makedirs(input_dir, exist_ok=True)\n",
    "os.makedirs(store_monthly_dir, exist_ok=True)\n",
    "os.makedirs(ml_base_dir, exist_ok=True)\n",
    "os.makedirs(output_ml_result_dir, exist_ok=True)\n",
    "os.makedirs(output_report_dir, exist_ok=True)\n",
    "os.makedirs(master_dir, exist_ok=True)\n",
    "os.makedirs(model_dir, exist_ok=True)"
   ]
  },
  {
   "cell_type": "markdown",
   "metadata": {},
   "source": [
    "##### ＊＊必ずデータやモデルの配置をおこなってください。＊＊"
   ]
  },
  {
   "cell_type": "code",
   "execution_count": 40,
   "metadata": {},
   "outputs": [],
   "source": [
    "tg_ym = \"202004\"\n",
    "target_file = \"tbl_order_\" + tg_ym + \".csv\"\n",
    "m_area_file = \"m_area.csv\"\n",
    "m_store_file = \"m_store.csv\"\n",
    "store_monthly_file = \"store_monthly_data.csv\"\n",
    "ml_base_file = \"ml_base_data.csv\""
   ]
  },
  {
   "cell_type": "markdown",
   "metadata": {},
   "source": [
    "### ノック８２：更新データを読み込んで店舗別データを作成しよう"
   ]
  },
  {
   "cell_type": "code",
   "execution_count": 41,
   "metadata": {},
   "outputs": [
    {
     "name": "stdout",
     "output_type": "stream",
     "text": [
      "日付が一致しました\n"
     ]
    }
   ],
   "source": [
    "import pandas as pd\n",
    "m_area = pd.read_csv(os.path.join(master_dir, m_area_file))\n",
    "m_store = pd.read_csv(os.path.join(master_dir, m_store_file))\n",
    "target_data = pd.read_csv(os.path.join(input_dir, target_file))\n",
    "\n",
    "import datetime\n",
    "max_date = pd.to_datetime(target_data[\"order_accept_date\"]).max()\n",
    "min_date = pd.to_datetime(target_data[\"order_accept_date\"]).min()\n",
    "max_str_date = max_date.strftime(\"%Y%m\")\n",
    "min_str_date = min_date.strftime(\"%Y%m\")\n",
    "if tg_ym == min_str_date and tg_ym == max_str_date:\n",
    "    print(\"日付が一致しました\")\n",
    "else:\n",
    "    raise Exception(\"日付が一致しません\")"
   ]
  },
  {
   "cell_type": "code",
   "execution_count": 42,
   "metadata": {},
   "outputs": [],
   "source": [
    "def calc_delta(t):\n",
    "    t1, t2 = t\n",
    "    delta = t2 - t1\n",
    "    return delta.total_seconds()/60\n",
    "\n",
    "def data_processing(order_data):\n",
    "    order_data = order_data.loc[order_data['store_id'] != 999]\n",
    "    order_data = pd.merge(order_data, m_store, on='store_id', how='left')\n",
    "    order_data = pd.merge(order_data, m_area, on='area_cd', how='left')\n",
    "    order_data.loc[order_data['takeout_flag'] == 0, 'takeout_name'] = 'デリバリー'\n",
    "    order_data.loc[order_data['takeout_flag'] == 1, 'takeout_name'] = 'お持ち帰り'\n",
    "    order_data.loc[order_data['status'] == 0, 'status_name'] = '受付'\n",
    "    order_data.loc[order_data['status'] == 1, 'status_name'] = 'お支払済'\n",
    "    order_data.loc[order_data['status'] == 2, 'status_name'] = 'お渡し済'\n",
    "    order_data.loc[order_data['status'] == 9, 'status_name'] = 'キャンセル'\n",
    "    \n",
    "    order_data.loc[:,'order_accept_datetime'] = pd.to_datetime(order_data['order_accept_date'])\n",
    "    order_data.loc[:,'delivered_datetime'] = pd.to_datetime(order_data['delivered_date'])\n",
    "    order_data.loc[:,'delta'] = order_data[['order_accept_datetime', 'delivered_datetime']].apply(calc_delta, axis=1)\n",
    "    order_data.loc[:,'order_accept_hour'] = order_data['order_accept_datetime'].dt.hour\n",
    "    order_data.loc[:,'order_accept_weekday'] = order_data['order_accept_datetime'].dt.weekday\n",
    "    order_data.loc[order_data['order_accept_weekday'] >= 5, 'weekday_info'] = '休日'\n",
    "    order_data.loc[order_data['order_accept_weekday'] < 5, 'weekday_info'] = '平日'\n",
    "    \n",
    "    store_data = order_data.groupby(['store_name']).count()[['order_id']]\n",
    "    store_f = order_data.loc[(order_data['status_name']==\"お渡し済\")|\n",
    "                             (order_data['status_name']==\"お支払済\")].groupby(['store_name']).count()[['order_id']]\n",
    "    store_c = order_data.loc[order_data['status_name']==\"キャンセル\"].groupby(['store_name']).count()[['order_id']]\n",
    "    store_d = order_data.loc[order_data['takeout_name']==\"デリバリー\"].groupby(['store_name']).count()[['order_id']]\n",
    "    store_t = order_data.loc[order_data['takeout_name']==\"お持ち帰り\"].groupby(['store_name']).count()[['order_id']]\n",
    "    store_weekday = order_data.loc[order_data['weekday_info']==\"平日\"].groupby(['store_name']).count()[['order_id']]\n",
    "    store_weekend = order_data.loc[order_data['weekday_info']==\"休日\"].groupby(['store_name']).count()[['order_id']]\n",
    "    times = order_data['order_accept_hour'].unique()\n",
    "    store_time = []\n",
    "    for time in times:\n",
    "        time_tmp = order_data.loc[order_data['order_accept_hour']==time].groupby(['store_name']).count()[['order_id']]\n",
    "        time_tmp.columns = [f'order_time_{time}']\n",
    "        store_time.append(time_tmp)\n",
    "    store_time = pd.concat(store_time, axis=1)\n",
    "    store_delta = order_data.loc[order_data['status_name']!=\"キャンセル\"].groupby(['store_name']).mean()[['delta']]\n",
    "    store_data.columns = ['order']\n",
    "    store_f.columns = ['order_fin']\n",
    "    store_c.columns = ['order_cancel']\n",
    "    store_d.columns = ['order_delivery']\n",
    "    store_t.columns = ['order_takeout']\n",
    "    store_delta.columns = ['delta_avg']\n",
    "    store_weekday.columns = ['order_weekday']\n",
    "    store_weekend.columns = ['order_weekend']\n",
    "    store_data = pd.concat([store_data, store_f, store_c, store_d, store_t, \n",
    "                        store_weekday, store_weekend, store_time, store_delta], axis=1)\n",
    "    return store_data"
   ]
  },
  {
   "cell_type": "code",
   "execution_count": 43,
   "metadata": {},
   "outputs": [
    {
     "data": {
      "text/html": [
       "<div>\n",
       "<style scoped>\n",
       "    .dataframe tbody tr th:only-of-type {\n",
       "        vertical-align: middle;\n",
       "    }\n",
       "\n",
       "    .dataframe tbody tr th {\n",
       "        vertical-align: top;\n",
       "    }\n",
       "\n",
       "    .dataframe thead th {\n",
       "        text-align: right;\n",
       "    }\n",
       "</style>\n",
       "<table border=\"1\" class=\"dataframe\">\n",
       "  <thead>\n",
       "    <tr style=\"text-align: right;\">\n",
       "      <th></th>\n",
       "      <th>store_name</th>\n",
       "      <th>order</th>\n",
       "      <th>order_fin</th>\n",
       "      <th>order_cancel</th>\n",
       "      <th>order_delivery</th>\n",
       "      <th>order_takeout</th>\n",
       "      <th>order_weekday</th>\n",
       "      <th>order_weekend</th>\n",
       "      <th>order_time_11</th>\n",
       "      <th>order_time_12</th>\n",
       "      <th>...</th>\n",
       "      <th>order_time_14</th>\n",
       "      <th>order_time_15</th>\n",
       "      <th>order_time_16</th>\n",
       "      <th>order_time_17</th>\n",
       "      <th>order_time_18</th>\n",
       "      <th>order_time_19</th>\n",
       "      <th>order_time_20</th>\n",
       "      <th>order_time_21</th>\n",
       "      <th>delta_avg</th>\n",
       "      <th>year_month</th>\n",
       "    </tr>\n",
       "  </thead>\n",
       "  <tbody>\n",
       "    <tr>\n",
       "      <th>0</th>\n",
       "      <td>あきる野店</td>\n",
       "      <td>1147</td>\n",
       "      <td>945</td>\n",
       "      <td>202</td>\n",
       "      <td>848</td>\n",
       "      <td>299</td>\n",
       "      <td>842</td>\n",
       "      <td>305</td>\n",
       "      <td>92</td>\n",
       "      <td>125</td>\n",
       "      <td>...</td>\n",
       "      <td>101</td>\n",
       "      <td>97</td>\n",
       "      <td>105</td>\n",
       "      <td>103</td>\n",
       "      <td>97</td>\n",
       "      <td>110</td>\n",
       "      <td>109</td>\n",
       "      <td>96</td>\n",
       "      <td>34.520635</td>\n",
       "      <td>202004</td>\n",
       "    </tr>\n",
       "  </tbody>\n",
       "</table>\n",
       "<p>1 rows × 21 columns</p>\n",
       "</div>"
      ],
      "text/plain": [
       "  store_name  order  order_fin  order_cancel  order_delivery  order_takeout  \\\n",
       "0      あきる野店   1147        945           202             848            299   \n",
       "\n",
       "   order_weekday  order_weekend  order_time_11  order_time_12  ...  \\\n",
       "0            842            305             92            125  ...   \n",
       "\n",
       "   order_time_14  order_time_15  order_time_16  order_time_17  order_time_18  \\\n",
       "0            101             97            105            103             97   \n",
       "\n",
       "   order_time_19  order_time_20  order_time_21  delta_avg  year_month  \n",
       "0            110            109             96  34.520635      202004  \n",
       "\n",
       "[1 rows x 21 columns]"
      ]
     },
     "execution_count": 43,
     "metadata": {},
     "output_type": "execute_result"
    }
   ],
   "source": [
    "store_data = data_processing(target_data)\n",
    "store_data.reset_index(drop=False, inplace=True)\n",
    "store_data.loc[:, \"year_month\"] = tg_ym\n",
    "store_data.head(1)"
   ]
  },
  {
   "cell_type": "markdown",
   "metadata": {},
   "source": [
    "### ノック８３：月次店舗データの更新をしよう"
   ]
  },
  {
   "cell_type": "code",
   "execution_count": 44,
   "metadata": {},
   "outputs": [
    {
     "name": "stdout",
     "output_type": "stream",
     "text": [
      "更新前：2535件\n",
      "更新後：2535件\n"
     ]
    }
   ],
   "source": [
    "store_monthly_data = pd.read_csv(os.path.join(store_monthly_dir, store_monthly_file))\n",
    "print(f'更新前：{len(store_monthly_data)}件')\n",
    "store_monthly_data = pd.concat([store_monthly_data, store_data], ignore_index=True)\n",
    "store_monthly_data.loc[:, \"year_month\"] = store_monthly_data[\"year_month\"].astype(str)\n",
    "store_monthly_data.drop_duplicates(subset=[\"store_name\", \"year_month\"], inplace=True, keep=\"last\")\n",
    "print(f'更新後：{len(store_monthly_data)}件')\n",
    "store_monthly_data.to_csv(os.path.join(store_monthly_dir, store_monthly_file), index=False)"
   ]
  },
  {
   "cell_type": "code",
   "execution_count": null,
   "metadata": {},
   "outputs": [],
   "source": []
  },
  {
   "cell_type": "markdown",
   "metadata": {},
   "source": [
    "### ノック８４：機械学習用データの作成と更新をしよう"
   ]
  },
  {
   "cell_type": "code",
   "execution_count": 45,
   "metadata": {},
   "outputs": [
    {
     "data": {
      "text/html": [
       "<div>\n",
       "<style scoped>\n",
       "    .dataframe tbody tr th:only-of-type {\n",
       "        vertical-align: middle;\n",
       "    }\n",
       "\n",
       "    .dataframe tbody tr th {\n",
       "        vertical-align: top;\n",
       "    }\n",
       "\n",
       "    .dataframe thead th {\n",
       "        text-align: right;\n",
       "    }\n",
       "</style>\n",
       "<table border=\"1\" class=\"dataframe\">\n",
       "  <thead>\n",
       "    <tr style=\"text-align: right;\">\n",
       "      <th></th>\n",
       "      <th>store_name</th>\n",
       "      <th>y_weekday</th>\n",
       "      <th>y_weekend</th>\n",
       "      <th>order</th>\n",
       "      <th>order_fin</th>\n",
       "      <th>order_cancel</th>\n",
       "      <th>order_delivery</th>\n",
       "      <th>order_takeout</th>\n",
       "      <th>order_weekday</th>\n",
       "      <th>order_weekend</th>\n",
       "      <th>...</th>\n",
       "      <th>order_time_14</th>\n",
       "      <th>order_time_15</th>\n",
       "      <th>order_time_16</th>\n",
       "      <th>order_time_17</th>\n",
       "      <th>order_time_18</th>\n",
       "      <th>order_time_19</th>\n",
       "      <th>order_time_20</th>\n",
       "      <th>order_time_21</th>\n",
       "      <th>delta_avg</th>\n",
       "      <th>year_month</th>\n",
       "    </tr>\n",
       "  </thead>\n",
       "  <tbody>\n",
       "    <tr>\n",
       "      <th>0</th>\n",
       "      <td>あきる野店</td>\n",
       "      <td>1.0</td>\n",
       "      <td>NaN</td>\n",
       "      <td>1147</td>\n",
       "      <td>945</td>\n",
       "      <td>202</td>\n",
       "      <td>841</td>\n",
       "      <td>306</td>\n",
       "      <td>844</td>\n",
       "      <td>303</td>\n",
       "      <td>...</td>\n",
       "      <td>101</td>\n",
       "      <td>95</td>\n",
       "      <td>107</td>\n",
       "      <td>106</td>\n",
       "      <td>100</td>\n",
       "      <td>108</td>\n",
       "      <td>109</td>\n",
       "      <td>96</td>\n",
       "      <td>34.110053</td>\n",
       "      <td>201904</td>\n",
       "    </tr>\n",
       "    <tr>\n",
       "      <th>1</th>\n",
       "      <td>さいたま南店</td>\n",
       "      <td>1.0</td>\n",
       "      <td>0.0</td>\n",
       "      <td>1504</td>\n",
       "      <td>1217</td>\n",
       "      <td>287</td>\n",
       "      <td>1105</td>\n",
       "      <td>399</td>\n",
       "      <td>1104</td>\n",
       "      <td>400</td>\n",
       "      <td>...</td>\n",
       "      <td>143</td>\n",
       "      <td>142</td>\n",
       "      <td>137</td>\n",
       "      <td>130</td>\n",
       "      <td>113</td>\n",
       "      <td>140</td>\n",
       "      <td>132</td>\n",
       "      <td>155</td>\n",
       "      <td>35.337716</td>\n",
       "      <td>201904</td>\n",
       "    </tr>\n",
       "    <tr>\n",
       "      <th>2</th>\n",
       "      <td>さいたま緑店</td>\n",
       "      <td>1.0</td>\n",
       "      <td>0.0</td>\n",
       "      <td>1028</td>\n",
       "      <td>847</td>\n",
       "      <td>181</td>\n",
       "      <td>756</td>\n",
       "      <td>272</td>\n",
       "      <td>756</td>\n",
       "      <td>272</td>\n",
       "      <td>...</td>\n",
       "      <td>95</td>\n",
       "      <td>102</td>\n",
       "      <td>82</td>\n",
       "      <td>90</td>\n",
       "      <td>93</td>\n",
       "      <td>95</td>\n",
       "      <td>95</td>\n",
       "      <td>84</td>\n",
       "      <td>34.291617</td>\n",
       "      <td>201904</td>\n",
       "    </tr>\n",
       "  </tbody>\n",
       "</table>\n",
       "<p>3 rows × 23 columns</p>\n",
       "</div>"
      ],
      "text/plain": [
       "  store_name  y_weekday  y_weekend  order  order_fin  order_cancel  \\\n",
       "0      あきる野店        1.0        NaN   1147        945           202   \n",
       "1     さいたま南店        1.0        0.0   1504       1217           287   \n",
       "2     さいたま緑店        1.0        0.0   1028        847           181   \n",
       "\n",
       "   order_delivery  order_takeout  order_weekday  order_weekend  ...  \\\n",
       "0             841            306            844            303  ...   \n",
       "1            1105            399           1104            400  ...   \n",
       "2             756            272            756            272  ...   \n",
       "\n",
       "   order_time_14  order_time_15  order_time_16  order_time_17  order_time_18  \\\n",
       "0            101             95            107            106            100   \n",
       "1            143            142            137            130            113   \n",
       "2             95            102             82             90             93   \n",
       "\n",
       "   order_time_19  order_time_20  order_time_21  delta_avg  year_month  \n",
       "0            108            109             96  34.110053      201904  \n",
       "1            140            132            155  35.337716      201904  \n",
       "2             95             95             84  34.291617      201904  \n",
       "\n",
       "[3 rows x 23 columns]"
      ]
     },
     "execution_count": 45,
     "metadata": {},
     "output_type": "execute_result"
    }
   ],
   "source": [
    "from dateutil.relativedelta import relativedelta\n",
    "y = store_monthly_data[[\"store_name\", \"year_month\", \"order_weekday\", \"order_weekend\"]].copy()\n",
    "y.loc[:, \"one_month_ago\"] = pd.to_datetime(y[\"year_month\"], format=\"%Y%m\")\n",
    "y.loc[:, \"one_month_ago\"] = y[\"one_month_ago\"].map(lambda x: x - relativedelta(months=1))\n",
    "y.loc[:, \"one_month_ago\"] = y[\"one_month_ago\"].dt.strftime(\"%Y%m\")\n",
    "\n",
    "y_one_month_ago = y.copy()\n",
    "y_one_month_ago.rename(columns={\"order_weekday\":\"order_weekday_one_month_ago\", \"order_weekend\":\"order_weekend_one_month_ago\", \"year_month\":\"year_month_for_join\"}, inplace=True)\n",
    "\n",
    "y = pd.merge(y, y_one_month_ago[[\"store_name\", \"year_month_for_join\", \"order_weekday_one_month_ago\", \"order_weekend_one_month_ago\"]], left_on=[\"store_name\", \"one_month_ago\"], right_on=[\"store_name\", \"year_month_for_join\"], how=\"left\")\n",
    "\n",
    "y.dropna(inplace=True)\n",
    "y.loc[y[\"order_weekday\"] - y[\"order_weekday_one_month_ago\"] > 0, \"y_weekday\"] = 1\n",
    "y.loc[y[\"order_weekday\"] - y[\"order_weekday_one_month_ago\"] <= 0, \"y_weekday\"] = 0\n",
    "y.loc[y[\"order_weekend\"] - y[\"order_weekend_one_month_ago\"] > 0, \"y_weekend\"] = 1\n",
    "y.loc[y[\"order_weekend\"] - y[\"order_weekend_one_month_ago\"] > 0, \"y_weekend\"] = 0\n",
    "\n",
    "y.rename(columns={\"year_month\":\"target_year_month\"}, inplace=True)\n",
    "y = y[[\"store_name\", \"target_year_month\", \"one_month_ago\", \"y_weekday\", \"y_weekend\"]].copy()\n",
    "ml_data = pd.merge(y, store_monthly_data, left_on=[\"store_name\", \"one_month_ago\"], right_on=[\"store_name\", \"year_month\"], how=\"left\")\n",
    "\n",
    "del ml_data[\"target_year_month\"]\n",
    "del ml_data[\"one_month_ago\"]\n",
    "ml_data.head(3)\n"
   ]
  },
  {
   "cell_type": "code",
   "execution_count": null,
   "metadata": {},
   "outputs": [],
   "source": []
  },
  {
   "cell_type": "code",
   "execution_count": 46,
   "metadata": {},
   "outputs": [
    {
     "name": "stdout",
     "output_type": "stream",
     "text": [
      "更新前：2145件\n",
      "更新後：2340件\n"
     ]
    }
   ],
   "source": [
    "ml_base_data = pd.read_csv(os.path.join(ml_base_dir, ml_base_file))\n",
    "print(f'更新前：{len(ml_base_data)}件')\n",
    "ml_base_data = pd.concat([ml_base_data, ml_data], ignore_index=True)\n",
    "ml_base_data.loc[:, \"year_month\"] = ml_base_data[\"year_month\"].astype(str)\n",
    "ml_base_data.drop_duplicates(subset=[\"store_name\", \"year_month\"], inplace=True, keep=\"last\")\n",
    "print(f'更新後：{len(ml_base_data)}件')\n",
    "ml_base_data.to_csv(os.path.join(ml_base_dir, ml_base_file), index=False)"
   ]
  },
  {
   "cell_type": "markdown",
   "metadata": {},
   "source": [
    "### ノック８５：機械学習モデル用の事前データ加工をしよう"
   ]
  },
  {
   "cell_type": "code",
   "execution_count": null,
   "metadata": {},
   "outputs": [],
   "source": []
  },
  {
   "cell_type": "code",
   "execution_count": null,
   "metadata": {},
   "outputs": [],
   "source": []
  },
  {
   "cell_type": "markdown",
   "metadata": {},
   "source": [
    "### ノック８６：機械学習モデルの構築・評価をしよう"
   ]
  },
  {
   "cell_type": "code",
   "execution_count": null,
   "metadata": {},
   "outputs": [],
   "source": []
  },
  {
   "cell_type": "code",
   "execution_count": null,
   "metadata": {},
   "outputs": [],
   "source": []
  },
  {
   "cell_type": "markdown",
   "metadata": {},
   "source": [
    "### ノック８７：新規データ予測に向けた下準備をしよう"
   ]
  },
  {
   "cell_type": "code",
   "execution_count": null,
   "metadata": {},
   "outputs": [],
   "source": []
  },
  {
   "cell_type": "code",
   "execution_count": null,
   "metadata": {},
   "outputs": [],
   "source": []
  },
  {
   "cell_type": "markdown",
   "metadata": {},
   "source": [
    "### ノック８８：新規データの予測をしよう"
   ]
  },
  {
   "cell_type": "code",
   "execution_count": null,
   "metadata": {},
   "outputs": [],
   "source": []
  },
  {
   "cell_type": "code",
   "execution_count": null,
   "metadata": {},
   "outputs": [],
   "source": []
  },
  {
   "cell_type": "markdown",
   "metadata": {},
   "source": [
    "### ノック８９：現場向けレポートを作成し出力しよう"
   ]
  },
  {
   "cell_type": "code",
   "execution_count": null,
   "metadata": {},
   "outputs": [],
   "source": []
  },
  {
   "cell_type": "code",
   "execution_count": null,
   "metadata": {},
   "outputs": [],
   "source": []
  },
  {
   "cell_type": "markdown",
   "metadata": {},
   "source": [
    "#### ＊＊次ノックに行く前に、ノック81のtg_ymを、202005、202006、202007、202008の順番に指定し、実行してください。＊＊"
   ]
  },
  {
   "cell_type": "markdown",
   "metadata": {},
   "source": [
    "### ノック９０：機械学習モデルの精度推移を可視化しよう"
   ]
  },
  {
   "cell_type": "code",
   "execution_count": null,
   "metadata": {},
   "outputs": [],
   "source": []
  },
  {
   "cell_type": "code",
   "execution_count": null,
   "metadata": {},
   "outputs": [],
   "source": []
  }
 ],
 "metadata": {
  "kernelspec": {
   "display_name": "Python 3.10.6 ('base')",
   "language": "python",
   "name": "python3"
  },
  "language_info": {
   "codemirror_mode": {
    "name": "ipython",
    "version": 3
   },
   "file_extension": ".py",
   "mimetype": "text/x-python",
   "name": "python",
   "nbconvert_exporter": "python",
   "pygments_lexer": "ipython3",
   "version": "3.10.6"
  },
  "vscode": {
   "interpreter": {
    "hash": "d4d1e4263499bec80672ea0156c357c1ee493ec2b1c70f0acce89fc37c4a6abe"
   }
  }
 },
 "nbformat": 4,
 "nbformat_minor": 4
}
